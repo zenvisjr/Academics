{
 "cells": [
  {
   "cell_type": "markdown",
   "metadata": {},
   "source": [
    "# SMAI Assignment - 2\n",
    "\n",
    "## Question 3: Face Recognition using Principal Component Analysis\n",
    "\n",
    "This question requires you to create a basic facial recognition system using a technique called principal component analysis (PCA) \n",
    "by projecting the face images on the feature space (face space) which best\n",
    "represents the variations among distinct faces. The face space is defined as the\n",
    "“Eigenfaces\", which are the eigenvectors of the set of faces.\n",
    "\n",
    "The goal of implementing this system is to recognize a person's face by comparing it to a pre-existing database of faces, and identifying the closest match.\n",
    "\n",
    "Link to paper on Eigenfaces: [https://sites.cs.ucsb.edu/~mturk/Papers/mturk-CVPR91.pdf](https://sites.cs.ucsb.edu/~mturk/Papers/mturk-CVPR91.pdf)\n",
    "\n",
    "The AT&T face dataset contains a set of grayscale face images with dimensions 92x112. The images are organised in 40 directories (one for each subject), which have names of the form sX, where X indicates the subject number (between 1 and 40). In each of these directories, there are ten different images of that subject, which have names of the form Y.pgm, where Y is the image number for that subject (between 1 and 10). These 10 images per person are taken at different times, varying the lighting, facial expressions (open / closed eyes, smiling / not smiling) and facial details (glasses / no glasses). All the images were taken against a dark homogeneous background with the subjects in an upright, frontal position (with tolerance for some side movement). <b>Link:</b> [https://git-disl.github.io/GTDLBench/datasets/att_face_dataset/](https://git-disl.github.io/GTDLBench/datasets/att_face_dataset/)"
   ]
  },
  {
   "cell_type": "markdown",
   "metadata": {},
   "source": [
    "#### Tasks\n",
    "1. Load dataset and divide the date into training and test sets. \n",
    "2. Implement the PCA algorithm from scratch.\n",
    "3. Implement image reconstruction using the eigen projections and visualise differences for different number of components.\n",
    "4. Visualise the mean(Eigen face) generated.\n",
    "5. Given training set, obtain accuracy by attempting a face regonition module and obtaining the accuracy for different number of principal components."
   ]
  },
  {
   "cell_type": "markdown",
   "metadata": {
    "id": "B4GItm3SaGkm"
   },
   "source": [
    "#### Import Libraries"
   ]
  },
  {
   "cell_type": "code",
   "execution_count": null,
   "metadata": {
    "id": "5V5H-w1KT9Q_"
   },
   "outputs": [],
   "source": [
    "import numpy as np\n",
    "import matplotlib.pyplot as plt\n",
    "import os, sys\n",
    "import cv2\n",
    "from copy import copy\n",
    "from tqdm import tqdm"
   ]
  },
  {
   "cell_type": "markdown",
   "metadata": {
    "id": "06BxLpbDaLm4"
   },
   "source": [
    "#### Import Dataset\n",
    "Assign labels for the images based on the subdirectories to obtain X(images array) and y (labels).\n",
    "\n",
    "Ensure that the test data contains atleast one image from each category."
   ]
  },
  {
   "cell_type": "code",
   "execution_count": null,
   "metadata": {
    "id": "9vERWwtKc51W"
   },
   "outputs": [],
   "source": [
    "# iterate through all folders, load each image\n",
    "\n",
    "trainAmt = 0.9\n",
    "allFaces = []\n",
    "labels = []\n",
    "\n",
    "for i in range(1,41):\n",
    "    for j in range(1,11):\n",
    "        imgPath = os.path.join(\"ATnT\", \"s\" + str(i), str(j) + \".pgm\")\n",
    "        img = cv2.imread(imgPath, -1)\n",
    "\n",
    "        allFaces.append(img)\n",
    "        labels.append(i)\n",
    "\n",
    "# shuffle\n",
    "randomOrder = np.random.permutation(len(labels))\n",
    "allFaces = np.array(allFaces)[randomOrder]\n",
    "labels = np.array(labels)[randomOrder]\n",
    "\n",
    "# split\n",
    "trainFaces = allFaces[:int(trainAmt*len(allFaces))]\n",
    "trainLabels = labels[:int(trainAmt*len(allFaces))]\n",
    "\n",
    "testFaces = allFaces[int(trainAmt*len(allFaces)): ]\n",
    "testLabels = labels[int(trainAmt*len(allFaces)): ]\n",
    "\n",
    "# 112x92 (= 10304) grayscale images,  360 in train, 40 in test\n",
    "print(trainFaces.shape, trainLabels.shape)"
   ]
  },
  {
   "cell_type": "markdown",
   "metadata": {
    "id": "TSzQYsRoc8N1"
   },
   "source": [
    "#### Implement PCA Algorithm."
   ]
  },
  {
   "cell_type": "markdown",
   "metadata": {
    "id": "n3Kwdw6GpKqr"
   },
   "source": [
    "Explain your steps with comments and write a brief explanation of the method."
   ]
  },
  {
   "cell_type": "code",
   "execution_count": null,
   "metadata": {
    "id": "8T5UAxCZc7kz"
   },
   "outputs": [],
   "source": [
    "def principalComponentAnalysis(X, numComponents):\n",
    "    # Step 1: Mean normalization\n",
    "    mean_face = np.mean(X, axis=0)\n",
    "    X_normalized = X - mean_face\n",
    "    \n",
    "    # Step 2: Compute Covariance Matrix\n",
    "    covariance_matrix = np.cov(X_normalized.T)\n",
    "    \n",
    "    # Step 3: Compute Eigenvectors and Eigenvalues\n",
    "    eigenvalues, eigenvectors = np.linalg.eig(covariance_matrix)\n",
    "    \n",
    "    # Step 4: Select Top Eigenfaces\n",
    "    # Sort eigenvectors based on eigenvalues in descending order\n",
    "    idx = np.argsort(eigenvalues)[::-1]\n",
    "    top_eigenvectors = eigenvectors[:, idx[:numComponents]]\n",
    "    \n",
    "    # Step 5: Project Data onto Eigenfaces\n",
    "    eigenfaces = np.dot(X_normalized.T, top_eigenvectors)\n",
    "\n",
    "    \n",
    "    return eigenfaces"
   ]
  },
  {
   "cell_type": "code",
   "execution_count": null,
   "metadata": {},
   "outputs": [],
   "source": []
  },
  {
   "cell_type": "code",
   "execution_count": null,
   "metadata": {},
   "outputs": [],
   "source": [
    "import matplotlib.pyplot as plt\n",
    "\n",
    "# plot the eigen faces\n",
    "def plot_eigenfaces(eigenfaces, num_components):\n",
    "    num_eigenfaces_to_plot = min(num_components, 10)  # Plot at most 10 eigenfaces\n",
    "    fig, axes = plt.subplots(2, 5, figsize=(12, 6))\n",
    "    for i in range(num_eigenfaces_to_plot):\n",
    "        ax = axes[i // 5, i % 5]\n",
    "        eigenface = eigenfaces[:, i].reshape(112, 92)  # Assuming original image shape is 112x92\n",
    "        ax.imshow(eigenface, cmap='gray')\n",
    "        ax.set_title(f'Eigenface {i+1}')\n",
    "        ax.axis('off')\n",
    "\n",
    "    plt.tight_layout()\n",
    "    plt.show()\n",
    "\n",
    "# Example usage:\n",
    "# eigenfaces = principalComponentAnalysis(trainFaces.reshape(-1, 10304), numComponents)\n",
    "# plot_eigenfaces(eigenfaces, numComponents)\n",
    "\n"
   ]
  },
  {
   "cell_type": "code",
   "execution_count": null,
   "metadata": {},
   "outputs": [],
   "source": [
    "# Number of principal components\n",
    "numComponents = 50  # Adjust this number as needed\n",
    "\n",
    "# Call PCA function to compute eigenfaces\n",
    "eigenfaces = principalComponentAnalysis(trainFaces.reshape(-1, 10304), numComponents)\n",
    "\n",
    "# Plot the eigenfaces\n",
    "plot_eigenfaces(eigenfaces, numComponents)"
   ]
  },
  {
   "cell_type": "markdown",
   "metadata": {
    "id": "h0R6r1oPkEGo"
   },
   "source": [
    "#### Implement Image Reconstruction from Eigenfaces\n"
   ]
  },
  {
   "cell_type": "code",
   "execution_count": null,
   "metadata": {},
   "outputs": [],
   "source": []
  },
  {
   "cell_type": "markdown",
   "metadata": {
    "id": "L23jDvURpqzH"
   },
   "source": [
    "Explain your steps with comments and write a brief explanation of the method."
   ]
  },
  {
   "cell_type": "code",
   "execution_count": null,
   "metadata": {
    "id": "-4UJN0pGkfw_"
   },
   "outputs": [],
   "source": [
    "def imageReconstruction(testFace, eigenFaces, meanFace):\n",
    "    \"\"\"\n",
    "    Helper function to reconstruct images\n",
    "    \"\"\"\n",
    "    # Step 1: Project test image onto eigenfaces subspace\n",
    "    normalized_test_face = testFace - meanFace\n",
    "    image_projection = np.dot(normalized_test_face, eigenFaces)\n",
    "    \n",
    "    # Step 2: Reconstruct image from projected coefficients\n",
    "    reconstructed_image = meanFace + np.dot(image_projection, eigenFaces.T)\n",
    "    \n",
    "    return reconstructed_image\n",
    "\n",
    "# Plot graph for reconstructions\n",
    "def plot_reconstructions(original_images, reconstructed_images):\n",
    "    num_images = len(original_images)\n",
    "    fig, axes = plt.subplots(num_images, 2, figsize=(8, 4*num_images))\n",
    "    for i in range(num_images):\n",
    "        axes[i, 0].imshow(original_images[i], cmap='gray')\n",
    "        axes[i, 0].set_title('Original Image')\n",
    "        axes[i, 0].axis('off')\n",
    "        \n",
    "        axes[i, 1].imshow(reconstructed_images[i], cmap='gray')\n",
    "        axes[i, 1].set_title('Reconstructed Image')\n",
    "        axes[i, 1].axis('off')\n",
    "    \n",
    "    plt.tight_layout()\n",
    "    plt.show()\n",
    "\n",
    "# Example usage:\n",
    "# Choose some test images for reconstruction\n",
    "test_indices = [0, 1, 2]  # For example, reconstruct the first three test images\n",
    "\n",
    "# Reconstruct the images\n",
    "reconstructed_images = []\n",
    "for idx in test_indices:\n",
    "    reconstructed_image = imageReconstruction(testFaces[idx].flatten(), eigenfaces, mean_face).reshape(112, 92)\n",
    "    reconstructed_images.append(reconstructed_image)\n",
    "\n",
    "# Plot the original and reconstructed images\n",
    "original_images = [testFaces[idx] for idx in test_indices]\n",
    "plot_reconstructions(original_images, reconstructed_images)\n"
   ]
  },
  {
   "cell_type": "code",
   "execution_count": null,
   "metadata": {},
   "outputs": [],
   "source": []
  },
  {
   "cell_type": "markdown",
   "metadata": {
    "id": "5ESijWfFdE7E"
   },
   "source": [
    "#### Visualisation\n",
    "Visualise the results for different number of factors(pc = 5, 10, 50, 100, etc.)\n",
    "\n",
    "**Note:** Ensure that the images are labelled appropriately."
   ]
  },
  {
   "cell_type": "code",
   "execution_count": null,
   "metadata": {
    "id": "88Ygxo9fedW0"
   },
   "outputs": [],
   "source": [
    "%matplotlib inline\n",
    "\n",
    "def displayNfactors(testFaces, eigenfaces, mean_face):\n",
    "    num_factors = [5, 10, 50, 100]  # Example numbers of principal components to visualize\n",
    "    \n",
    "    for num_components in num_factors:\n",
    "        # Reconstruct the images\n",
    "        reconstructed_images = []\n",
    "        for testFace in testFaces:\n",
    "            reconstructed_image = imageReconstruction(testFace.flatten(), eigenfaces, mean_face).reshape(112, 92)\n",
    "            reconstructed_images.append(reconstructed_image)\n",
    "\n",
    "        # Plot the original and reconstructed images\n",
    "        plot_reconstructions(testFaces, reconstructed_images, num_components)\n",
    "\n",
    "# Example usage:\n",
    "displayNfactors(testFaces, eigenfaces, mean_face)\n"
   ]
  },
  {
   "cell_type": "markdown",
   "metadata": {
    "id": "Ssr9clIiecwq"
   },
   "source": [
    "#### Implement face recognition module based on the norm\n",
    "Explain your steps with comments and write a brief explanation of the method.\n",
    "\n",
    "*   Test the module and report accuracies based on the number of components taken for a range of value and plot them. \n",
    "*   Also plot the mean square error vs the number of eigenvectors taken and report your observations. \n",
    "*   For further empirical analysis, plot the semi-log variant of the error plot obtained above."
   ]
  },
  {
   "cell_type": "code",
   "execution_count": null,
   "metadata": {
    "id": "2ONCbWfbecAp"
   },
   "outputs": [],
   "source": [
    "def getClass(test_image, eigenfaces, mean_face, X_train, y_train):\n",
    "    \"\"\"\n",
    "    Arguments:\n",
    "    test_image: Test image to be recognized\n",
    "    eigenfaces: Eigenfaces obtained from PCA\n",
    "    mean_face: Mean eigenface\n",
    "    X_train: Training set images\n",
    "    y_train: Training set labels\n",
    "\n",
    "    Returns:\n",
    "    closest_match: Closest matching image from the training set\n",
    "    error: Error value (Euclidean distance) between the test image and the closest match\n",
    "    prediction: Predicted class label for the test image\n",
    "    \"\"\"\n",
    "    # Project test image onto eigenfaces subspace\n",
    "    normalized_test_face = test_image - mean_face\n",
    "    test_projection = np.dot(normalized_test_face, eigenfaces)\n",
    "    \n",
    "    # Compute error for each training image\n",
    "    errors = []\n",
    "    for i in range(len(X_train)):\n",
    "        train_face = X_train[i].flatten()\n",
    "        normalized_train_face = train_face - mean_face\n",
    "        train_projection = np.dot(normalized_train_face, eigenfaces)\n",
    "        error = np.linalg.norm(test_projection - train_projection)  # Euclidean distance\n",
    "        errors.append(error)\n",
    "    \n",
    "    # Find the closest match\n",
    "    closest_index = np.argmin(errors)\n",
    "    closest_match = X_train[closest_index]\n",
    "    error = errors[closest_index]\n",
    "    prediction = y_train[closest_index]\n",
    "    \n",
    "    return closest_match, error, prediction\n",
    "\n",
    "# Test the module and report accuracies\n",
    "def test_face_recognition(testFaces, eigenfaces, mean_face, X_train, y_train, components):\n",
    "    accuracies = []\n",
    "    mse = []\n",
    "\n",
    "    for numComponents in components:\n",
    "        # Reconstruct training and test images using numComponents\n",
    "        reconstructed_train_faces = []\n",
    "        for trainFace in X_train:\n",
    "            reconstructed_train_face = imageReconstruction(trainFace.flatten(), eigenfaces, mean_face, numComponents).reshape(112, 92)\n",
    "            reconstructed_train_faces.append(reconstructed_train_face)\n",
    "        \n",
    "        reconstructed_test_faces = []\n",
    "        for testFace in testFaces:\n",
    "            reconstructed_test_face = imageReconstruction(testFace.flatten(), eigenfaces, mean_face, numComponents).reshape(112, 92)\n",
    "            reconstructed_test_faces.append(reconstructed_test_face)\n",
    "        \n",
    "        # Compute accuracy\n",
    "        correct_predictions = 0\n",
    "        errors = []\n",
    "        for i, testFace in enumerate(testFaces):\n",
    "            closest_match, error, prediction = getClass(testFace.flatten(), eigenfaces, mean_face, X_train, y_train)\n",
    "            errors.append(error)\n",
    "            if prediction == testLabels[i]:\n",
    "                correct_predictions += 1\n",
    "        \n",
    "        accuracy = correct_predictions / len(testFaces)\n",
    "        accuracies.append(accuracy)\n",
    "        \n",
    "        # Compute mean square error (MSE)\n",
    "        mse_value = np.mean(np.square(np.array(testFaces) - np.array(reconstructed_test_faces)))\n",
    "        mse.append(mse_value)\n",
    "        \n",
    "    return accuracies, mse\n",
    "\n",
    "# Plot the results\n",
    "def plot_results(components, accuracies, mse):\n",
    "    plt.figure(figsize=(12, 6))\n",
    "    \n",
    "    # Plot accuracies vs. number of components\n",
    "    plt.subplot(1, 2, 1)\n",
    "    plt.plot(components, accuracies, marker='o', linestyle='-')\n",
    "    plt.title('Accuracy vs. Number of Components')\n",
    "    plt.xlabel('Number of Components')\n",
    "    plt.ylabel('Accuracy')\n",
    "    plt.grid(True)\n",
    "    \n",
    "    # Plot MSE vs. number of components\n",
    "    plt.subplot(1, 2, 2)\n",
    "    plt.plot(components, mse, marker='o', linestyle='-')\n",
    "    plt.title('Mean Square Error vs. Number of Components')\n",
    "    plt.xlabel('Number of Components')\n",
    "    plt.ylabel('Mean Square Error')\n",
    "    plt.grid(True)\n",
    "    \n",
    "    plt.tight_layout()\n",
    "    plt.show()\n",
    "\n",
    "# Example usage:\n",
    "components = [3, 5, 10, 20, 30, 40, 50]\n",
    "accuracies, mse = test_face_recognition(testFaces, eigenfaces, mean_face, trainFaces, trainLabels, components)\n",
    "plot_results(components, accuracies, mse)\n"
   ]
  },
  {
   "cell_type": "markdown",
   "metadata": {},
   "source": [
    "Iterate through all the images in the test data and test the accuracy by taking different number of components"
   ]
  },
  {
   "cell_type": "code",
   "execution_count": null,
   "metadata": {
    "id": "UpJV8u-srqAL"
   },
   "outputs": [],
   "source": [
    "components = [3, 5, 10, 20, 30, 40, 50]\n",
    "mse = []\n",
    "\n",
    "for numComponents in components:\n",
    "    # Reconstruct training and test images using numComponents\n",
    "    reconstructed_train_faces = []\n",
    "    for trainFace in trainFaces:\n",
    "        reconstructed_train_face = imageReconstruction(trainFace.flatten(), eigenfaces, mean_face, numComponents).reshape(112, 92)\n",
    "        reconstructed_train_faces.append(reconstructed_train_face)\n",
    "    \n",
    "    reconstructed_test_faces = []\n",
    "    for testFace in testFaces:\n",
    "        reconstructed_test_face = imageReconstruction(testFace.flatten(), eigenfaces, mean_face, numComponents).reshape(112, 92)\n",
    "        reconstructed_test_faces.append(reconstructed_test_face)\n",
    "    \n",
    "    # Compute accuracy\n",
    "    correct_predictions = 0\n",
    "    for i, testFace in enumerate(testFaces):\n",
    "        closest_match, error, prediction = getClass(testFace.flatten(), eigenfaces, mean_face, trainFaces, trainLabels)\n",
    "        if prediction == testLabels[i]:\n",
    "            correct_predictions += 1\n",
    "    \n",
    "    accuracy = correct_predictions / len(testFaces)\n",
    "    \n",
    "    # Compute mean square error (MSE)\n",
    "    mse_value = np.mean(np.square(np.array(testFaces) - np.array(reconstructed_test_faces)))\n",
    "    mse.append(mse_value)\n"
   ]
  },
  {
   "cell_type": "markdown",
   "metadata": {},
   "source": [
    "Plot Number of eigenvectors vs Mean Square Error"
   ]
  },
  {
   "cell_type": "code",
   "execution_count": null,
   "metadata": {
    "id": "dsIWsvdVsAoD"
   },
   "outputs": [],
   "source": [
    "import matplotlib.pyplot as plt\n",
    "\n",
    "# components is the list of numbers of eigenvectors\n",
    "# mse is the list of mean square errors\n",
    "\n",
    "plt.plot(components, mse, marker='o', linestyle='-')\n",
    "plt.title('Number of Eigenvectors vs Mean Square Error')\n",
    "plt.xlabel('Number of Eigenvectors')\n",
    "plt.ylabel('Mean Square Error')\n",
    "plt.grid(True)\n",
    "plt.show()\n"
   ]
  },
  {
   "cell_type": "markdown",
   "metadata": {},
   "source": [
    "Plot Number of eigenvectors vs Logarithmic Mean Square Error"
   ]
  },
  {
   "cell_type": "code",
   "execution_count": null,
   "metadata": {
    "id": "4B1IqwyMsNBF"
   },
   "outputs": [],
   "source": [
    "import matplotlib.pyplot as plt\n",
    "\n",
    "# components is the list of numbers of eigenvectors\n",
    "# mse is the list of mean square errors\n",
    "\n",
    "plt.plot(components, mse, marker='o', linestyle='-')\n",
    "plt.title('Number of Eigenvectors vs Logarithmic Mean Square Error')\n",
    "plt.xlabel('Number of Eigenvectors')\n",
    "plt.ylabel('Logarithmic Mean Square Error')\n",
    "plt.yscale('log')  # Set y-axis scale to logarithmic\n",
    "plt.grid(True)\n",
    "plt.show()\n"
   ]
  },
  {
   "cell_type": "code",
   "execution_count": null,
   "metadata": {},
   "outputs": [],
   "source": []
  },
  {
   "cell_type": "code",
   "execution_count": null,
   "metadata": {},
   "outputs": [],
   "source": []
  }
 ],
 "metadata": {
  "colab": {
   "provenance": []
  },
  "kernelspec": {
   "display_name": "python3.8",
   "language": "python",
   "name": "python3.8"
  },
  "language_info": {
   "codemirror_mode": {
    "name": "ipython",
    "version": 3
   },
   "file_extension": ".py",
   "mimetype": "text/x-python",
   "name": "python",
   "nbconvert_exporter": "python",
   "pygments_lexer": "ipython3",
   "version": "3.8.0"
  }
 },
 "nbformat": 4,
 "nbformat_minor": 4
}
