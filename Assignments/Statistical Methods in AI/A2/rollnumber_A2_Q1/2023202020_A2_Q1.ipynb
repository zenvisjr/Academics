{
 "cells": [
  {
   "cell_type": "markdown",
   "metadata": {
    "id": "blv6XBI5GxO9"
   },
   "source": [
    "# SMAI Assignment - 2\n",
    "\n",
    "## Question 1: Naive Bayes and Clustering\n",
    "\n",
    "### Part 1: Naive Bayes\n",
    "\n",
    "[Files](https://drive.google.com/drive/folders/1OUVrOMp2jSSBDJSqvEyXDFTrhiyZnqit?usp=sharing)\n",
    "\n",
    "You will be performing Sentiment Analysis on a product review dataset with reviews from customers and star rating belonging to four classes (1,2,4,5). You can use sklearn for this question. Your tasks are as follows:\n",
    "\n",
    "1.   Clean the text by removing punctations and preprocess them using techniques such as stop word removal, stemming etc. You can explore anything!\n",
    "1.  Create BoW features using the word counts. You can choose the words that form the features such that the performance is optimised. Use the train-test split provided in `train_test_index.pickle` and report any interesting observations based on metrics such as accurarcy, precision, recall and f1 score (You can use Classification report in sklearn).\n",
    "1. Repeat Task 2 with TfIdf features."
   ]
  },
  {
   "cell_type": "code",
   "execution_count": 1,
   "metadata": {
    "colab": {
     "base_uri": "https://localhost:8080/",
     "height": 177
    },
    "id": "0wtcdkWG8eFO",
    "outputId": "88813aaa-d645-4cd2-d1dc-74e7cdfc20c0"
   },
   "outputs": [
    {
     "data": {
      "text/html": [
       "\n",
       "     <input type=\"file\" id=\"files-3e4fbcdc-acb4-42dc-aabb-82a7812badf3\" name=\"files[]\" multiple disabled\n",
       "        style=\"border:none\" />\n",
       "     <output id=\"result-3e4fbcdc-acb4-42dc-aabb-82a7812badf3\">\n",
       "      Upload widget is only available when the cell has been executed in the\n",
       "      current browser session. Please rerun this cell to enable.\n",
       "      </output>\n",
       "      <script>// Copyright 2017 Google LLC\n",
       "//\n",
       "// Licensed under the Apache License, Version 2.0 (the \"License\");\n",
       "// you may not use this file except in compliance with the License.\n",
       "// You may obtain a copy of the License at\n",
       "//\n",
       "//      http://www.apache.org/licenses/LICENSE-2.0\n",
       "//\n",
       "// Unless required by applicable law or agreed to in writing, software\n",
       "// distributed under the License is distributed on an \"AS IS\" BASIS,\n",
       "// WITHOUT WARRANTIES OR CONDITIONS OF ANY KIND, either express or implied.\n",
       "// See the License for the specific language governing permissions and\n",
       "// limitations under the License.\n",
       "\n",
       "/**\n",
       " * @fileoverview Helpers for google.colab Python module.\n",
       " */\n",
       "(function(scope) {\n",
       "function span(text, styleAttributes = {}) {\n",
       "  const element = document.createElement('span');\n",
       "  element.textContent = text;\n",
       "  for (const key of Object.keys(styleAttributes)) {\n",
       "    element.style[key] = styleAttributes[key];\n",
       "  }\n",
       "  return element;\n",
       "}\n",
       "\n",
       "// Max number of bytes which will be uploaded at a time.\n",
       "const MAX_PAYLOAD_SIZE = 100 * 1024;\n",
       "\n",
       "function _uploadFiles(inputId, outputId) {\n",
       "  const steps = uploadFilesStep(inputId, outputId);\n",
       "  const outputElement = document.getElementById(outputId);\n",
       "  // Cache steps on the outputElement to make it available for the next call\n",
       "  // to uploadFilesContinue from Python.\n",
       "  outputElement.steps = steps;\n",
       "\n",
       "  return _uploadFilesContinue(outputId);\n",
       "}\n",
       "\n",
       "// This is roughly an async generator (not supported in the browser yet),\n",
       "// where there are multiple asynchronous steps and the Python side is going\n",
       "// to poll for completion of each step.\n",
       "// This uses a Promise to block the python side on completion of each step,\n",
       "// then passes the result of the previous step as the input to the next step.\n",
       "function _uploadFilesContinue(outputId) {\n",
       "  const outputElement = document.getElementById(outputId);\n",
       "  const steps = outputElement.steps;\n",
       "\n",
       "  const next = steps.next(outputElement.lastPromiseValue);\n",
       "  return Promise.resolve(next.value.promise).then((value) => {\n",
       "    // Cache the last promise value to make it available to the next\n",
       "    // step of the generator.\n",
       "    outputElement.lastPromiseValue = value;\n",
       "    return next.value.response;\n",
       "  });\n",
       "}\n",
       "\n",
       "/**\n",
       " * Generator function which is called between each async step of the upload\n",
       " * process.\n",
       " * @param {string} inputId Element ID of the input file picker element.\n",
       " * @param {string} outputId Element ID of the output display.\n",
       " * @return {!Iterable<!Object>} Iterable of next steps.\n",
       " */\n",
       "function* uploadFilesStep(inputId, outputId) {\n",
       "  const inputElement = document.getElementById(inputId);\n",
       "  inputElement.disabled = false;\n",
       "\n",
       "  const outputElement = document.getElementById(outputId);\n",
       "  outputElement.innerHTML = '';\n",
       "\n",
       "  const pickedPromise = new Promise((resolve) => {\n",
       "    inputElement.addEventListener('change', (e) => {\n",
       "      resolve(e.target.files);\n",
       "    });\n",
       "  });\n",
       "\n",
       "  const cancel = document.createElement('button');\n",
       "  inputElement.parentElement.appendChild(cancel);\n",
       "  cancel.textContent = 'Cancel upload';\n",
       "  const cancelPromise = new Promise((resolve) => {\n",
       "    cancel.onclick = () => {\n",
       "      resolve(null);\n",
       "    };\n",
       "  });\n",
       "\n",
       "  // Wait for the user to pick the files.\n",
       "  const files = yield {\n",
       "    promise: Promise.race([pickedPromise, cancelPromise]),\n",
       "    response: {\n",
       "      action: 'starting',\n",
       "    }\n",
       "  };\n",
       "\n",
       "  cancel.remove();\n",
       "\n",
       "  // Disable the input element since further picks are not allowed.\n",
       "  inputElement.disabled = true;\n",
       "\n",
       "  if (!files) {\n",
       "    return {\n",
       "      response: {\n",
       "        action: 'complete',\n",
       "      }\n",
       "    };\n",
       "  }\n",
       "\n",
       "  for (const file of files) {\n",
       "    const li = document.createElement('li');\n",
       "    li.append(span(file.name, {fontWeight: 'bold'}));\n",
       "    li.append(span(\n",
       "        `(${file.type || 'n/a'}) - ${file.size} bytes, ` +\n",
       "        `last modified: ${\n",
       "            file.lastModifiedDate ? file.lastModifiedDate.toLocaleDateString() :\n",
       "                                    'n/a'} - `));\n",
       "    const percent = span('0% done');\n",
       "    li.appendChild(percent);\n",
       "\n",
       "    outputElement.appendChild(li);\n",
       "\n",
       "    const fileDataPromise = new Promise((resolve) => {\n",
       "      const reader = new FileReader();\n",
       "      reader.onload = (e) => {\n",
       "        resolve(e.target.result);\n",
       "      };\n",
       "      reader.readAsArrayBuffer(file);\n",
       "    });\n",
       "    // Wait for the data to be ready.\n",
       "    let fileData = yield {\n",
       "      promise: fileDataPromise,\n",
       "      response: {\n",
       "        action: 'continue',\n",
       "      }\n",
       "    };\n",
       "\n",
       "    // Use a chunked sending to avoid message size limits. See b/62115660.\n",
       "    let position = 0;\n",
       "    do {\n",
       "      const length = Math.min(fileData.byteLength - position, MAX_PAYLOAD_SIZE);\n",
       "      const chunk = new Uint8Array(fileData, position, length);\n",
       "      position += length;\n",
       "\n",
       "      const base64 = btoa(String.fromCharCode.apply(null, chunk));\n",
       "      yield {\n",
       "        response: {\n",
       "          action: 'append',\n",
       "          file: file.name,\n",
       "          data: base64,\n",
       "        },\n",
       "      };\n",
       "\n",
       "      let percentDone = fileData.byteLength === 0 ?\n",
       "          100 :\n",
       "          Math.round((position / fileData.byteLength) * 100);\n",
       "      percent.textContent = `${percentDone}% done`;\n",
       "\n",
       "    } while (position < fileData.byteLength);\n",
       "  }\n",
       "\n",
       "  // All done.\n",
       "  yield {\n",
       "    response: {\n",
       "      action: 'complete',\n",
       "    }\n",
       "  };\n",
       "}\n",
       "\n",
       "scope.google = scope.google || {};\n",
       "scope.google.colab = scope.google.colab || {};\n",
       "scope.google.colab._files = {\n",
       "  _uploadFiles,\n",
       "  _uploadFilesContinue,\n",
       "};\n",
       "})(self);\n",
       "</script> "
      ],
      "text/plain": [
       "<IPython.core.display.HTML object>"
      ]
     },
     "metadata": {},
     "output_type": "display_data"
    },
    {
     "name": "stdout",
     "output_type": "stream",
     "text": [
      "Saving product_reviews.xlsx to product_reviews.xlsx\n",
      "Saving train_test_index.pickle to train_test_index.pickle\n",
      "Saving roberta_embeds.npy.gz to roberta_embeds.npy.gz\n",
      "Saving product_reviews.csv to product_reviews.csv\n"
     ]
    }
   ],
   "source": [
    "from google.colab import files\n",
    "uploaded = files.upload()\n"
   ]
  },
  {
   "cell_type": "code",
   "execution_count": 3,
   "metadata": {
    "id": "U0nNsliRUjqd"
   },
   "outputs": [],
   "source": [
    "import pickle\n",
    "with open('train_test_index.pickle', 'rb') as handle:\n",
    "    train_test_index_dict = pickle.load(handle)"
   ]
  },
  {
   "cell_type": "code",
   "execution_count": 4,
   "metadata": {
    "colab": {
     "base_uri": "https://localhost:8080/",
     "height": 206
    },
    "id": "86GXlinlUz8b",
    "outputId": "b03969c3-8e73-4b71-bfee-d65bf721fd82"
   },
   "outputs": [
    {
     "data": {
      "text/html": [
       "<div>\n",
       "<style scoped>\n",
       "    .dataframe tbody tr th:only-of-type {\n",
       "        vertical-align: middle;\n",
       "    }\n",
       "\n",
       "    .dataframe tbody tr th {\n",
       "        vertical-align: top;\n",
       "    }\n",
       "\n",
       "    .dataframe thead th {\n",
       "        text-align: right;\n",
       "    }\n",
       "</style>\n",
       "<table border=\"1\" class=\"dataframe\">\n",
       "  <thead>\n",
       "    <tr style=\"text-align: right;\">\n",
       "      <th></th>\n",
       "      <th>text</th>\n",
       "      <th>stars</th>\n",
       "      <th>sentiment</th>\n",
       "    </tr>\n",
       "  </thead>\n",
       "  <tbody>\n",
       "    <tr>\n",
       "      <th>0</th>\n",
       "      <td>Total bill for this horrible service? Over $8G...</td>\n",
       "      <td>1.0</td>\n",
       "      <td>0</td>\n",
       "    </tr>\n",
       "    <tr>\n",
       "      <th>1</th>\n",
       "      <td>Went in for a lunch. Steak sandwich was delici...</td>\n",
       "      <td>5.0</td>\n",
       "      <td>1</td>\n",
       "    </tr>\n",
       "    <tr>\n",
       "      <th>2</th>\n",
       "      <td>This place has gone down hill.  Clearly they h...</td>\n",
       "      <td>1.0</td>\n",
       "      <td>0</td>\n",
       "    </tr>\n",
       "    <tr>\n",
       "      <th>3</th>\n",
       "      <td>Walked in around 4 on a Friday afternoon, we s...</td>\n",
       "      <td>1.0</td>\n",
       "      <td>0</td>\n",
       "    </tr>\n",
       "    <tr>\n",
       "      <th>4</th>\n",
       "      <td>Michael from Red Carpet VIP is amazing ! I rea...</td>\n",
       "      <td>4.0</td>\n",
       "      <td>1</td>\n",
       "    </tr>\n",
       "  </tbody>\n",
       "</table>\n",
       "</div>"
      ],
      "text/plain": [
       "                                                text  stars  sentiment\n",
       "0  Total bill for this horrible service? Over $8G...    1.0          0\n",
       "1  Went in for a lunch. Steak sandwich was delici...    5.0          1\n",
       "2  This place has gone down hill.  Clearly they h...    1.0          0\n",
       "3  Walked in around 4 on a Friday afternoon, we s...    1.0          0\n",
       "4  Michael from Red Carpet VIP is amazing ! I rea...    4.0          1"
      ]
     },
     "execution_count": 4,
     "metadata": {},
     "output_type": "execute_result"
    }
   ],
   "source": [
    "import pandas as pd\n",
    "\n",
    "data = pd.read_csv('product_reviews.csv')\n",
    "data.head()"
   ]
  },
  {
   "cell_type": "code",
   "execution_count": 5,
   "metadata": {
    "id": "hJkS1A_EAsiS"
   },
   "outputs": [],
   "source": [
    "import string\n",
    "import nltk\n",
    "from nltk.corpus import stopwords\n",
    "from nltk.stem import PorterStemmer\n",
    "from sklearn.feature_extraction.text import CountVectorizer, TfidfVectorizer\n",
    "from sklearn.model_selection import train_test_split\n",
    "from sklearn.naive_bayes import MultinomialNB\n",
    "from sklearn.metrics import classification_report"
   ]
  },
  {
   "cell_type": "code",
   "execution_count": 6,
   "metadata": {
    "colab": {
     "base_uri": "https://localhost:8080/"
    },
    "id": "M0Bdk36OB4QT",
    "outputId": "d610ce6c-9772-4455-a7e0-349b3f405d3d"
   },
   "outputs": [
    {
     "name": "stderr",
     "output_type": "stream",
     "text": [
      "[nltk_data] Downloading package punkt to\n",
      "[nltk_data]     C:\\Users\\suraj\\AppData\\Roaming\\nltk_data...\n",
      "[nltk_data]   Unzipping tokenizers\\punkt.zip.\n"
     ]
    },
    {
     "data": {
      "text/plain": [
       "True"
      ]
     },
     "execution_count": 6,
     "metadata": {},
     "output_type": "execute_result"
    }
   ],
   "source": [
    "nltk.download('punkt')"
   ]
  },
  {
   "cell_type": "code",
   "execution_count": 7,
   "metadata": {
    "colab": {
     "base_uri": "https://localhost:8080/"
    },
    "id": "1alMPayXCESV",
    "outputId": "81ece7d0-a1e3-49c2-f28d-d52b1bf6f721"
   },
   "outputs": [
    {
     "name": "stderr",
     "output_type": "stream",
     "text": [
      "[nltk_data] Downloading package stopwords to\n",
      "[nltk_data]     C:\\Users\\suraj\\AppData\\Roaming\\nltk_data...\n",
      "[nltk_data]   Unzipping corpora\\stopwords.zip.\n"
     ]
    },
    {
     "data": {
      "text/plain": [
       "True"
      ]
     },
     "execution_count": 7,
     "metadata": {},
     "output_type": "execute_result"
    }
   ],
   "source": [
    "nltk.download('stopwords')"
   ]
  },
  {
   "cell_type": "code",
   "execution_count": 8,
   "metadata": {
    "colab": {
     "base_uri": "https://localhost:8080/"
    },
    "id": "AyWr3NAhClxu",
    "outputId": "a12b75f8-525b-48c0-d332-af9ca30dd6e8"
   },
   "outputs": [
    {
     "name": "stdout",
     "output_type": "stream",
     "text": [
      "dict_keys(['train_index', 'test_index'])\n"
     ]
    }
   ],
   "source": [
    "print(train_test_index_dict.keys())"
   ]
  },
  {
   "cell_type": "code",
   "execution_count": 9,
   "metadata": {
    "id": "7xG2qSrLC23p"
   },
   "outputs": [],
   "source": [
    "# function to cleaning and preprocessing the input text data\n",
    "def preprocess_text(text):\n",
    "    # rirst we remove any punctuations from the text\n",
    "    text = text.translate(str.maketrans('', '', string.punctuation))\n",
    "    # next we convert the text to lowercase to ensure consistency\n",
    "    text = text.lower()\n",
    "    # then we tokenize the text into individual words\n",
    "    tokens = nltk.word_tokenize(text)\n",
    "    # now we remove any stopwords\n",
    "    stop_words = set(stopwords.words('english'))\n",
    "    filtered_tokens = [word for word in tokens if word not in stop_words]\n",
    "    # then we perform stemming to reduce words to their root form\n",
    "    stemmer = PorterStemmer()\n",
    "    stemmed_tokens = [stemmer.stem(word) for word in filtered_tokens]\n",
    "    # finally we join the stemmed tokens back into a single string\n",
    "    preprocessed_text = ' '.join(stemmed_tokens)\n",
    "    return preprocessed_text\n"
   ]
  },
  {
   "cell_type": "code",
   "execution_count": 10,
   "metadata": {
    "colab": {
     "base_uri": "https://localhost:8080/"
    },
    "id": "btXxqpOgA6UV",
    "outputId": "4def07f1-6be2-4335-c440-81598c64d934"
   },
   "outputs": [
    {
     "name": "stdout",
     "output_type": "stream",
     "text": [
      "Classification Report with BoW features:\n",
      "              precision    recall  f1-score   support\n",
      "\n",
      "         1.0       0.73      0.75      0.74      1149\n",
      "         2.0       0.46      0.09      0.15       587\n",
      "         4.0       0.48      0.49      0.49      1981\n",
      "         5.0       0.79      0.85      0.81      5082\n",
      "\n",
      "    accuracy                           0.70      8799\n",
      "   macro avg       0.61      0.55      0.55      8799\n",
      "weighted avg       0.69      0.70      0.69      8799\n",
      "\n"
     ]
    }
   ],
   "source": [
    "# calling function to clean and preprocess text data\n",
    "data['clean_text'] = data['text'].apply(preprocess_text)\n",
    "\n",
    "# splitting data into train and test sets\n",
    "X_train = data.iloc[train_test_index_dict['train_index']]['clean_text']\n",
    "y_train = data.iloc[train_test_index_dict['train_index']]['stars']\n",
    "X_test = data.iloc[train_test_index_dict['test_index']]['clean_text']\n",
    "y_test = data.iloc[train_test_index_dict['test_index']]['stars']\n",
    "\n",
    "# creating Bag of Words (BoW) features\n",
    "vectorizer_bow = CountVectorizer()\n",
    "X_train_bow = vectorizer_bow.fit_transform(X_train)\n",
    "X_test_bow = vectorizer_bow.transform(X_test)\n",
    "\n",
    "# training Naive Bayes classifier with BoW features\n",
    "nb_classifier_bow = MultinomialNB()\n",
    "nb_classifier_bow.fit(X_train_bow, y_train)\n",
    "\n",
    "# predicting test set with BoW features\n",
    "y_pred_bow = nb_classifier_bow.predict(X_test_bow)\n",
    "\n",
    "# evaluating performance with BoW features\n",
    "print(\"Classification Report with BoW features:\")\n",
    "print(classification_report(y_test, y_pred_bow))"
   ]
  },
  {
   "cell_type": "code",
   "execution_count": 11,
   "metadata": {},
   "outputs": [
    {
     "name": "stdout",
     "output_type": "stream",
     "text": [
      "Classification Report with TfIdf features:\n",
      "              precision    recall  f1-score   support\n",
      "\n",
      "         1.0       0.92      0.11      0.20      1149\n",
      "         2.0       0.00      0.00      0.00       587\n",
      "         4.0       0.52      0.01      0.02      1981\n",
      "         5.0       0.59      1.00      0.74      5082\n",
      "\n",
      "    accuracy                           0.59      8799\n",
      "   macro avg       0.51      0.28      0.24      8799\n",
      "weighted avg       0.58      0.59      0.46      8799\n",
      "\n"
     ]
    },
    {
     "name": "stderr",
     "output_type": "stream",
     "text": [
      "C:\\Users\\suraj\\AppData\\Local\\Programs\\Python\\Python38\\lib\\site-packages\\sklearn\\metrics\\_classification.py:1471: UndefinedMetricWarning: Precision and F-score are ill-defined and being set to 0.0 in labels with no predicted samples. Use `zero_division` parameter to control this behavior.\n",
      "  _warn_prf(average, modifier, msg_start, len(result))\n",
      "C:\\Users\\suraj\\AppData\\Local\\Programs\\Python\\Python38\\lib\\site-packages\\sklearn\\metrics\\_classification.py:1471: UndefinedMetricWarning: Precision and F-score are ill-defined and being set to 0.0 in labels with no predicted samples. Use `zero_division` parameter to control this behavior.\n",
      "  _warn_prf(average, modifier, msg_start, len(result))\n",
      "C:\\Users\\suraj\\AppData\\Local\\Programs\\Python\\Python38\\lib\\site-packages\\sklearn\\metrics\\_classification.py:1471: UndefinedMetricWarning: Precision and F-score are ill-defined and being set to 0.0 in labels with no predicted samples. Use `zero_division` parameter to control this behavior.\n",
      "  _warn_prf(average, modifier, msg_start, len(result))\n"
     ]
    }
   ],
   "source": [
    "# creating TfIdf features\n",
    "vectorizer_tfidf = TfidfVectorizer()\n",
    "X_train_tfidf = vectorizer_tfidf.fit_transform(X_train)\n",
    "X_test_tfidf = vectorizer_tfidf.transform(X_test)\n",
    "\n",
    "# Training Naive Bayes classifier with TfIdf features\n",
    "nb_classifier_tfidf = MultinomialNB()\n",
    "nb_classifier_tfidf.fit(X_train_tfidf, y_train)\n",
    "\n",
    "# predicting test set with TfIdf features\n",
    "y_pred_tfidf = nb_classifier_tfidf.predict(X_test_tfidf)\n",
    "\n",
    "# evaluate performance with TfIdf features\n",
    "print(\"Classification Report with TfIdf features:\")\n",
    "print(classification_report(y_test, y_pred_tfidf))\n"
   ]
  },
  {
   "cell_type": "code",
   "execution_count": null,
   "metadata": {
    "colab": {
     "base_uri": "https://localhost:8080/"
    },
    "id": "x8inU72VG1qy",
    "outputId": "a3996a4a-8a0f-489e-d54d-9338b16f4b65"
   },
   "outputs": [],
   "source": []
  },
  {
   "cell_type": "markdown",
   "metadata": {
    "id": "T8GYzpkuUcs6"
   },
   "source": [
    "### Part 2: Clustering\n",
    "\n",
    "You will be performing kmeans clustering on the same product reviews dataset from Part 1. In this question, instead of statistically computing features, you will use the embeddings obtained from a neural sentiment analysis model (huggingface: siebert/sentiment-roberta-large-english).\n",
    "\n",
    "You can use sklearn for this question. Your tasks are as follows:\n",
    "\n",
    "\n",
    "1. Perform kmeans clustering using sklearn. Try various values for number of clusters (k) and plot the elbow curve. For each value of k, plot WCSS (Within-Cluster Sum of Square). WCSS is the sum of the squared distance between each point and the centroid in a cluster.\n",
    "1. Perform task 1 with cluster initialisation methods [k-means++, forgy (\"random\" in sklearn)].\n",
    "1. In this case, since the ground truth labels (star rating) are available we can evaluate the clustering using metrics like purity, nmi and rand score. Implement these metrics from scratch and evaluate the clustering. [Reference](https://nlp.stanford.edu/IR-book/html/htmledition/evaluation-of-clustering-1.html)"
   ]
  },
  {
   "cell_type": "code",
   "execution_count": 12,
   "metadata": {
    "colab": {
     "base_uri": "https://localhost:8080/"
    },
    "id": "5ddsz-nxGvfE",
    "outputId": "d900ef47-77c2-49d0-9437-d5bd73ec0e9b"
   },
   "outputs": [
    {
     "name": "stdout",
     "output_type": "stream",
     "text": [
      "(26661, 1024)\n"
     ]
    }
   ],
   "source": [
    "import gzip\n",
    "import numpy as np\n",
    "\n",
    "f = gzip.GzipFile('roberta_embeds.npy.gz', \"r\")\n",
    "embeds = np.load(f)\n",
    "print(embeds.shape)"
   ]
  },
  {
   "cell_type": "code",
   "execution_count": 13,
   "metadata": {
    "id": "rEdt2EbQN1rM"
   },
   "outputs": [],
   "source": [
    "from sklearn.cluster import KMeans\n",
    "from sklearn.metrics import pairwise_distances_argmin_min\n",
    "from collections import Counter\n",
    "import matplotlib.pyplot as plt\n",
    "import numpy as np"
   ]
  },
  {
   "cell_type": "code",
   "execution_count": 15,
   "metadata": {
    "colab": {
     "base_uri": "https://localhost:8080/",
     "height": 931
    },
    "id": "rdq5hfepOAhY",
    "outputId": "f809fbf8-3bfa-4109-f544-eb572159308b"
   },
   "outputs": [
    {
     "data": {
      "image/png": "[encoded data removed]",
      "text/plain": [
       "<Figure size 640x480 with 1 Axes>"
      ]
     },
     "metadata": {},
     "output_type": "display_data"
    },
    {
     "name": "stdout",
     "output_type": "stream",
     "text": [
      "For k=2, WCSS=383779.7827026046\n",
      "For k=3, WCSS=204916.6213998474\n",
      "For k=4, WCSS=112261.47874445136\n",
      "For k=5, WCSS=86921.4750520612\n",
      "For k=6, WCSS=66230.38868562314\n",
      "For k=7, WCSS=53232.14617226953\n",
      "For k=8, WCSS=44411.39121594936\n",
      "For k=9, WCSS=38042.48435596175\n",
      "For k=10, WCSS=32138.316300259845\n"
     ]
    }
   ],
   "source": [
    "# Task 1: elbow curve for determining optimal k\n",
    "wcss = []\n",
    "for k in range(2, 11):\n",
    "    kmeans = KMeans(n_clusters=k, n_init=10, random_state=42)\n",
    "    kmeans.fit(embeds)\n",
    "    wcss.append(kmeans.inertia_)\n",
    "    labels = kmeans.labels_\n",
    "k_values = range(2, 11)\n",
    "\n",
    "plt.plot(k_values, wcss, marker='o', linestyle='-', color='b')\n",
    "plt.title('Elbow Method')\n",
    "plt.xlabel('Number of clusters')\n",
    "plt.ylabel('WCSS')\n",
    "plt.show()\n",
    "\n",
    "# printing all values corresponding to k\n",
    "for k, wcss in zip(range(2, 11), wcss):\n",
    "    print(f'For k={k}, WCSS={wcss}')\n",
    "\n"
   ]
  },
  {
   "cell_type": "code",
   "execution_count": 16,
   "metadata": {},
   "outputs": [
    {
     "data": {
      "image/png": "[encoded data removed]",
      "text/plain": [
       "<Figure size 640x480 with 1 Axes>"
      ]
     },
     "metadata": {},
     "output_type": "display_data"
    },
    {
     "name": "stdout",
     "output_type": "stream",
     "text": [
      "For k=2, WCSS=383779.78270260454\n",
      "For k=3, WCSS=204916.62139984738\n",
      "For k=4, WCSS=112261.47874445138\n",
      "For k=5, WCSS=86921.4750520612\n",
      "For k=6, WCSS=66230.38868562315\n",
      "For k=7, WCSS=53232.14617226953\n",
      "For k=8, WCSS=44411.39121594936\n",
      "For k=9, WCSS=38042.48435596175\n",
      "For k=10, WCSS=32138.316300259845\n"
     ]
    }
   ],
   "source": [
    "# Task 2: Elbow curve with K-means++ initialization method\n",
    "wcss_kmeans_pp = []\n",
    "\n",
    "for k in range(2, 11):  \n",
    "    kmeans_pp = KMeans(n_clusters=k, init='k-means++', n_init=10, random_state=42)\n",
    "    kmeans_pp.fit(embeds)\n",
    "    wcss_kmeans_pp.append(kmeans_pp.inertia_)\n",
    "\n",
    "k_values = range(2, 11)\n",
    "plt.plot(k_values, wcss_kmeans_pp, marker='o', linestyle='-', color='b', label='KMeans++')\n",
    "plt.title('Elbow Method with K-means++ Initialization')\n",
    "plt.xlabel('Number of clusters')\n",
    "plt.ylabel('WCSS')\n",
    "plt.legend()\n",
    "plt.show()\n",
    "\n",
    "\n",
    "# Print all values corresponding to k\n",
    "for k, wcss in zip(range(2, 11), wcss_kmeans_pp):\n",
    "    print(f'For k={k}, WCSS={wcss}')\n"
   ]
  },
  {
   "cell_type": "code",
   "execution_count": 18,
   "metadata": {},
   "outputs": [
    {
     "data": {
      "image/png": "[encoded data removed]",
      "text/plain": [
       "<Figure size 640x480 with 1 Axes>"
      ]
     },
     "metadata": {},
     "output_type": "display_data"
    },
    {
     "name": "stdout",
     "output_type": "stream",
     "text": [
      "For k=2, WCSS=383779.78270260454\n",
      "For k=3, WCSS=204916.6213998474\n",
      "For k=4, WCSS=112261.47874445138\n",
      "For k=5, WCSS=86921.53297653404\n",
      "For k=6, WCSS=66230.52296821219\n",
      "For k=7, WCSS=53234.08435667168\n",
      "For k=8, WCSS=46916.41485779028\n",
      "For k=9, WCSS=38095.78833755615\n",
      "For k=10, WCSS=34136.21858178712\n"
     ]
    }
   ],
   "source": [
    "# Task 3: Elbow curve with Forgy (Random) initialization method\n",
    "wcss_forgy = []\n",
    "\n",
    "for k in range(2, 11): \n",
    "    kmeans_forgy = KMeans(n_clusters=k, init='random', n_init=10, random_state=42)\n",
    "    kmeans_forgy.fit(embeds)\n",
    "    wcss_forgy.append(kmeans_forgy.inertia_)\n",
    "\n",
    "\n",
    "k_values = range(2, 11)\n",
    "plt.plot(k_values, wcss_forgy, label='Forgy (Random)', marker='o', linestyle='-', color='b')\n",
    "plt.plot(range(2, 11), )\n",
    "plt.title('Elbow Method with Forgy (Random) Initialization')\n",
    "plt.xlabel('Number of clusters')\n",
    "plt.ylabel('WCSS')\n",
    "plt.legend()\n",
    "plt.show()\n",
    "\n",
    "\n",
    "# Print all values corresponding to k\n",
    "for k, wcss in zip(range(2, 11), wcss_forgy):\n",
    "    print(f'For k={k}, WCSS={wcss}')"
   ]
  },
  {
   "cell_type": "code",
   "execution_count": 7,
   "metadata": {
    "id": "CZo47nwuTxBz"
   },
   "outputs": [],
   "source": [
    "#  function to calculate the purity of a clustering result.\n",
    "def calculate_purity(labels, true_labels):\n",
    "    # ensure true labels are of integer type\n",
    "    true_labels = true_labels.astype(int)\n",
    "\n",
    "    # get unique cluster labels\n",
    "    cluster_labels = np.unique(labels)\n",
    "    # total number of samples\n",
    "    total_samples = len(labels)\n",
    "    # initialize counter for correct predictions\n",
    "    correct_predictions = 0\n",
    "\n",
    "    # iterate over each cluster label\n",
    "    for cluster_label in cluster_labels:\n",
    "        # inding indices of samples belonging to the current cluster\n",
    "        cluster_indices = np.where(labels == cluster_label)[0]\n",
    "        # getting true labels of samples in the current cluster\n",
    "        cluster_true_labels = true_labels[cluster_indices]\n",
    "        # finding the dominant true label in the current cluster\n",
    "        dominant_label = np.argmax(np.bincount(cluster_true_labels))\n",
    "        # counting correct predictions by comparing cluster true labels with dominant label\n",
    "        correct_predictions += np.sum(cluster_true_labels == dominant_label)\n",
    "\n",
    "    # calculating and returning purity\n",
    "    return correct_predictions / total_samples"
   ]
  },
  {
   "cell_type": "code",
   "execution_count": null,
   "metadata": {},
   "outputs": [],
   "source": []
  },
  {
   "cell_type": "code",
   "execution_count": 8,
   "metadata": {
    "id": "zACMYXurQBk_"
   },
   "outputs": [],
   "source": [
    "# function to calculates the entropy\n",
    "def calculate_entropy(labels):\n",
    "    # count the occurrences of each label\n",
    "    counter = Counter(labels)\n",
    "    entropy = 0.0\n",
    "    # iterate over each unique label\n",
    "    for label, count in counter.items():\n",
    "        # calculate the probability of the label\n",
    "        probability = count / len(labels)\n",
    "        # update entropy using the formula: -p * log2(p)\n",
    "        entropy -= probability * np.log2(probability)\n",
    "    return entropy\n",
    "\n",
    "# function to calculates the mutual information between two sets of labels\n",
    "def calculate_mutual_information(true_labels, predicted_labels):\n",
    "    # count the occurrences of each label in both sets\n",
    "    counter_true = Counter(true_labels)\n",
    "    counter_pred = Counter(predicted_labels)\n",
    "    mutual_information = 0.0\n",
    "    total_samples = len(true_labels)\n",
    "\n",
    "    # iterate over each unique true label\n",
    "    for true_label, true_count in counter_true.items():\n",
    "        # iterate over each unique predicted label\n",
    "        for pred_label, pred_count in counter_pred.items():\n",
    "            # finding the intersection count between true and predicted labels\n",
    "            intersection_count = np.sum((true_labels == true_label) & (predicted_labels == pred_label))\n",
    "            # if there is no intersection, continue to the next label pair\n",
    "            if intersection_count == 0:\n",
    "                continue\n",
    "            # calculatung the probabilities of true, predicted, and intersection labels\n",
    "            true_prob = true_count / total_samples\n",
    "            pred_prob = pred_count / total_samples\n",
    "            intersection_prob = intersection_count / total_samples\n",
    "            # updating mutual information using the formula: p(intersection) * log2(p(intersection) / (p(true) * p(pred)))\n",
    "            mutual_information += intersection_prob * np.log2((intersection_prob / (true_prob * pred_prob)))\n",
    "\n",
    "    return mutual_information\n",
    "\n",
    "#  function to calculates the normalized mutual information between two sets of labels\n",
    "def calculate_nmi(true_labels, predicted_labels):\n",
    "    # calculating entropy of true and predicted labels\n",
    "    entropy_true = calculate_entropy(true_labels)\n",
    "    entropy_pred = calculate_entropy(predicted_labels)\n",
    "    # calculating mutual information between true and predicted labels\n",
    "    mutual_information = calculate_mutual_information(true_labels, predicted_labels)\n",
    "\n",
    "    # handling special cases where entropy or mutual information is zero\n",
    "    if entropy_true == 0.0 and entropy_pred == 0.0:\n",
    "        return 1.0\n",
    "    elif mutual_information == 0.0:\n",
    "        return 0.0\n",
    "    else:\n",
    "        # normalizing mutual information\n",
    "        return mutual_information / np.sqrt(entropy_true * entropy_pred)\n"
   ]
  },
  {
   "cell_type": "code",
   "execution_count": 12,
   "metadata": {},
   "outputs": [],
   "source": [
    "# function to calculates the Rand Index between two sets of labels\n",
    "def calculate_rand_index(true_labels, predicted_labels):\n",
    "    # initialize variables to store counts\n",
    "    n = len(true_labels)\n",
    "    a = 0  # True positives: pairs of samples that are in the same cluster in both true and predicted labels\n",
    "    b = 0  # True negatives: pairs of samples that are in different clusters in both true and predicted labels\n",
    "    c = 0  # False positives: pairs of samples that are in the same cluster in true labels but different clusters in predicted labels\n",
    "    d = 0  # False negatives: pairs of samples that are in different clusters in true labels but same cluster in predicted labels\n",
    "    \n",
    "    # iterating over all pairs of samples\n",
    "    for i in range(n):\n",
    "        for j in range(i + 1, n):\n",
    "            # checking if samples belong to the same cluster in true and predicted labels\n",
    "            same_true_cluster = true_labels[i] == true_labels[j]\n",
    "            same_pred_cluster = predicted_labels[i] == predicted_labels[j]\n",
    "            # updating counts based on the comparison\n",
    "            if same_true_cluster and same_pred_cluster:\n",
    "                a += 1\n",
    "            elif not same_true_cluster and not same_pred_cluster:\n",
    "                b += 1\n",
    "            elif same_true_cluster and not same_pred_cluster:\n",
    "                c += 1\n",
    "            elif not same_true_cluster and same_pred_cluster:\n",
    "                d += 1\n",
    "                \n",
    "    # calculating and returning Rand Index\n",
    "    rand_index = (a + b) / (a + b + c + d)\n",
    "    return rand_index\n"
   ]
  },
  {
   "cell_type": "code",
   "execution_count": 10,
   "metadata": {},
   "outputs": [],
   "source": [
    "#  ground truth labels \n",
    "true_labels = np.array(data[\n",
    "    'stars'\n",
    "])"
   ]
  },
  {
   "cell_type": "code",
   "execution_count": null,
   "metadata": {
    "colab": {
     "base_uri": "https://localhost:8080/"
    },
    "id": "YI5JQKZROIwi",
    "outputId": "af920c72-2205-4c94-bb5e-1aab0a942dc7"
   },
   "outputs": [],
   "source": []
  },
  {
   "cell_type": "code",
   "execution_count": 13,
   "metadata": {
    "colab": {
     "base_uri": "https://localhost:8080/",
     "height": 472
    },
    "id": "5yKlecWDQmkj",
    "outputId": "9040a612-da91-47fb-aeac-c78ecff683d7"
   },
   "outputs": [
    {
     "name": "stderr",
     "output_type": "stream",
     "text": [
      "C:\\Users\\suraj\\AppData\\Local\\Programs\\Python\\Python38\\lib\\site-packages\\sklearn\\cluster\\_kmeans.py:1416: FutureWarning: The default value of `n_init` will change from 10 to 'auto' in 1.4. Set the value of `n_init` explicitly to suppress the warning\n",
      "  super()._check_params_vs_input(X, default_n_init=10)\n"
     ]
    },
    {
     "name": "stdout",
     "output_type": "stream",
     "text": [
      "Number of Clusters: 1\n",
      "Purity: 0.5775102209219459\n",
      "NMI: 0.0\n",
      "Rand Score: 0.40569768581449966\n",
      "\n"
     ]
    },
    {
     "name": "stderr",
     "output_type": "stream",
     "text": [
      "C:\\Users\\suraj\\AppData\\Local\\Programs\\Python\\Python38\\lib\\site-packages\\sklearn\\cluster\\_kmeans.py:1416: FutureWarning: The default value of `n_init` will change from 10 to 'auto' in 1.4. Set the value of `n_init` explicitly to suppress the warning\n",
      "  super()._check_params_vs_input(X, default_n_init=10)\n"
     ]
    },
    {
     "name": "stdout",
     "output_type": "stream",
     "text": [
      "Number of Clusters: 2\n",
      "Purity: 0.7039495892877237\n",
      "NMI: 0.5754266264308304\n",
      "Rand Score: 0.7135190430892296\n",
      "\n"
     ]
    },
    {
     "name": "stderr",
     "output_type": "stream",
     "text": [
      "C:\\Users\\suraj\\AppData\\Local\\Programs\\Python\\Python38\\lib\\site-packages\\sklearn\\cluster\\_kmeans.py:1416: FutureWarning: The default value of `n_init` will change from 10 to 'auto' in 1.4. Set the value of `n_init` explicitly to suppress the warning\n",
      "  super()._check_params_vs_input(X, default_n_init=10)\n"
     ]
    },
    {
     "name": "stdout",
     "output_type": "stream",
     "text": [
      "Number of Clusters: 3\n",
      "Purity: 0.70683770301189\n",
      "NMI: 0.558738791901934\n",
      "Rand Score: 0.7166146240059509\n",
      "\n"
     ]
    },
    {
     "name": "stderr",
     "output_type": "stream",
     "text": [
      "C:\\Users\\suraj\\AppData\\Local\\Programs\\Python\\Python38\\lib\\site-packages\\sklearn\\cluster\\_kmeans.py:1416: FutureWarning: The default value of `n_init` will change from 10 to 'auto' in 1.4. Set the value of `n_init` explicitly to suppress the warning\n",
      "  super()._check_params_vs_input(X, default_n_init=10)\n"
     ]
    },
    {
     "name": "stdout",
     "output_type": "stream",
     "text": [
      "Number of Clusters: 4\n",
      "Purity: 0.7132140579873223\n",
      "NMI: 0.5358546011063247\n",
      "Rand Score: 0.7275735075323911\n",
      "\n"
     ]
    },
    {
     "name": "stderr",
     "output_type": "stream",
     "text": [
      "C:\\Users\\suraj\\AppData\\Local\\Programs\\Python\\Python38\\lib\\site-packages\\sklearn\\cluster\\_kmeans.py:1416: FutureWarning: The default value of `n_init` will change from 10 to 'auto' in 1.4. Set the value of `n_init` explicitly to suppress the warning\n",
      "  super()._check_params_vs_input(X, default_n_init=10)\n"
     ]
    },
    {
     "name": "stdout",
     "output_type": "stream",
     "text": [
      "Number of Clusters: 5\n",
      "Purity: 0.711113611642474\n",
      "NMI: 0.4619497209943756\n",
      "Rand Score: 0.7277174390930916\n",
      "\n"
     ]
    },
    {
     "name": "stderr",
     "output_type": "stream",
     "text": [
      "C:\\Users\\suraj\\AppData\\Local\\Programs\\Python\\Python38\\lib\\site-packages\\sklearn\\cluster\\_kmeans.py:1416: FutureWarning: The default value of `n_init` will change from 10 to 'auto' in 1.4. Set the value of `n_init` explicitly to suppress the warning\n",
      "  super()._check_params_vs_input(X, default_n_init=10)\n"
     ]
    },
    {
     "name": "stdout",
     "output_type": "stream",
     "text": [
      "Number of Clusters: 6\n",
      "Purity: 0.7113761674355801\n",
      "NMI: 0.4579352041905857\n",
      "Rand Score: 0.7279178070651341\n",
      "\n"
     ]
    },
    {
     "name": "stderr",
     "output_type": "stream",
     "text": [
      "C:\\Users\\suraj\\AppData\\Local\\Programs\\Python\\Python38\\lib\\site-packages\\sklearn\\cluster\\_kmeans.py:1416: FutureWarning: The default value of `n_init` will change from 10 to 'auto' in 1.4. Set the value of `n_init` explicitly to suppress the warning\n",
      "  super()._check_params_vs_input(X, default_n_init=10)\n"
     ]
    },
    {
     "name": "stdout",
     "output_type": "stream",
     "text": [
      "Number of Clusters: 7\n",
      "Purity: 0.7152769963617268\n",
      "NMI: 0.4222522098327987\n",
      "Rand Score: 0.7091616889819394\n",
      "\n"
     ]
    },
    {
     "name": "stderr",
     "output_type": "stream",
     "text": [
      "C:\\Users\\suraj\\AppData\\Local\\Programs\\Python\\Python38\\lib\\site-packages\\sklearn\\cluster\\_kmeans.py:1416: FutureWarning: The default value of `n_init` will change from 10 to 'auto' in 1.4. Set the value of `n_init` explicitly to suppress the warning\n",
      "  super()._check_params_vs_input(X, default_n_init=10)\n"
     ]
    },
    {
     "name": "stdout",
     "output_type": "stream",
     "text": [
      "Number of Clusters: 8\n",
      "Purity: 0.7151644724503957\n",
      "NMI: 0.4177779305841942\n",
      "Rand Score: 0.7089106022426614\n",
      "\n"
     ]
    },
    {
     "name": "stderr",
     "output_type": "stream",
     "text": [
      "C:\\Users\\suraj\\AppData\\Local\\Programs\\Python\\Python38\\lib\\site-packages\\sklearn\\cluster\\_kmeans.py:1416: FutureWarning: The default value of `n_init` will change from 10 to 'auto' in 1.4. Set the value of `n_init` explicitly to suppress the warning\n",
      "  super()._check_params_vs_input(X, default_n_init=10)\n"
     ]
    },
    {
     "name": "stdout",
     "output_type": "stream",
     "text": [
      "Number of Clusters: 9\n",
      "Purity: 0.7177900303814561\n",
      "NMI: 0.39242951323181013\n",
      "Rand Score: 0.6866330259846384\n",
      "\n"
     ]
    },
    {
     "name": "stderr",
     "output_type": "stream",
     "text": [
      "C:\\Users\\suraj\\AppData\\Local\\Programs\\Python\\Python38\\lib\\site-packages\\sklearn\\cluster\\_kmeans.py:1416: FutureWarning: The default value of `n_init` will change from 10 to 'auto' in 1.4. Set the value of `n_init` explicitly to suppress the warning\n",
      "  super()._check_params_vs_input(X, default_n_init=10)\n"
     ]
    },
    {
     "name": "stdout",
     "output_type": "stream",
     "text": [
      "Number of Clusters: 10\n",
      "Purity: 0.7170023630021379\n",
      "NMI: 0.3865996682527135\n",
      "Rand Score: 0.6809522454879501\n",
      "\n"
     ]
    }
   ],
   "source": [
    "#performing k-means clustering with different values of k\n",
    "k_values = range(1, 11)\n",
    "for k in k_values:\n",
    "    kmeans = KMeans(n_clusters=k, init='k-means++', random_state=42)\n",
    "    kmeans.fit(embeds)\n",
    "    cluster_centers = kmeans.cluster_centers_\n",
    "    labels = kmeans.labels_\n",
    "\n",
    "    # Evaluate clustering\n",
    "    purity = calculate_purity(labels, true_labels)\n",
    "    nmi = calculate_nmi(true_labels, labels)\n",
    "    rand_score = calculate_rand_index(true_labels, labels)\n",
    "\n",
    "    print(f\"Number of Clusters: {k}\")\n",
    "    print(f\"Purity: {purity}\")\n",
    "    print(f\"NMI: {nmi}\")\n",
    "    print(f\"Rand Score: {rand_score}\")\n",
    "    print()"
   ]
  },
  {
   "cell_type": "code",
   "execution_count": 16,
   "metadata": {
    "id": "o3cvhu_bR9wQ"
   },
   "outputs": [],
   "source": []
  }
 ],
 "metadata": {
  "colab": {
   "provenance": []
  },
  "kernelspec": {
   "display_name": "python3.8",
   "language": "python",
   "name": "python3.8"
  },
  "language_info": {
   "codemirror_mode": {
    "name": "ipython",
    "version": 3
   },
   "file_extension": ".py",
   "mimetype": "text/x-python",
   "name": "python",
   "nbconvert_exporter": "python",
   "pygments_lexer": "ipython3",
   "version": "3.8.0"
  }
 },
 "nbformat": 4,
 "nbformat_minor": 1
}
