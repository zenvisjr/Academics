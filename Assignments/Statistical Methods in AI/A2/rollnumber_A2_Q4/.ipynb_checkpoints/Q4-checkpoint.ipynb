{
 "cells": [
  {
   "cell_type": "markdown",
   "metadata": {
    "id": "lvpf93Fv9Hlk"
   },
   "source": [
    "# SMAI Assignment - 2\n",
    "\n",
    "## Question 4: Multi-layer Perceptrons\n",
    "\n",
    "### Digit Classification\n",
    "\n",
    "In this question, you will perform digit classification using MLP. You can use the MLPClassifier from sklearn. Train and two test sets have been provided [here](https://drive.google.com/drive/folders/1OUVrOMp2jSSBDJSqvEyXDFTrhiyZnqit?usp=sharing). Report the accuracy and any other interesting observations."
   ]
  },
  {
   "cell_type": "code",
   "execution_count": 2,
   "metadata": {
    "id": "G-MpagLl-YJp"
   },
   "outputs": [],
   "source": [
    "import numpy as np\n",
    "import h5py"
   ]
  },
  {
   "cell_type": "code",
   "execution_count": 3,
   "metadata": {
    "id": "cHAbz92352gz"
   },
   "outputs": [],
   "source": [
    "filename = \"training_3digits.hdf5\"\n",
    "train = h5py.File(filename,'r')\n",
    "train_images = np.array(train['images'])\n",
    "train_digits = np.array(train['digits'])\n",
    "train.close()"
   ]
  },
  {
   "cell_type": "code",
   "execution_count": 4,
   "metadata": {
    "id": "5MLBdrs65woF"
   },
   "outputs": [],
   "source": [
    "filename = \"testing_3digits_part1.hdf5\"\n",
    "test1 = h5py.File(filename,'r')\n",
    "test_images_1 = np.array(test1['images'])\n",
    "test_digits_1 = np.array(test1['digits'])\n",
    "test1.close()"
   ]
  },
  {
   "cell_type": "code",
   "execution_count": 5,
   "metadata": {
    "id": "w8cYRTiD-R1e"
   },
   "outputs": [],
   "source": [
    "filename = \"testing_3digits_part1.hdf5\"\n",
    "test2 = h5py.File(filename,'r')\n",
    "test_images_2 = np.array(test2['images'])\n",
    "test_digits_2 = np.array(test2['digits'])\n",
    "test2.close()"
   ]
  },
  {
   "cell_type": "code",
   "execution_count": 8,
   "metadata": {},
   "outputs": [],
   "source": [
    "from sklearn.neural_network import MLPClassifier\n",
    "from sklearn.metrics import accuracy_score\n",
    "\n"
   ]
  },
  {
   "cell_type": "code",
   "execution_count": 7,
   "metadata": {},
   "outputs": [
    {
     "name": "stdout",
     "output_type": "stream",
     "text": [
      "Iteration 1, loss = 7.04714261\n",
      "Iteration 2, loss = 0.70551189\n",
      "Iteration 3, loss = 0.17907386\n",
      "Iteration 4, loss = 0.08148992\n",
      "Iteration 5, loss = 1.35755714\n",
      "Iteration 6, loss = 0.14329609\n",
      "Iteration 7, loss = 0.16095524\n",
      "Iteration 8, loss = 0.05548079\n",
      "Iteration 9, loss = 0.03820443\n",
      "Iteration 10, loss = 0.03275991\n",
      "Iteration 11, loss = 0.02948501\n",
      "Iteration 12, loss = 0.02718105\n",
      "Iteration 13, loss = 0.02549024\n",
      "Iteration 14, loss = 0.02421633\n",
      "Iteration 15, loss = 0.02320258\n",
      "Iteration 16, loss = 0.02239409\n",
      "Iteration 17, loss = 0.02171743\n",
      "Iteration 18, loss = 0.02114636\n",
      "Iteration 19, loss = 0.02065931\n",
      "Iteration 20, loss = 0.02022597\n",
      "Iteration 21, loss = 0.01985423\n",
      "Iteration 22, loss = 0.01952144\n",
      "Iteration 23, loss = 0.01922511\n",
      "Iteration 24, loss = 0.01895169\n",
      "Iteration 25, loss = 0.01870524\n",
      "Iteration 26, loss = 0.01847879\n",
      "Iteration 27, loss = 0.01827080\n",
      "Iteration 28, loss = 0.01807740\n",
      "Iteration 29, loss = 0.01789694\n",
      "Iteration 30, loss = 0.01772882\n",
      "Iteration 31, loss = 0.01757016\n",
      "Iteration 32, loss = 0.01742082\n",
      "Iteration 33, loss = 0.01728082\n",
      "Iteration 34, loss = 0.01714711\n",
      "Iteration 35, loss = 0.01702077\n",
      "Iteration 36, loss = 0.01690082\n",
      "Iteration 37, loss = 0.01678532\n",
      "Iteration 38, loss = 0.01667516\n",
      "Iteration 39, loss = 0.01656962\n",
      "Iteration 40, loss = 0.01646858\n",
      "Iteration 41, loss = 0.01637025\n",
      "Iteration 42, loss = 0.01627634\n",
      "Iteration 43, loss = 0.01618559\n",
      "Iteration 44, loss = 0.01609815\n",
      "Iteration 45, loss = 0.01601251\n",
      "Iteration 46, loss = 0.01593010\n",
      "Iteration 47, loss = 0.01585054\n",
      "Iteration 48, loss = 0.01577212\n",
      "Iteration 49, loss = 0.01569666\n",
      "Iteration 50, loss = 0.01562256\n",
      "Iteration 51, loss = 0.01555049\n",
      "Training loss did not improve more than tol=0.000100 for 10 consecutive epochs. Stopping.\n",
      "Accuracy: 0.9996822370511599\n"
     ]
    }
   ],
   "source": [
    "# Combine testing data\n",
    "test_images = np.concatenate((test_images_1, test_images_2))\n",
    "test_digits = np.concatenate((test_digits_1, test_digits_2))\n",
    "\n",
    "# Flatten the images\n",
    "train_images_flat = train_images.reshape(train_images.shape[0], -1)\n",
    "test_images_flat = test_images.reshape(test_images.shape[0], -1)\n",
    "\n",
    "# Initialize MLPClassifier\n",
    "mlp = MLPClassifier(hidden_layer_sizes=(100,), max_iter=200, alpha=1e-4,\n",
    "                    solver='adam', verbose=10, random_state=1,\n",
    "                    learning_rate_init=.1)\n",
    "\n",
    "# Train the classifier\n",
    "mlp.fit(train_images_flat, train_digits)\n",
    "\n",
    "# Predict on the test set\n",
    "predictions = mlp.predict(test_images_flat)\n",
    "\n",
    "# Calculate accuracy\n",
    "accuracy = accuracy_score(test_digits, predictions)\n",
    "print(\"Accuracy:\", accuracy)"
   ]
  },
  {
   "cell_type": "code",
   "execution_count": null,
   "metadata": {},
   "outputs": [],
   "source": []
  }
 ],
 "metadata": {
  "colab": {
   "provenance": []
  },
  "kernelspec": {
   "display_name": "Python 3 (ipykernel)",
   "language": "python",
   "name": "python3"
  },
  "language_info": {
   "codemirror_mode": {
    "name": "ipython",
    "version": 3
   },
   "file_extension": ".py",
   "mimetype": "text/x-python",
   "name": "python",
   "nbconvert_exporter": "python",
   "pygments_lexer": "ipython3",
   "version": "3.7.0"
  }
 },
 "nbformat": 4,
 "nbformat_minor": 1
}
