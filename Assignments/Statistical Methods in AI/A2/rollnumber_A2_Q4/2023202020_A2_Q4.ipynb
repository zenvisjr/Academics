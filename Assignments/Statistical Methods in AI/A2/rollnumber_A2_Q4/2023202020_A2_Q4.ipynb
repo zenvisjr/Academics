{
 "cells": [
  {
   "cell_type": "markdown",
   "metadata": {
    "id": "lvpf93Fv9Hlk"
   },
   "source": [
    "# SMAI Assignment - 2\n",
    "\n",
    "## Question 4: Multi-layer Perceptrons\n",
    "\n",
    "### Digit Classification\n",
    "\n",
    "In this question, you will perform digit classification using MLP. You can use the MLPClassifier from sklearn. Train and two test sets have been provided [here](https://drive.google.com/drive/folders/1OUVrOMp2jSSBDJSqvEyXDFTrhiyZnqit?usp=sharing). Report the accuracy and any other interesting observations."
   ]
  },
  {
   "cell_type": "code",
   "execution_count": 2,
   "metadata": {
    "id": "G-MpagLl-YJp"
   },
   "outputs": [],
   "source": [
    "import numpy as np\n",
    "import h5py"
   ]
  },
  {
   "cell_type": "code",
   "execution_count": 3,
   "metadata": {
    "id": "cHAbz92352gz"
   },
   "outputs": [],
   "source": [
    "filename = \"training_3digits.hdf5\"\n",
    "train = h5py.File(filename,'r')\n",
    "train_images = np.array(train['images'])\n",
    "train_digits = np.array(train['digits'])\n",
    "train.close()"
   ]
  },
  {
   "cell_type": "code",
   "execution_count": 4,
   "metadata": {
    "id": "5MLBdrs65woF"
   },
   "outputs": [],
   "source": [
    "filename = \"testing_3digits_part1.hdf5\"\n",
    "test1 = h5py.File(filename,'r')\n",
    "test_images_1 = np.array(test1['images'])\n",
    "test_digits_1 = np.array(test1['digits'])\n",
    "test1.close()"
   ]
  },
  {
   "cell_type": "code",
   "execution_count": 5,
   "metadata": {
    "id": "w8cYRTiD-R1e"
   },
   "outputs": [],
   "source": [
    "filename = \"testing_3digits_part2.hdf5\"\n",
    "test2 = h5py.File(filename,'r')\n",
    "test_images_2 = np.array(test2['images'])\n",
    "test_digits_2 = np.array(test2['digits'])\n",
    "test2.close()"
   ]
  },
  {
   "cell_type": "code",
   "execution_count": 6,
   "metadata": {},
   "outputs": [],
   "source": [
    "from sklearn.neural_network import MLPClassifier\n",
    "from sklearn.metrics import accuracy_score"
   ]
  },
  {
   "cell_type": "code",
   "execution_count": 8,
   "metadata": {},
   "outputs": [
    {
     "name": "stdout",
     "output_type": "stream",
     "text": [
      "Accuracy on Test Set 1: 1.0\n",
      "Accuracy on Test Set 2: 0.7623133142675564\n"
     ]
    }
   ],
   "source": [
    "# 1st we will flatten the images in 1D array\n",
    "flatTrainImages = train_images.reshape(train_images.shape[0], -1)\n",
    "flatTestImages1 = test_images_1.reshape(test_images_1.shape[0], -1)\n",
    "flatTestImages2 = test_images_2.reshape(test_images_2.shape[0], -1)\n",
    "\n",
    "# lets convert background of test set 2 images to white\n",
    "whiteTestImages2 = flatTestImages2.copy()\n",
    "whiteTestImages2[whiteTestImages2 == 0] = 255  \n",
    "\n",
    "# Again flatten the test set 2 images\n",
    "flatTestImages2 = whiteTestImages2.reshape(whiteTestImages2.shape[0], -1)\n",
    "\n",
    "# Creating and training the MLP classifier\n",
    "mlpClf = MLPClassifier(random_state=42)\n",
    "mlpClf.fit(flatTrainImages, train_digits)\n",
    "\n",
    "# Doing predictions on test sets 1 and \n",
    "test1Predictions = mlpClf.predict(flatTestImages1)\n",
    "test2Predictions = mlpClf.predict(flatTestImages2)\n",
    "\n",
    "# Calculating the accurac of the model on both test set\n",
    "accuracyTest2 = accuracy_score(test_digits_1, test1Predictions)\n",
    "accuracyTest1 = accuracy_score(test_digits_2, test2Predictions)\n",
    "\n",
    "print(\"Accuracy on Test Set 1:\", accuracyTest2)\n",
    "print(\"Accuracy on Test Set 2:\", accuracyTest1)"
   ]
  },
  {
   "cell_type": "code",
   "execution_count": null,
   "metadata": {},
   "outputs": [],
   "source": []
  },
  {
   "cell_type": "code",
   "execution_count": null,
   "metadata": {},
   "outputs": [],
   "source": [
    "\n"
   ]
  },
  {
   "cell_type": "code",
   "execution_count": null,
   "metadata": {},
   "outputs": [],
   "source": []
  },
  {
   "cell_type": "code",
   "execution_count": null,
   "metadata": {},
   "outputs": [],
   "source": []
  },
  {
   "cell_type": "code",
   "execution_count": null,
   "metadata": {},
   "outputs": [],
   "source": []
  }
 ],
 "metadata": {
  "colab": {
   "provenance": []
  },
  "kernelspec": {
   "display_name": "Python 3 (ipykernel)",
   "language": "python",
   "name": "python3"
  },
  "language_info": {
   "codemirror_mode": {
    "name": "ipython",
    "version": 3
   },
   "file_extension": ".py",
   "mimetype": "text/x-python",
   "name": "python",
   "nbconvert_exporter": "python",
   "pygments_lexer": "ipython3",
   "version": "3.7.0"
  }
 },
 "nbformat": 4,
 "nbformat_minor": 1
}
