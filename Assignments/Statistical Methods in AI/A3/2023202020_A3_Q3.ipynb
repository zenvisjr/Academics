{
  "nbformat": 4,
  "nbformat_minor": 0,
  "metadata": {
    "colab": {
      "provenance": [],
      "gpuType": "T4"
    },
    "kernelspec": {
      "name": "python3",
      "display_name": "Python 3"
    },
    "language_info": {
      "name": "python"
    },
    "accelerator": "GPU",
    "widgets": {
      "application/vnd.jupyter.widget-state+json": {
        "50e8a174780646feba33acfc4efc2873": {
          "model_module": "@jupyter-widgets/controls",
          "model_name": "HBoxModel",
          "model_module_version": "1.5.0",
          "state": {
            "_dom_classes": [],
            "_model_module": "@jupyter-widgets/controls",
            "_model_module_version": "1.5.0",
            "_model_name": "HBoxModel",
            "_view_count": null,
            "_view_module": "@jupyter-widgets/controls",
            "_view_module_version": "1.5.0",
            "_view_name": "HBoxView",
            "box_style": "",
            "children": [
              "IPY_MODEL_a0631c0e5b6444239e5c50d46dab1070",
              "IPY_MODEL_445c4f49d35b4992835bd482f5278ca9",
              "IPY_MODEL_bb9c429cf1cf4da794039c452c8e0822"
            ],
            "layout": "IPY_MODEL_90e1b77c4dd642cf829543674b486d3d"
          }
        },
        "a0631c0e5b6444239e5c50d46dab1070": {
          "model_module": "@jupyter-widgets/controls",
          "model_name": "HTMLModel",
          "model_module_version": "1.5.0",
          "state": {
            "_dom_classes": [],
            "_model_module": "@jupyter-widgets/controls",
            "_model_module_version": "1.5.0",
            "_model_name": "HTMLModel",
            "_view_count": null,
            "_view_module": "@jupyter-widgets/controls",
            "_view_module_version": "1.5.0",
            "_view_name": "HTMLView",
            "description": "",
            "description_tooltip": null,
            "layout": "IPY_MODEL_6650d2c7c789477b97fc4c02f5031d6a",
            "placeholder": "​",
            "style": "IPY_MODEL_fe5a0ca00f574ab6996231b4261ef593",
            "value": "Generating train split: 100%"
          }
        },
        "445c4f49d35b4992835bd482f5278ca9": {
          "model_module": "@jupyter-widgets/controls",
          "model_name": "FloatProgressModel",
          "model_module_version": "1.5.0",
          "state": {
            "_dom_classes": [],
            "_model_module": "@jupyter-widgets/controls",
            "_model_module_version": "1.5.0",
            "_model_name": "FloatProgressModel",
            "_view_count": null,
            "_view_module": "@jupyter-widgets/controls",
            "_view_module_version": "1.5.0",
            "_view_name": "ProgressView",
            "bar_style": "success",
            "description": "",
            "description_tooltip": null,
            "layout": "IPY_MODEL_37f0f7940ca64bb98320ef6164e9242c",
            "max": 25000,
            "min": 0,
            "orientation": "horizontal",
            "style": "IPY_MODEL_5e0b4d11d09e40dbbfca627953deb148",
            "value": 25000
          }
        },
        "bb9c429cf1cf4da794039c452c8e0822": {
          "model_module": "@jupyter-widgets/controls",
          "model_name": "HTMLModel",
          "model_module_version": "1.5.0",
          "state": {
            "_dom_classes": [],
            "_model_module": "@jupyter-widgets/controls",
            "_model_module_version": "1.5.0",
            "_model_name": "HTMLModel",
            "_view_count": null,
            "_view_module": "@jupyter-widgets/controls",
            "_view_module_version": "1.5.0",
            "_view_name": "HTMLView",
            "description": "",
            "description_tooltip": null,
            "layout": "IPY_MODEL_996e111be2a24f10957c4e7b05fdcc57",
            "placeholder": "​",
            "style": "IPY_MODEL_57ee14c354bb4cc19cf7e5f26cba3f72",
            "value": " 25000/25000 [00:00&lt;00:00, 91996.83 examples/s]"
          }
        },
        "90e1b77c4dd642cf829543674b486d3d": {
          "model_module": "@jupyter-widgets/base",
          "model_name": "LayoutModel",
          "model_module_version": "1.2.0",
          "state": {
            "_model_module": "@jupyter-widgets/base",
            "_model_module_version": "1.2.0",
            "_model_name": "LayoutModel",
            "_view_count": null,
            "_view_module": "@jupyter-widgets/base",
            "_view_module_version": "1.2.0",
            "_view_name": "LayoutView",
            "align_content": null,
            "align_items": null,
            "align_self": null,
            "border": null,
            "bottom": null,
            "display": null,
            "flex": null,
            "flex_flow": null,
            "grid_area": null,
            "grid_auto_columns": null,
            "grid_auto_flow": null,
            "grid_auto_rows": null,
            "grid_column": null,
            "grid_gap": null,
            "grid_row": null,
            "grid_template_areas": null,
            "grid_template_columns": null,
            "grid_template_rows": null,
            "height": null,
            "justify_content": null,
            "justify_items": null,
            "left": null,
            "margin": null,
            "max_height": null,
            "max_width": null,
            "min_height": null,
            "min_width": null,
            "object_fit": null,
            "object_position": null,
            "order": null,
            "overflow": null,
            "overflow_x": null,
            "overflow_y": null,
            "padding": null,
            "right": null,
            "top": null,
            "visibility": null,
            "width": null
          }
        },
        "6650d2c7c789477b97fc4c02f5031d6a": {
          "model_module": "@jupyter-widgets/base",
          "model_name": "LayoutModel",
          "model_module_version": "1.2.0",
          "state": {
            "_model_module": "@jupyter-widgets/base",
            "_model_module_version": "1.2.0",
            "_model_name": "LayoutModel",
            "_view_count": null,
            "_view_module": "@jupyter-widgets/base",
            "_view_module_version": "1.2.0",
            "_view_name": "LayoutView",
            "align_content": null,
            "align_items": null,
            "align_self": null,
            "border": null,
            "bottom": null,
            "display": null,
            "flex": null,
            "flex_flow": null,
            "grid_area": null,
            "grid_auto_columns": null,
            "grid_auto_flow": null,
            "grid_auto_rows": null,
            "grid_column": null,
            "grid_gap": null,
            "grid_row": null,
            "grid_template_areas": null,
            "grid_template_columns": null,
            "grid_template_rows": null,
            "height": null,
            "justify_content": null,
            "justify_items": null,
            "left": null,
            "margin": null,
            "max_height": null,
            "max_width": null,
            "min_height": null,
            "min_width": null,
            "object_fit": null,
            "object_position": null,
            "order": null,
            "overflow": null,
            "overflow_x": null,
            "overflow_y": null,
            "padding": null,
            "right": null,
            "top": null,
            "visibility": null,
            "width": null
          }
        },
        "fe5a0ca00f574ab6996231b4261ef593": {
          "model_module": "@jupyter-widgets/controls",
          "model_name": "DescriptionStyleModel",
          "model_module_version": "1.5.0",
          "state": {
            "_model_module": "@jupyter-widgets/controls",
            "_model_module_version": "1.5.0",
            "_model_name": "DescriptionStyleModel",
            "_view_count": null,
            "_view_module": "@jupyter-widgets/base",
            "_view_module_version": "1.2.0",
            "_view_name": "StyleView",
            "description_width": ""
          }
        },
        "37f0f7940ca64bb98320ef6164e9242c": {
          "model_module": "@jupyter-widgets/base",
          "model_name": "LayoutModel",
          "model_module_version": "1.2.0",
          "state": {
            "_model_module": "@jupyter-widgets/base",
            "_model_module_version": "1.2.0",
            "_model_name": "LayoutModel",
            "_view_count": null,
            "_view_module": "@jupyter-widgets/base",
            "_view_module_version": "1.2.0",
            "_view_name": "LayoutView",
            "align_content": null,
            "align_items": null,
            "align_self": null,
            "border": null,
            "bottom": null,
            "display": null,
            "flex": null,
            "flex_flow": null,
            "grid_area": null,
            "grid_auto_columns": null,
            "grid_auto_flow": null,
            "grid_auto_rows": null,
            "grid_column": null,
            "grid_gap": null,
            "grid_row": null,
            "grid_template_areas": null,
            "grid_template_columns": null,
            "grid_template_rows": null,
            "height": null,
            "justify_content": null,
            "justify_items": null,
            "left": null,
            "margin": null,
            "max_height": null,
            "max_width": null,
            "min_height": null,
            "min_width": null,
            "object_fit": null,
            "object_position": null,
            "order": null,
            "overflow": null,
            "overflow_x": null,
            "overflow_y": null,
            "padding": null,
            "right": null,
            "top": null,
            "visibility": null,
            "width": null
          }
        },
        "5e0b4d11d09e40dbbfca627953deb148": {
          "model_module": "@jupyter-widgets/controls",
          "model_name": "ProgressStyleModel",
          "model_module_version": "1.5.0",
          "state": {
            "_model_module": "@jupyter-widgets/controls",
            "_model_module_version": "1.5.0",
            "_model_name": "ProgressStyleModel",
            "_view_count": null,
            "_view_module": "@jupyter-widgets/base",
            "_view_module_version": "1.2.0",
            "_view_name": "StyleView",
            "bar_color": null,
            "description_width": ""
          }
        },
        "996e111be2a24f10957c4e7b05fdcc57": {
          "model_module": "@jupyter-widgets/base",
          "model_name": "LayoutModel",
          "model_module_version": "1.2.0",
          "state": {
            "_model_module": "@jupyter-widgets/base",
            "_model_module_version": "1.2.0",
            "_model_name": "LayoutModel",
            "_view_count": null,
            "_view_module": "@jupyter-widgets/base",
            "_view_module_version": "1.2.0",
            "_view_name": "LayoutView",
            "align_content": null,
            "align_items": null,
            "align_self": null,
            "border": null,
            "bottom": null,
            "display": null,
            "flex": null,
            "flex_flow": null,
            "grid_area": null,
            "grid_auto_columns": null,
            "grid_auto_flow": null,
            "grid_auto_rows": null,
            "grid_column": null,
            "grid_gap": null,
            "grid_row": null,
            "grid_template_areas": null,
            "grid_template_columns": null,
            "grid_template_rows": null,
            "height": null,
            "justify_content": null,
            "justify_items": null,
            "left": null,
            "margin": null,
            "max_height": null,
            "max_width": null,
            "min_height": null,
            "min_width": null,
            "object_fit": null,
            "object_position": null,
            "order": null,
            "overflow": null,
            "overflow_x": null,
            "overflow_y": null,
            "padding": null,
            "right": null,
            "top": null,
            "visibility": null,
            "width": null
          }
        },
        "57ee14c354bb4cc19cf7e5f26cba3f72": {
          "model_module": "@jupyter-widgets/controls",
          "model_name": "DescriptionStyleModel",
          "model_module_version": "1.5.0",
          "state": {
            "_model_module": "@jupyter-widgets/controls",
            "_model_module_version": "1.5.0",
            "_model_name": "DescriptionStyleModel",
            "_view_count": null,
            "_view_module": "@jupyter-widgets/base",
            "_view_module_version": "1.2.0",
            "_view_name": "StyleView",
            "description_width": ""
          }
        },
        "86498e1a1d1f4b34841268a48023b288": {
          "model_module": "@jupyter-widgets/controls",
          "model_name": "HBoxModel",
          "model_module_version": "1.5.0",
          "state": {
            "_dom_classes": [],
            "_model_module": "@jupyter-widgets/controls",
            "_model_module_version": "1.5.0",
            "_model_name": "HBoxModel",
            "_view_count": null,
            "_view_module": "@jupyter-widgets/controls",
            "_view_module_version": "1.5.0",
            "_view_name": "HBoxView",
            "box_style": "",
            "children": [
              "IPY_MODEL_1a9b0baee01241cb886c66a3aef03727",
              "IPY_MODEL_fcecf6736ba3418f817c3c572d1ed4cb",
              "IPY_MODEL_3fda7e41791442b1b280736e13160953"
            ],
            "layout": "IPY_MODEL_b8b750784a7e44b6a7a960d29fea8334"
          }
        },
        "1a9b0baee01241cb886c66a3aef03727": {
          "model_module": "@jupyter-widgets/controls",
          "model_name": "HTMLModel",
          "model_module_version": "1.5.0",
          "state": {
            "_dom_classes": [],
            "_model_module": "@jupyter-widgets/controls",
            "_model_module_version": "1.5.0",
            "_model_name": "HTMLModel",
            "_view_count": null,
            "_view_module": "@jupyter-widgets/controls",
            "_view_module_version": "1.5.0",
            "_view_name": "HTMLView",
            "description": "",
            "description_tooltip": null,
            "layout": "IPY_MODEL_da6c98a436b142abbc3cec96a0d16564",
            "placeholder": "​",
            "style": "IPY_MODEL_b7551571c2224c74b1a9f2aa73332fb4",
            "value": "Generating test split: 100%"
          }
        },
        "fcecf6736ba3418f817c3c572d1ed4cb": {
          "model_module": "@jupyter-widgets/controls",
          "model_name": "FloatProgressModel",
          "model_module_version": "1.5.0",
          "state": {
            "_dom_classes": [],
            "_model_module": "@jupyter-widgets/controls",
            "_model_module_version": "1.5.0",
            "_model_name": "FloatProgressModel",
            "_view_count": null,
            "_view_module": "@jupyter-widgets/controls",
            "_view_module_version": "1.5.0",
            "_view_name": "ProgressView",
            "bar_style": "success",
            "description": "",
            "description_tooltip": null,
            "layout": "IPY_MODEL_c55cd22c8a154e998777f1d4d9aff67f",
            "max": 25000,
            "min": 0,
            "orientation": "horizontal",
            "style": "IPY_MODEL_a096d13c72564eaaada0f6f9c3893b92",
            "value": 25000
          }
        },
        "3fda7e41791442b1b280736e13160953": {
          "model_module": "@jupyter-widgets/controls",
          "model_name": "HTMLModel",
          "model_module_version": "1.5.0",
          "state": {
            "_dom_classes": [],
            "_model_module": "@jupyter-widgets/controls",
            "_model_module_version": "1.5.0",
            "_model_name": "HTMLModel",
            "_view_count": null,
            "_view_module": "@jupyter-widgets/controls",
            "_view_module_version": "1.5.0",
            "_view_name": "HTMLView",
            "description": "",
            "description_tooltip": null,
            "layout": "IPY_MODEL_137e2abc0174448cb1105a25b5193d1a",
            "placeholder": "​",
            "style": "IPY_MODEL_2094bf50344a464baddf56f4a422f213",
            "value": " 25000/25000 [00:00&lt;00:00, 118096.40 examples/s]"
          }
        },
        "b8b750784a7e44b6a7a960d29fea8334": {
          "model_module": "@jupyter-widgets/base",
          "model_name": "LayoutModel",
          "model_module_version": "1.2.0",
          "state": {
            "_model_module": "@jupyter-widgets/base",
            "_model_module_version": "1.2.0",
            "_model_name": "LayoutModel",
            "_view_count": null,
            "_view_module": "@jupyter-widgets/base",
            "_view_module_version": "1.2.0",
            "_view_name": "LayoutView",
            "align_content": null,
            "align_items": null,
            "align_self": null,
            "border": null,
            "bottom": null,
            "display": null,
            "flex": null,
            "flex_flow": null,
            "grid_area": null,
            "grid_auto_columns": null,
            "grid_auto_flow": null,
            "grid_auto_rows": null,
            "grid_column": null,
            "grid_gap": null,
            "grid_row": null,
            "grid_template_areas": null,
            "grid_template_columns": null,
            "grid_template_rows": null,
            "height": null,
            "justify_content": null,
            "justify_items": null,
            "left": null,
            "margin": null,
            "max_height": null,
            "max_width": null,
            "min_height": null,
            "min_width": null,
            "object_fit": null,
            "object_position": null,
            "order": null,
            "overflow": null,
            "overflow_x": null,
            "overflow_y": null,
            "padding": null,
            "right": null,
            "top": null,
            "visibility": null,
            "width": null
          }
        },
        "da6c98a436b142abbc3cec96a0d16564": {
          "model_module": "@jupyter-widgets/base",
          "model_name": "LayoutModel",
          "model_module_version": "1.2.0",
          "state": {
            "_model_module": "@jupyter-widgets/base",
            "_model_module_version": "1.2.0",
            "_model_name": "LayoutModel",
            "_view_count": null,
            "_view_module": "@jupyter-widgets/base",
            "_view_module_version": "1.2.0",
            "_view_name": "LayoutView",
            "align_content": null,
            "align_items": null,
            "align_self": null,
            "border": null,
            "bottom": null,
            "display": null,
            "flex": null,
            "flex_flow": null,
            "grid_area": null,
            "grid_auto_columns": null,
            "grid_auto_flow": null,
            "grid_auto_rows": null,
            "grid_column": null,
            "grid_gap": null,
            "grid_row": null,
            "grid_template_areas": null,
            "grid_template_columns": null,
            "grid_template_rows": null,
            "height": null,
            "justify_content": null,
            "justify_items": null,
            "left": null,
            "margin": null,
            "max_height": null,
            "max_width": null,
            "min_height": null,
            "min_width": null,
            "object_fit": null,
            "object_position": null,
            "order": null,
            "overflow": null,
            "overflow_x": null,
            "overflow_y": null,
            "padding": null,
            "right": null,
            "top": null,
            "visibility": null,
            "width": null
          }
        },
        "b7551571c2224c74b1a9f2aa73332fb4": {
          "model_module": "@jupyter-widgets/controls",
          "model_name": "DescriptionStyleModel",
          "model_module_version": "1.5.0",
          "state": {
            "_model_module": "@jupyter-widgets/controls",
            "_model_module_version": "1.5.0",
            "_model_name": "DescriptionStyleModel",
            "_view_count": null,
            "_view_module": "@jupyter-widgets/base",
            "_view_module_version": "1.2.0",
            "_view_name": "StyleView",
            "description_width": ""
          }
        },
        "c55cd22c8a154e998777f1d4d9aff67f": {
          "model_module": "@jupyter-widgets/base",
          "model_name": "LayoutModel",
          "model_module_version": "1.2.0",
          "state": {
            "_model_module": "@jupyter-widgets/base",
            "_model_module_version": "1.2.0",
            "_model_name": "LayoutModel",
            "_view_count": null,
            "_view_module": "@jupyter-widgets/base",
            "_view_module_version": "1.2.0",
            "_view_name": "LayoutView",
            "align_content": null,
            "align_items": null,
            "align_self": null,
            "border": null,
            "bottom": null,
            "display": null,
            "flex": null,
            "flex_flow": null,
            "grid_area": null,
            "grid_auto_columns": null,
            "grid_auto_flow": null,
            "grid_auto_rows": null,
            "grid_column": null,
            "grid_gap": null,
            "grid_row": null,
            "grid_template_areas": null,
            "grid_template_columns": null,
            "grid_template_rows": null,
            "height": null,
            "justify_content": null,
            "justify_items": null,
            "left": null,
            "margin": null,
            "max_height": null,
            "max_width": null,
            "min_height": null,
            "min_width": null,
            "object_fit": null,
            "object_position": null,
            "order": null,
            "overflow": null,
            "overflow_x": null,
            "overflow_y": null,
            "padding": null,
            "right": null,
            "top": null,
            "visibility": null,
            "width": null
          }
        },
        "a096d13c72564eaaada0f6f9c3893b92": {
          "model_module": "@jupyter-widgets/controls",
          "model_name": "ProgressStyleModel",
          "model_module_version": "1.5.0",
          "state": {
            "_model_module": "@jupyter-widgets/controls",
            "_model_module_version": "1.5.0",
            "_model_name": "ProgressStyleModel",
            "_view_count": null,
            "_view_module": "@jupyter-widgets/base",
            "_view_module_version": "1.2.0",
            "_view_name": "StyleView",
            "bar_color": null,
            "description_width": ""
          }
        },
        "137e2abc0174448cb1105a25b5193d1a": {
          "model_module": "@jupyter-widgets/base",
          "model_name": "LayoutModel",
          "model_module_version": "1.2.0",
          "state": {
            "_model_module": "@jupyter-widgets/base",
            "_model_module_version": "1.2.0",
            "_model_name": "LayoutModel",
            "_view_count": null,
            "_view_module": "@jupyter-widgets/base",
            "_view_module_version": "1.2.0",
            "_view_name": "LayoutView",
            "align_content": null,
            "align_items": null,
            "align_self": null,
            "border": null,
            "bottom": null,
            "display": null,
            "flex": null,
            "flex_flow": null,
            "grid_area": null,
            "grid_auto_columns": null,
            "grid_auto_flow": null,
            "grid_auto_rows": null,
            "grid_column": null,
            "grid_gap": null,
            "grid_row": null,
            "grid_template_areas": null,
            "grid_template_columns": null,
            "grid_template_rows": null,
            "height": null,
            "justify_content": null,
            "justify_items": null,
            "left": null,
            "margin": null,
            "max_height": null,
            "max_width": null,
            "min_height": null,
            "min_width": null,
            "object_fit": null,
            "object_position": null,
            "order": null,
            "overflow": null,
            "overflow_x": null,
            "overflow_y": null,
            "padding": null,
            "right": null,
            "top": null,
            "visibility": null,
            "width": null
          }
        },
        "2094bf50344a464baddf56f4a422f213": {
          "model_module": "@jupyter-widgets/controls",
          "model_name": "DescriptionStyleModel",
          "model_module_version": "1.5.0",
          "state": {
            "_model_module": "@jupyter-widgets/controls",
            "_model_module_version": "1.5.0",
            "_model_name": "DescriptionStyleModel",
            "_view_count": null,
            "_view_module": "@jupyter-widgets/base",
            "_view_module_version": "1.2.0",
            "_view_name": "StyleView",
            "description_width": ""
          }
        },
        "b5fe4c45079945d3aa70243423b1d1f7": {
          "model_module": "@jupyter-widgets/controls",
          "model_name": "HBoxModel",
          "model_module_version": "1.5.0",
          "state": {
            "_dom_classes": [],
            "_model_module": "@jupyter-widgets/controls",
            "_model_module_version": "1.5.0",
            "_model_name": "HBoxModel",
            "_view_count": null,
            "_view_module": "@jupyter-widgets/controls",
            "_view_module_version": "1.5.0",
            "_view_name": "HBoxView",
            "box_style": "",
            "children": [
              "IPY_MODEL_bc1180477c744bdba812d52cc74c2551",
              "IPY_MODEL_f9887ead92fb41ecae0228bf1faf89cc",
              "IPY_MODEL_8792101cec0e4b1490207925f04dc9b2"
            ],
            "layout": "IPY_MODEL_5914861190bf4b78a7c3a6de7b462965"
          }
        },
        "bc1180477c744bdba812d52cc74c2551": {
          "model_module": "@jupyter-widgets/controls",
          "model_name": "HTMLModel",
          "model_module_version": "1.5.0",
          "state": {
            "_dom_classes": [],
            "_model_module": "@jupyter-widgets/controls",
            "_model_module_version": "1.5.0",
            "_model_name": "HTMLModel",
            "_view_count": null,
            "_view_module": "@jupyter-widgets/controls",
            "_view_module_version": "1.5.0",
            "_view_name": "HTMLView",
            "description": "",
            "description_tooltip": null,
            "layout": "IPY_MODEL_fc3b397194af4da482cb1b4eeee45e81",
            "placeholder": "​",
            "style": "IPY_MODEL_4027230bf6cc4440851346c2c6bfb20a",
            "value": "Generating unsupervised split: 100%"
          }
        },
        "f9887ead92fb41ecae0228bf1faf89cc": {
          "model_module": "@jupyter-widgets/controls",
          "model_name": "FloatProgressModel",
          "model_module_version": "1.5.0",
          "state": {
            "_dom_classes": [],
            "_model_module": "@jupyter-widgets/controls",
            "_model_module_version": "1.5.0",
            "_model_name": "FloatProgressModel",
            "_view_count": null,
            "_view_module": "@jupyter-widgets/controls",
            "_view_module_version": "1.5.0",
            "_view_name": "ProgressView",
            "bar_style": "success",
            "description": "",
            "description_tooltip": null,
            "layout": "IPY_MODEL_9393ac6ad5fe4dc0b53828b63e53d50b",
            "max": 50000,
            "min": 0,
            "orientation": "horizontal",
            "style": "IPY_MODEL_26a796875f064ab98e3d98495afa4cd1",
            "value": 50000
          }
        },
        "8792101cec0e4b1490207925f04dc9b2": {
          "model_module": "@jupyter-widgets/controls",
          "model_name": "HTMLModel",
          "model_module_version": "1.5.0",
          "state": {
            "_dom_classes": [],
            "_model_module": "@jupyter-widgets/controls",
            "_model_module_version": "1.5.0",
            "_model_name": "HTMLModel",
            "_view_count": null,
            "_view_module": "@jupyter-widgets/controls",
            "_view_module_version": "1.5.0",
            "_view_name": "HTMLView",
            "description": "",
            "description_tooltip": null,
            "layout": "IPY_MODEL_5f98568a7b4f4dec864e2300c53285a5",
            "placeholder": "​",
            "style": "IPY_MODEL_efcb4aba1aef432e9d350b56c44b2a45",
            "value": " 50000/50000 [00:00&lt;00:00, 172174.71 examples/s]"
          }
        },
        "5914861190bf4b78a7c3a6de7b462965": {
          "model_module": "@jupyter-widgets/base",
          "model_name": "LayoutModel",
          "model_module_version": "1.2.0",
          "state": {
            "_model_module": "@jupyter-widgets/base",
            "_model_module_version": "1.2.0",
            "_model_name": "LayoutModel",
            "_view_count": null,
            "_view_module": "@jupyter-widgets/base",
            "_view_module_version": "1.2.0",
            "_view_name": "LayoutView",
            "align_content": null,
            "align_items": null,
            "align_self": null,
            "border": null,
            "bottom": null,
            "display": null,
            "flex": null,
            "flex_flow": null,
            "grid_area": null,
            "grid_auto_columns": null,
            "grid_auto_flow": null,
            "grid_auto_rows": null,
            "grid_column": null,
            "grid_gap": null,
            "grid_row": null,
            "grid_template_areas": null,
            "grid_template_columns": null,
            "grid_template_rows": null,
            "height": null,
            "justify_content": null,
            "justify_items": null,
            "left": null,
            "margin": null,
            "max_height": null,
            "max_width": null,
            "min_height": null,
            "min_width": null,
            "object_fit": null,
            "object_position": null,
            "order": null,
            "overflow": null,
            "overflow_x": null,
            "overflow_y": null,
            "padding": null,
            "right": null,
            "top": null,
            "visibility": null,
            "width": null
          }
        },
        "fc3b397194af4da482cb1b4eeee45e81": {
          "model_module": "@jupyter-widgets/base",
          "model_name": "LayoutModel",
          "model_module_version": "1.2.0",
          "state": {
            "_model_module": "@jupyter-widgets/base",
            "_model_module_version": "1.2.0",
            "_model_name": "LayoutModel",
            "_view_count": null,
            "_view_module": "@jupyter-widgets/base",
            "_view_module_version": "1.2.0",
            "_view_name": "LayoutView",
            "align_content": null,
            "align_items": null,
            "align_self": null,
            "border": null,
            "bottom": null,
            "display": null,
            "flex": null,
            "flex_flow": null,
            "grid_area": null,
            "grid_auto_columns": null,
            "grid_auto_flow": null,
            "grid_auto_rows": null,
            "grid_column": null,
            "grid_gap": null,
            "grid_row": null,
            "grid_template_areas": null,
            "grid_template_columns": null,
            "grid_template_rows": null,
            "height": null,
            "justify_content": null,
            "justify_items": null,
            "left": null,
            "margin": null,
            "max_height": null,
            "max_width": null,
            "min_height": null,
            "min_width": null,
            "object_fit": null,
            "object_position": null,
            "order": null,
            "overflow": null,
            "overflow_x": null,
            "overflow_y": null,
            "padding": null,
            "right": null,
            "top": null,
            "visibility": null,
            "width": null
          }
        },
        "4027230bf6cc4440851346c2c6bfb20a": {
          "model_module": "@jupyter-widgets/controls",
          "model_name": "DescriptionStyleModel",
          "model_module_version": "1.5.0",
          "state": {
            "_model_module": "@jupyter-widgets/controls",
            "_model_module_version": "1.5.0",
            "_model_name": "DescriptionStyleModel",
            "_view_count": null,
            "_view_module": "@jupyter-widgets/base",
            "_view_module_version": "1.2.0",
            "_view_name": "StyleView",
            "description_width": ""
          }
        },
        "9393ac6ad5fe4dc0b53828b63e53d50b": {
          "model_module": "@jupyter-widgets/base",
          "model_name": "LayoutModel",
          "model_module_version": "1.2.0",
          "state": {
            "_model_module": "@jupyter-widgets/base",
            "_model_module_version": "1.2.0",
            "_model_name": "LayoutModel",
            "_view_count": null,
            "_view_module": "@jupyter-widgets/base",
            "_view_module_version": "1.2.0",
            "_view_name": "LayoutView",
            "align_content": null,
            "align_items": null,
            "align_self": null,
            "border": null,
            "bottom": null,
            "display": null,
            "flex": null,
            "flex_flow": null,
            "grid_area": null,
            "grid_auto_columns": null,
            "grid_auto_flow": null,
            "grid_auto_rows": null,
            "grid_column": null,
            "grid_gap": null,
            "grid_row": null,
            "grid_template_areas": null,
            "grid_template_columns": null,
            "grid_template_rows": null,
            "height": null,
            "justify_content": null,
            "justify_items": null,
            "left": null,
            "margin": null,
            "max_height": null,
            "max_width": null,
            "min_height": null,
            "min_width": null,
            "object_fit": null,
            "object_position": null,
            "order": null,
            "overflow": null,
            "overflow_x": null,
            "overflow_y": null,
            "padding": null,
            "right": null,
            "top": null,
            "visibility": null,
            "width": null
          }
        },
        "26a796875f064ab98e3d98495afa4cd1": {
          "model_module": "@jupyter-widgets/controls",
          "model_name": "ProgressStyleModel",
          "model_module_version": "1.5.0",
          "state": {
            "_model_module": "@jupyter-widgets/controls",
            "_model_module_version": "1.5.0",
            "_model_name": "ProgressStyleModel",
            "_view_count": null,
            "_view_module": "@jupyter-widgets/base",
            "_view_module_version": "1.2.0",
            "_view_name": "StyleView",
            "bar_color": null,
            "description_width": ""
          }
        },
        "5f98568a7b4f4dec864e2300c53285a5": {
          "model_module": "@jupyter-widgets/base",
          "model_name": "LayoutModel",
          "model_module_version": "1.2.0",
          "state": {
            "_model_module": "@jupyter-widgets/base",
            "_model_module_version": "1.2.0",
            "_model_name": "LayoutModel",
            "_view_count": null,
            "_view_module": "@jupyter-widgets/base",
            "_view_module_version": "1.2.0",
            "_view_name": "LayoutView",
            "align_content": null,
            "align_items": null,
            "align_self": null,
            "border": null,
            "bottom": null,
            "display": null,
            "flex": null,
            "flex_flow": null,
            "grid_area": null,
            "grid_auto_columns": null,
            "grid_auto_flow": null,
            "grid_auto_rows": null,
            "grid_column": null,
            "grid_gap": null,
            "grid_row": null,
            "grid_template_areas": null,
            "grid_template_columns": null,
            "grid_template_rows": null,
            "height": null,
            "justify_content": null,
            "justify_items": null,
            "left": null,
            "margin": null,
            "max_height": null,
            "max_width": null,
            "min_height": null,
            "min_width": null,
            "object_fit": null,
            "object_position": null,
            "order": null,
            "overflow": null,
            "overflow_x": null,
            "overflow_y": null,
            "padding": null,
            "right": null,
            "top": null,
            "visibility": null,
            "width": null
          }
        },
        "efcb4aba1aef432e9d350b56c44b2a45": {
          "model_module": "@jupyter-widgets/controls",
          "model_name": "DescriptionStyleModel",
          "model_module_version": "1.5.0",
          "state": {
            "_model_module": "@jupyter-widgets/controls",
            "_model_module_version": "1.5.0",
            "_model_name": "DescriptionStyleModel",
            "_view_count": null,
            "_view_module": "@jupyter-widgets/base",
            "_view_module_version": "1.2.0",
            "_view_name": "StyleView",
            "description_width": ""
          }
        },
        "4264f06850b5463bb059fcb39a3cf179": {
          "model_module": "@jupyter-widgets/controls",
          "model_name": "VBoxModel",
          "model_module_version": "1.5.0",
          "state": {
            "_dom_classes": [],
            "_model_module": "@jupyter-widgets/controls",
            "_model_module_version": "1.5.0",
            "_model_name": "VBoxModel",
            "_view_count": null,
            "_view_module": "@jupyter-widgets/controls",
            "_view_module_version": "1.5.0",
            "_view_name": "VBoxView",
            "box_style": "",
            "children": [
              "IPY_MODEL_fb0394f2994d40b59c29416b731c5497",
              "IPY_MODEL_7949dd67d5c548739adf6b1b3d539645"
            ],
            "layout": "IPY_MODEL_ab3c9cd01403454d871e0cc8bc9b8007"
          }
        },
        "fb0394f2994d40b59c29416b731c5497": {
          "model_module": "@jupyter-widgets/controls",
          "model_name": "LabelModel",
          "model_module_version": "1.5.0",
          "state": {
            "_dom_classes": [],
            "_model_module": "@jupyter-widgets/controls",
            "_model_module_version": "1.5.0",
            "_model_name": "LabelModel",
            "_view_count": null,
            "_view_module": "@jupyter-widgets/controls",
            "_view_module_version": "1.5.0",
            "_view_name": "LabelView",
            "description": "",
            "description_tooltip": null,
            "layout": "IPY_MODEL_38d910db765b4cf8b269c3813b640cb2",
            "placeholder": "​",
            "style": "IPY_MODEL_209249e42276487c9e4f70c11d9ebace",
            "value": "0.011 MB of 0.011 MB uploaded\r"
          }
        },
        "7949dd67d5c548739adf6b1b3d539645": {
          "model_module": "@jupyter-widgets/controls",
          "model_name": "FloatProgressModel",
          "model_module_version": "1.5.0",
          "state": {
            "_dom_classes": [],
            "_model_module": "@jupyter-widgets/controls",
            "_model_module_version": "1.5.0",
            "_model_name": "FloatProgressModel",
            "_view_count": null,
            "_view_module": "@jupyter-widgets/controls",
            "_view_module_version": "1.5.0",
            "_view_name": "ProgressView",
            "bar_style": "",
            "description": "",
            "description_tooltip": null,
            "layout": "IPY_MODEL_ce392d935ce14fe7baa3c63c17670a1c",
            "max": 1,
            "min": 0,
            "orientation": "horizontal",
            "style": "IPY_MODEL_32f3e803ec3447cdbc64fe3664e3c4df",
            "value": 1
          }
        },
        "ab3c9cd01403454d871e0cc8bc9b8007": {
          "model_module": "@jupyter-widgets/base",
          "model_name": "LayoutModel",
          "model_module_version": "1.2.0",
          "state": {
            "_model_module": "@jupyter-widgets/base",
            "_model_module_version": "1.2.0",
            "_model_name": "LayoutModel",
            "_view_count": null,
            "_view_module": "@jupyter-widgets/base",
            "_view_module_version": "1.2.0",
            "_view_name": "LayoutView",
            "align_content": null,
            "align_items": null,
            "align_self": null,
            "border": null,
            "bottom": null,
            "display": null,
            "flex": null,
            "flex_flow": null,
            "grid_area": null,
            "grid_auto_columns": null,
            "grid_auto_flow": null,
            "grid_auto_rows": null,
            "grid_column": null,
            "grid_gap": null,
            "grid_row": null,
            "grid_template_areas": null,
            "grid_template_columns": null,
            "grid_template_rows": null,
            "height": null,
            "justify_content": null,
            "justify_items": null,
            "left": null,
            "margin": null,
            "max_height": null,
            "max_width": null,
            "min_height": null,
            "min_width": null,
            "object_fit": null,
            "object_position": null,
            "order": null,
            "overflow": null,
            "overflow_x": null,
            "overflow_y": null,
            "padding": null,
            "right": null,
            "top": null,
            "visibility": null,
            "width": null
          }
        },
        "38d910db765b4cf8b269c3813b640cb2": {
          "model_module": "@jupyter-widgets/base",
          "model_name": "LayoutModel",
          "model_module_version": "1.2.0",
          "state": {
            "_model_module": "@jupyter-widgets/base",
            "_model_module_version": "1.2.0",
            "_model_name": "LayoutModel",
            "_view_count": null,
            "_view_module": "@jupyter-widgets/base",
            "_view_module_version": "1.2.0",
            "_view_name": "LayoutView",
            "align_content": null,
            "align_items": null,
            "align_self": null,
            "border": null,
            "bottom": null,
            "display": null,
            "flex": null,
            "flex_flow": null,
            "grid_area": null,
            "grid_auto_columns": null,
            "grid_auto_flow": null,
            "grid_auto_rows": null,
            "grid_column": null,
            "grid_gap": null,
            "grid_row": null,
            "grid_template_areas": null,
            "grid_template_columns": null,
            "grid_template_rows": null,
            "height": null,
            "justify_content": null,
            "justify_items": null,
            "left": null,
            "margin": null,
            "max_height": null,
            "max_width": null,
            "min_height": null,
            "min_width": null,
            "object_fit": null,
            "object_position": null,
            "order": null,
            "overflow": null,
            "overflow_x": null,
            "overflow_y": null,
            "padding": null,
            "right": null,
            "top": null,
            "visibility": null,
            "width": null
          }
        },
        "209249e42276487c9e4f70c11d9ebace": {
          "model_module": "@jupyter-widgets/controls",
          "model_name": "DescriptionStyleModel",
          "model_module_version": "1.5.0",
          "state": {
            "_model_module": "@jupyter-widgets/controls",
            "_model_module_version": "1.5.0",
            "_model_name": "DescriptionStyleModel",
            "_view_count": null,
            "_view_module": "@jupyter-widgets/base",
            "_view_module_version": "1.2.0",
            "_view_name": "StyleView",
            "description_width": ""
          }
        },
        "ce392d935ce14fe7baa3c63c17670a1c": {
          "model_module": "@jupyter-widgets/base",
          "model_name": "LayoutModel",
          "model_module_version": "1.2.0",
          "state": {
            "_model_module": "@jupyter-widgets/base",
            "_model_module_version": "1.2.0",
            "_model_name": "LayoutModel",
            "_view_count": null,
            "_view_module": "@jupyter-widgets/base",
            "_view_module_version": "1.2.0",
            "_view_name": "LayoutView",
            "align_content": null,
            "align_items": null,
            "align_self": null,
            "border": null,
            "bottom": null,
            "display": null,
            "flex": null,
            "flex_flow": null,
            "grid_area": null,
            "grid_auto_columns": null,
            "grid_auto_flow": null,
            "grid_auto_rows": null,
            "grid_column": null,
            "grid_gap": null,
            "grid_row": null,
            "grid_template_areas": null,
            "grid_template_columns": null,
            "grid_template_rows": null,
            "height": null,
            "justify_content": null,
            "justify_items": null,
            "left": null,
            "margin": null,
            "max_height": null,
            "max_width": null,
            "min_height": null,
            "min_width": null,
            "object_fit": null,
            "object_position": null,
            "order": null,
            "overflow": null,
            "overflow_x": null,
            "overflow_y": null,
            "padding": null,
            "right": null,
            "top": null,
            "visibility": null,
            "width": null
          }
        },
        "32f3e803ec3447cdbc64fe3664e3c4df": {
          "model_module": "@jupyter-widgets/controls",
          "model_name": "ProgressStyleModel",
          "model_module_version": "1.5.0",
          "state": {
            "_model_module": "@jupyter-widgets/controls",
            "_model_module_version": "1.5.0",
            "_model_name": "ProgressStyleModel",
            "_view_count": null,
            "_view_module": "@jupyter-widgets/base",
            "_view_module_version": "1.2.0",
            "_view_name": "StyleView",
            "bar_color": null,
            "description_width": ""
          }
        },
        "e3f09c9e14ac495e810c33e1d5b36668": {
          "model_module": "@jupyter-widgets/controls",
          "model_name": "VBoxModel",
          "model_module_version": "1.5.0",
          "state": {
            "_dom_classes": [],
            "_model_module": "@jupyter-widgets/controls",
            "_model_module_version": "1.5.0",
            "_model_name": "VBoxModel",
            "_view_count": null,
            "_view_module": "@jupyter-widgets/controls",
            "_view_module_version": "1.5.0",
            "_view_name": "VBoxView",
            "box_style": "",
            "children": [
              "IPY_MODEL_99c89dd0e7b74950ba11454816bc0b4a",
              "IPY_MODEL_7cb2445ff7744fa195501f7b31a3a73e"
            ],
            "layout": "IPY_MODEL_59babd2a19ed41eebeb426eee8e4d2f8"
          }
        },
        "99c89dd0e7b74950ba11454816bc0b4a": {
          "model_module": "@jupyter-widgets/controls",
          "model_name": "LabelModel",
          "model_module_version": "1.5.0",
          "state": {
            "_dom_classes": [],
            "_model_module": "@jupyter-widgets/controls",
            "_model_module_version": "1.5.0",
            "_model_name": "LabelModel",
            "_view_count": null,
            "_view_module": "@jupyter-widgets/controls",
            "_view_module_version": "1.5.0",
            "_view_name": "LabelView",
            "description": "",
            "description_tooltip": null,
            "layout": "IPY_MODEL_a64eba9270934e6380e85601ff2513a0",
            "placeholder": "​",
            "style": "IPY_MODEL_d29f8c81ae764f6a8ef0a6d3d77c9c0c",
            "value": "0.024 MB of 0.024 MB uploaded\r"
          }
        },
        "7cb2445ff7744fa195501f7b31a3a73e": {
          "model_module": "@jupyter-widgets/controls",
          "model_name": "FloatProgressModel",
          "model_module_version": "1.5.0",
          "state": {
            "_dom_classes": [],
            "_model_module": "@jupyter-widgets/controls",
            "_model_module_version": "1.5.0",
            "_model_name": "FloatProgressModel",
            "_view_count": null,
            "_view_module": "@jupyter-widgets/controls",
            "_view_module_version": "1.5.0",
            "_view_name": "ProgressView",
            "bar_style": "",
            "description": "",
            "description_tooltip": null,
            "layout": "IPY_MODEL_f1b0846d2cc841cda1885b4b97d1fc86",
            "max": 1,
            "min": 0,
            "orientation": "horizontal",
            "style": "IPY_MODEL_90b2298ecdd9439a8a9ae1f1eade5333",
            "value": 1
          }
        },
        "59babd2a19ed41eebeb426eee8e4d2f8": {
          "model_module": "@jupyter-widgets/base",
          "model_name": "LayoutModel",
          "model_module_version": "1.2.0",
          "state": {
            "_model_module": "@jupyter-widgets/base",
            "_model_module_version": "1.2.0",
            "_model_name": "LayoutModel",
            "_view_count": null,
            "_view_module": "@jupyter-widgets/base",
            "_view_module_version": "1.2.0",
            "_view_name": "LayoutView",
            "align_content": null,
            "align_items": null,
            "align_self": null,
            "border": null,
            "bottom": null,
            "display": null,
            "flex": null,
            "flex_flow": null,
            "grid_area": null,
            "grid_auto_columns": null,
            "grid_auto_flow": null,
            "grid_auto_rows": null,
            "grid_column": null,
            "grid_gap": null,
            "grid_row": null,
            "grid_template_areas": null,
            "grid_template_columns": null,
            "grid_template_rows": null,
            "height": null,
            "justify_content": null,
            "justify_items": null,
            "left": null,
            "margin": null,
            "max_height": null,
            "max_width": null,
            "min_height": null,
            "min_width": null,
            "object_fit": null,
            "object_position": null,
            "order": null,
            "overflow": null,
            "overflow_x": null,
            "overflow_y": null,
            "padding": null,
            "right": null,
            "top": null,
            "visibility": null,
            "width": null
          }
        },
        "a64eba9270934e6380e85601ff2513a0": {
          "model_module": "@jupyter-widgets/base",
          "model_name": "LayoutModel",
          "model_module_version": "1.2.0",
          "state": {
            "_model_module": "@jupyter-widgets/base",
            "_model_module_version": "1.2.0",
            "_model_name": "LayoutModel",
            "_view_count": null,
            "_view_module": "@jupyter-widgets/base",
            "_view_module_version": "1.2.0",
            "_view_name": "LayoutView",
            "align_content": null,
            "align_items": null,
            "align_self": null,
            "border": null,
            "bottom": null,
            "display": null,
            "flex": null,
            "flex_flow": null,
            "grid_area": null,
            "grid_auto_columns": null,
            "grid_auto_flow": null,
            "grid_auto_rows": null,
            "grid_column": null,
            "grid_gap": null,
            "grid_row": null,
            "grid_template_areas": null,
            "grid_template_columns": null,
            "grid_template_rows": null,
            "height": null,
            "justify_content": null,
            "justify_items": null,
            "left": null,
            "margin": null,
            "max_height": null,
            "max_width": null,
            "min_height": null,
            "min_width": null,
            "object_fit": null,
            "object_position": null,
            "order": null,
            "overflow": null,
            "overflow_x": null,
            "overflow_y": null,
            "padding": null,
            "right": null,
            "top": null,
            "visibility": null,
            "width": null
          }
        },
        "d29f8c81ae764f6a8ef0a6d3d77c9c0c": {
          "model_module": "@jupyter-widgets/controls",
          "model_name": "DescriptionStyleModel",
          "model_module_version": "1.5.0",
          "state": {
            "_model_module": "@jupyter-widgets/controls",
            "_model_module_version": "1.5.0",
            "_model_name": "DescriptionStyleModel",
            "_view_count": null,
            "_view_module": "@jupyter-widgets/base",
            "_view_module_version": "1.2.0",
            "_view_name": "StyleView",
            "description_width": ""
          }
        },
        "f1b0846d2cc841cda1885b4b97d1fc86": {
          "model_module": "@jupyter-widgets/base",
          "model_name": "LayoutModel",
          "model_module_version": "1.2.0",
          "state": {
            "_model_module": "@jupyter-widgets/base",
            "_model_module_version": "1.2.0",
            "_model_name": "LayoutModel",
            "_view_count": null,
            "_view_module": "@jupyter-widgets/base",
            "_view_module_version": "1.2.0",
            "_view_name": "LayoutView",
            "align_content": null,
            "align_items": null,
            "align_self": null,
            "border": null,
            "bottom": null,
            "display": null,
            "flex": null,
            "flex_flow": null,
            "grid_area": null,
            "grid_auto_columns": null,
            "grid_auto_flow": null,
            "grid_auto_rows": null,
            "grid_column": null,
            "grid_gap": null,
            "grid_row": null,
            "grid_template_areas": null,
            "grid_template_columns": null,
            "grid_template_rows": null,
            "height": null,
            "justify_content": null,
            "justify_items": null,
            "left": null,
            "margin": null,
            "max_height": null,
            "max_width": null,
            "min_height": null,
            "min_width": null,
            "object_fit": null,
            "object_position": null,
            "order": null,
            "overflow": null,
            "overflow_x": null,
            "overflow_y": null,
            "padding": null,
            "right": null,
            "top": null,
            "visibility": null,
            "width": null
          }
        },
        "90b2298ecdd9439a8a9ae1f1eade5333": {
          "model_module": "@jupyter-widgets/controls",
          "model_name": "ProgressStyleModel",
          "model_module_version": "1.5.0",
          "state": {
            "_model_module": "@jupyter-widgets/controls",
            "_model_module_version": "1.5.0",
            "_model_name": "ProgressStyleModel",
            "_view_count": null,
            "_view_module": "@jupyter-widgets/base",
            "_view_module_version": "1.2.0",
            "_view_name": "StyleView",
            "bar_color": null,
            "description_width": ""
          }
        },
        "ac526d7fceab433c9292f891a9f80c67": {
          "model_module": "@jupyter-widgets/controls",
          "model_name": "VBoxModel",
          "model_module_version": "1.5.0",
          "state": {
            "_dom_classes": [],
            "_model_module": "@jupyter-widgets/controls",
            "_model_module_version": "1.5.0",
            "_model_name": "VBoxModel",
            "_view_count": null,
            "_view_module": "@jupyter-widgets/controls",
            "_view_module_version": "1.5.0",
            "_view_name": "VBoxView",
            "box_style": "",
            "children": [
              "IPY_MODEL_f514828fd7cd4c3f8eb08336526033a1",
              "IPY_MODEL_6a66099ccb074c1ebce91faa2131c47d"
            ],
            "layout": "IPY_MODEL_a70eeb458bf1466da32f74660961cf17"
          }
        },
        "f514828fd7cd4c3f8eb08336526033a1": {
          "model_module": "@jupyter-widgets/controls",
          "model_name": "LabelModel",
          "model_module_version": "1.5.0",
          "state": {
            "_dom_classes": [],
            "_model_module": "@jupyter-widgets/controls",
            "_model_module_version": "1.5.0",
            "_model_name": "LabelModel",
            "_view_count": null,
            "_view_module": "@jupyter-widgets/controls",
            "_view_module_version": "1.5.0",
            "_view_name": "LabelView",
            "description": "",
            "description_tooltip": null,
            "layout": "IPY_MODEL_b9ba635dd0ed46c5a146b66bef31900a",
            "placeholder": "​",
            "style": "IPY_MODEL_ec82f65684624c108ba58af89db71aaa",
            "value": "0.025 MB of 0.025 MB uploaded\r"
          }
        },
        "6a66099ccb074c1ebce91faa2131c47d": {
          "model_module": "@jupyter-widgets/controls",
          "model_name": "FloatProgressModel",
          "model_module_version": "1.5.0",
          "state": {
            "_dom_classes": [],
            "_model_module": "@jupyter-widgets/controls",
            "_model_module_version": "1.5.0",
            "_model_name": "FloatProgressModel",
            "_view_count": null,
            "_view_module": "@jupyter-widgets/controls",
            "_view_module_version": "1.5.0",
            "_view_name": "ProgressView",
            "bar_style": "",
            "description": "",
            "description_tooltip": null,
            "layout": "IPY_MODEL_d183f0653bde4b4c814abd14d100ef24",
            "max": 1,
            "min": 0,
            "orientation": "horizontal",
            "style": "IPY_MODEL_e9040f6fdcdd42b0b8bdbc8cc986fbc1",
            "value": 1
          }
        },
        "a70eeb458bf1466da32f74660961cf17": {
          "model_module": "@jupyter-widgets/base",
          "model_name": "LayoutModel",
          "model_module_version": "1.2.0",
          "state": {
            "_model_module": "@jupyter-widgets/base",
            "_model_module_version": "1.2.0",
            "_model_name": "LayoutModel",
            "_view_count": null,
            "_view_module": "@jupyter-widgets/base",
            "_view_module_version": "1.2.0",
            "_view_name": "LayoutView",
            "align_content": null,
            "align_items": null,
            "align_self": null,
            "border": null,
            "bottom": null,
            "display": null,
            "flex": null,
            "flex_flow": null,
            "grid_area": null,
            "grid_auto_columns": null,
            "grid_auto_flow": null,
            "grid_auto_rows": null,
            "grid_column": null,
            "grid_gap": null,
            "grid_row": null,
            "grid_template_areas": null,
            "grid_template_columns": null,
            "grid_template_rows": null,
            "height": null,
            "justify_content": null,
            "justify_items": null,
            "left": null,
            "margin": null,
            "max_height": null,
            "max_width": null,
            "min_height": null,
            "min_width": null,
            "object_fit": null,
            "object_position": null,
            "order": null,
            "overflow": null,
            "overflow_x": null,
            "overflow_y": null,
            "padding": null,
            "right": null,
            "top": null,
            "visibility": null,
            "width": null
          }
        },
        "b9ba635dd0ed46c5a146b66bef31900a": {
          "model_module": "@jupyter-widgets/base",
          "model_name": "LayoutModel",
          "model_module_version": "1.2.0",
          "state": {
            "_model_module": "@jupyter-widgets/base",
            "_model_module_version": "1.2.0",
            "_model_name": "LayoutModel",
            "_view_count": null,
            "_view_module": "@jupyter-widgets/base",
            "_view_module_version": "1.2.0",
            "_view_name": "LayoutView",
            "align_content": null,
            "align_items": null,
            "align_self": null,
            "border": null,
            "bottom": null,
            "display": null,
            "flex": null,
            "flex_flow": null,
            "grid_area": null,
            "grid_auto_columns": null,
            "grid_auto_flow": null,
            "grid_auto_rows": null,
            "grid_column": null,
            "grid_gap": null,
            "grid_row": null,
            "grid_template_areas": null,
            "grid_template_columns": null,
            "grid_template_rows": null,
            "height": null,
            "justify_content": null,
            "justify_items": null,
            "left": null,
            "margin": null,
            "max_height": null,
            "max_width": null,
            "min_height": null,
            "min_width": null,
            "object_fit": null,
            "object_position": null,
            "order": null,
            "overflow": null,
            "overflow_x": null,
            "overflow_y": null,
            "padding": null,
            "right": null,
            "top": null,
            "visibility": null,
            "width": null
          }
        },
        "ec82f65684624c108ba58af89db71aaa": {
          "model_module": "@jupyter-widgets/controls",
          "model_name": "DescriptionStyleModel",
          "model_module_version": "1.5.0",
          "state": {
            "_model_module": "@jupyter-widgets/controls",
            "_model_module_version": "1.5.0",
            "_model_name": "DescriptionStyleModel",
            "_view_count": null,
            "_view_module": "@jupyter-widgets/base",
            "_view_module_version": "1.2.0",
            "_view_name": "StyleView",
            "description_width": ""
          }
        },
        "d183f0653bde4b4c814abd14d100ef24": {
          "model_module": "@jupyter-widgets/base",
          "model_name": "LayoutModel",
          "model_module_version": "1.2.0",
          "state": {
            "_model_module": "@jupyter-widgets/base",
            "_model_module_version": "1.2.0",
            "_model_name": "LayoutModel",
            "_view_count": null,
            "_view_module": "@jupyter-widgets/base",
            "_view_module_version": "1.2.0",
            "_view_name": "LayoutView",
            "align_content": null,
            "align_items": null,
            "align_self": null,
            "border": null,
            "bottom": null,
            "display": null,
            "flex": null,
            "flex_flow": null,
            "grid_area": null,
            "grid_auto_columns": null,
            "grid_auto_flow": null,
            "grid_auto_rows": null,
            "grid_column": null,
            "grid_gap": null,
            "grid_row": null,
            "grid_template_areas": null,
            "grid_template_columns": null,
            "grid_template_rows": null,
            "height": null,
            "justify_content": null,
            "justify_items": null,
            "left": null,
            "margin": null,
            "max_height": null,
            "max_width": null,
            "min_height": null,
            "min_width": null,
            "object_fit": null,
            "object_position": null,
            "order": null,
            "overflow": null,
            "overflow_x": null,
            "overflow_y": null,
            "padding": null,
            "right": null,
            "top": null,
            "visibility": null,
            "width": null
          }
        },
        "e9040f6fdcdd42b0b8bdbc8cc986fbc1": {
          "model_module": "@jupyter-widgets/controls",
          "model_name": "ProgressStyleModel",
          "model_module_version": "1.5.0",
          "state": {
            "_model_module": "@jupyter-widgets/controls",
            "_model_module_version": "1.5.0",
            "_model_name": "ProgressStyleModel",
            "_view_count": null,
            "_view_module": "@jupyter-widgets/base",
            "_view_module_version": "1.2.0",
            "_view_name": "StyleView",
            "bar_color": null,
            "description_width": ""
          }
        },
        "e01a692b946f4daf8d5489126c385ef4": {
          "model_module": "@jupyter-widgets/controls",
          "model_name": "VBoxModel",
          "model_module_version": "1.5.0",
          "state": {
            "_dom_classes": [],
            "_model_module": "@jupyter-widgets/controls",
            "_model_module_version": "1.5.0",
            "_model_name": "VBoxModel",
            "_view_count": null,
            "_view_module": "@jupyter-widgets/controls",
            "_view_module_version": "1.5.0",
            "_view_name": "VBoxView",
            "box_style": "",
            "children": [
              "IPY_MODEL_4937c2c88e1e48d49c1487c1d6b71bfa",
              "IPY_MODEL_6773d2b3fdcc4b4b8ecd56b4fe6f6d66"
            ],
            "layout": "IPY_MODEL_56d97eff87a8472d8f04c67566a6cb01"
          }
        },
        "4937c2c88e1e48d49c1487c1d6b71bfa": {
          "model_module": "@jupyter-widgets/controls",
          "model_name": "LabelModel",
          "model_module_version": "1.5.0",
          "state": {
            "_dom_classes": [],
            "_model_module": "@jupyter-widgets/controls",
            "_model_module_version": "1.5.0",
            "_model_name": "LabelModel",
            "_view_count": null,
            "_view_module": "@jupyter-widgets/controls",
            "_view_module_version": "1.5.0",
            "_view_name": "LabelView",
            "description": "",
            "description_tooltip": null,
            "layout": "IPY_MODEL_dec2ffebb381465c88ce3bfeb7df9a92",
            "placeholder": "​",
            "style": "IPY_MODEL_47283d5cd5754e9f8319abcd845a52c1",
            "value": "0.024 MB of 0.024 MB uploaded\r"
          }
        },
        "6773d2b3fdcc4b4b8ecd56b4fe6f6d66": {
          "model_module": "@jupyter-widgets/controls",
          "model_name": "FloatProgressModel",
          "model_module_version": "1.5.0",
          "state": {
            "_dom_classes": [],
            "_model_module": "@jupyter-widgets/controls",
            "_model_module_version": "1.5.0",
            "_model_name": "FloatProgressModel",
            "_view_count": null,
            "_view_module": "@jupyter-widgets/controls",
            "_view_module_version": "1.5.0",
            "_view_name": "ProgressView",
            "bar_style": "",
            "description": "",
            "description_tooltip": null,
            "layout": "IPY_MODEL_36e72b727fe94ad1bde3b1f6943ba268",
            "max": 1,
            "min": 0,
            "orientation": "horizontal",
            "style": "IPY_MODEL_a39a3a0f15f648bb922cbb3c391b0163",
            "value": 1
          }
        },
        "56d97eff87a8472d8f04c67566a6cb01": {
          "model_module": "@jupyter-widgets/base",
          "model_name": "LayoutModel",
          "model_module_version": "1.2.0",
          "state": {
            "_model_module": "@jupyter-widgets/base",
            "_model_module_version": "1.2.0",
            "_model_name": "LayoutModel",
            "_view_count": null,
            "_view_module": "@jupyter-widgets/base",
            "_view_module_version": "1.2.0",
            "_view_name": "LayoutView",
            "align_content": null,
            "align_items": null,
            "align_self": null,
            "border": null,
            "bottom": null,
            "display": null,
            "flex": null,
            "flex_flow": null,
            "grid_area": null,
            "grid_auto_columns": null,
            "grid_auto_flow": null,
            "grid_auto_rows": null,
            "grid_column": null,
            "grid_gap": null,
            "grid_row": null,
            "grid_template_areas": null,
            "grid_template_columns": null,
            "grid_template_rows": null,
            "height": null,
            "justify_content": null,
            "justify_items": null,
            "left": null,
            "margin": null,
            "max_height": null,
            "max_width": null,
            "min_height": null,
            "min_width": null,
            "object_fit": null,
            "object_position": null,
            "order": null,
            "overflow": null,
            "overflow_x": null,
            "overflow_y": null,
            "padding": null,
            "right": null,
            "top": null,
            "visibility": null,
            "width": null
          }
        },
        "dec2ffebb381465c88ce3bfeb7df9a92": {
          "model_module": "@jupyter-widgets/base",
          "model_name": "LayoutModel",
          "model_module_version": "1.2.0",
          "state": {
            "_model_module": "@jupyter-widgets/base",
            "_model_module_version": "1.2.0",
            "_model_name": "LayoutModel",
            "_view_count": null,
            "_view_module": "@jupyter-widgets/base",
            "_view_module_version": "1.2.0",
            "_view_name": "LayoutView",
            "align_content": null,
            "align_items": null,
            "align_self": null,
            "border": null,
            "bottom": null,
            "display": null,
            "flex": null,
            "flex_flow": null,
            "grid_area": null,
            "grid_auto_columns": null,
            "grid_auto_flow": null,
            "grid_auto_rows": null,
            "grid_column": null,
            "grid_gap": null,
            "grid_row": null,
            "grid_template_areas": null,
            "grid_template_columns": null,
            "grid_template_rows": null,
            "height": null,
            "justify_content": null,
            "justify_items": null,
            "left": null,
            "margin": null,
            "max_height": null,
            "max_width": null,
            "min_height": null,
            "min_width": null,
            "object_fit": null,
            "object_position": null,
            "order": null,
            "overflow": null,
            "overflow_x": null,
            "overflow_y": null,
            "padding": null,
            "right": null,
            "top": null,
            "visibility": null,
            "width": null
          }
        },
        "47283d5cd5754e9f8319abcd845a52c1": {
          "model_module": "@jupyter-widgets/controls",
          "model_name": "DescriptionStyleModel",
          "model_module_version": "1.5.0",
          "state": {
            "_model_module": "@jupyter-widgets/controls",
            "_model_module_version": "1.5.0",
            "_model_name": "DescriptionStyleModel",
            "_view_count": null,
            "_view_module": "@jupyter-widgets/base",
            "_view_module_version": "1.2.0",
            "_view_name": "StyleView",
            "description_width": ""
          }
        },
        "36e72b727fe94ad1bde3b1f6943ba268": {
          "model_module": "@jupyter-widgets/base",
          "model_name": "LayoutModel",
          "model_module_version": "1.2.0",
          "state": {
            "_model_module": "@jupyter-widgets/base",
            "_model_module_version": "1.2.0",
            "_model_name": "LayoutModel",
            "_view_count": null,
            "_view_module": "@jupyter-widgets/base",
            "_view_module_version": "1.2.0",
            "_view_name": "LayoutView",
            "align_content": null,
            "align_items": null,
            "align_self": null,
            "border": null,
            "bottom": null,
            "display": null,
            "flex": null,
            "flex_flow": null,
            "grid_area": null,
            "grid_auto_columns": null,
            "grid_auto_flow": null,
            "grid_auto_rows": null,
            "grid_column": null,
            "grid_gap": null,
            "grid_row": null,
            "grid_template_areas": null,
            "grid_template_columns": null,
            "grid_template_rows": null,
            "height": null,
            "justify_content": null,
            "justify_items": null,
            "left": null,
            "margin": null,
            "max_height": null,
            "max_width": null,
            "min_height": null,
            "min_width": null,
            "object_fit": null,
            "object_position": null,
            "order": null,
            "overflow": null,
            "overflow_x": null,
            "overflow_y": null,
            "padding": null,
            "right": null,
            "top": null,
            "visibility": null,
            "width": null
          }
        },
        "a39a3a0f15f648bb922cbb3c391b0163": {
          "model_module": "@jupyter-widgets/controls",
          "model_name": "ProgressStyleModel",
          "model_module_version": "1.5.0",
          "state": {
            "_model_module": "@jupyter-widgets/controls",
            "_model_module_version": "1.5.0",
            "_model_name": "ProgressStyleModel",
            "_view_count": null,
            "_view_module": "@jupyter-widgets/base",
            "_view_module_version": "1.2.0",
            "_view_name": "StyleView",
            "bar_color": null,
            "description_width": ""
          }
        }
      }
    }
  },
  "cells": [
    {
      "cell_type": "code",
      "execution_count": null,
      "metadata": {
        "colab": {
          "base_uri": "https://localhost:8080/"
        },
        "id": "tpIwAeivHfPM",
        "outputId": "111944ce-3ab2-4a3a-8533-3f51a44c5b1b"
      },
      "outputs": [
        {
          "output_type": "stream",
          "name": "stdout",
          "text": [
            "Collecting wandb\n",
            "  Downloading wandb-0.16.4-py3-none-any.whl (2.2 MB)\n",
            "\u001b[2K     \u001b[90m━━━━━━━━━━━━━━━━━━━━━━━━━━━━━━━━━━━━━━━━\u001b[0m \u001b[32m2.2/2.2 MB\u001b[0m \u001b[31m19.8 MB/s\u001b[0m eta \u001b[36m0:00:00\u001b[0m\n",
            "\u001b[?25hRequirement already satisfied: Click!=8.0.0,>=7.1 in /usr/local/lib/python3.10/dist-packages (from wandb) (8.1.7)\n",
            "Collecting GitPython!=3.1.29,>=1.0.0 (from wandb)\n",
            "  Downloading GitPython-3.1.42-py3-none-any.whl (195 kB)\n",
            "\u001b[2K     \u001b[90m━━━━━━━━━━━━━━━━━━━━━━━━━━━━━━━━━━━━━━━━\u001b[0m \u001b[32m195.4/195.4 kB\u001b[0m \u001b[31m19.2 MB/s\u001b[0m eta \u001b[36m0:00:00\u001b[0m\n",
            "\u001b[?25hRequirement already satisfied: requests<3,>=2.0.0 in /usr/local/lib/python3.10/dist-packages (from wandb) (2.31.0)\n",
            "Requirement already satisfied: psutil>=5.0.0 in /usr/local/lib/python3.10/dist-packages (from wandb) (5.9.5)\n",
            "Collecting sentry-sdk>=1.0.0 (from wandb)\n",
            "  Downloading sentry_sdk-1.43.0-py2.py3-none-any.whl (264 kB)\n",
            "\u001b[2K     \u001b[90m━━━━━━━━━━━━━━━━━━━━━━━━━━━━━━━━━━━━━━━━\u001b[0m \u001b[32m264.6/264.6 kB\u001b[0m \u001b[31m10.5 MB/s\u001b[0m eta \u001b[36m0:00:00\u001b[0m\n",
            "\u001b[?25hCollecting docker-pycreds>=0.4.0 (from wandb)\n",
            "  Downloading docker_pycreds-0.4.0-py2.py3-none-any.whl (9.0 kB)\n",
            "Requirement already satisfied: PyYAML in /usr/local/lib/python3.10/dist-packages (from wandb) (6.0.1)\n",
            "Collecting setproctitle (from wandb)\n",
            "  Downloading setproctitle-1.3.3-cp310-cp310-manylinux_2_5_x86_64.manylinux1_x86_64.manylinux_2_17_x86_64.manylinux2014_x86_64.whl (30 kB)\n",
            "Requirement already satisfied: setuptools in /usr/local/lib/python3.10/dist-packages (from wandb) (67.7.2)\n",
            "Requirement already satisfied: appdirs>=1.4.3 in /usr/local/lib/python3.10/dist-packages (from wandb) (1.4.4)\n",
            "Requirement already satisfied: protobuf!=4.21.0,<5,>=3.19.0 in /usr/local/lib/python3.10/dist-packages (from wandb) (3.20.3)\n",
            "Requirement already satisfied: six>=1.4.0 in /usr/local/lib/python3.10/dist-packages (from docker-pycreds>=0.4.0->wandb) (1.16.0)\n",
            "Collecting gitdb<5,>=4.0.1 (from GitPython!=3.1.29,>=1.0.0->wandb)\n",
            "  Downloading gitdb-4.0.11-py3-none-any.whl (62 kB)\n",
            "\u001b[2K     \u001b[90m━━━━━━━━━━━━━━━━━━━━━━━━━━━━━━━━━━━━━━━━\u001b[0m \u001b[32m62.7/62.7 kB\u001b[0m \u001b[31m3.8 MB/s\u001b[0m eta \u001b[36m0:00:00\u001b[0m\n",
            "\u001b[?25hRequirement already satisfied: charset-normalizer<4,>=2 in /usr/local/lib/python3.10/dist-packages (from requests<3,>=2.0.0->wandb) (3.3.2)\n",
            "Requirement already satisfied: idna<4,>=2.5 in /usr/local/lib/python3.10/dist-packages (from requests<3,>=2.0.0->wandb) (3.6)\n",
            "Requirement already satisfied: urllib3<3,>=1.21.1 in /usr/local/lib/python3.10/dist-packages (from requests<3,>=2.0.0->wandb) (2.0.7)\n",
            "Requirement already satisfied: certifi>=2017.4.17 in /usr/local/lib/python3.10/dist-packages (from requests<3,>=2.0.0->wandb) (2024.2.2)\n",
            "Collecting smmap<6,>=3.0.1 (from gitdb<5,>=4.0.1->GitPython!=3.1.29,>=1.0.0->wandb)\n",
            "  Downloading smmap-5.0.1-py3-none-any.whl (24 kB)\n",
            "Installing collected packages: smmap, setproctitle, sentry-sdk, docker-pycreds, gitdb, GitPython, wandb\n",
            "Successfully installed GitPython-3.1.42 docker-pycreds-0.4.0 gitdb-4.0.11 sentry-sdk-1.43.0 setproctitle-1.3.3 smmap-5.0.1 wandb-0.16.4\n"
          ]
        }
      ],
      "source": [
        "!pip install wandb\n"
      ]
    },
    {
      "cell_type": "code",
      "source": [
        "!git clone https://huggingface.co/datasets/imdb"
      ],
      "metadata": {
        "colab": {
          "base_uri": "https://localhost:8080/"
        },
        "id": "i-BNjT3KZof6",
        "outputId": "1f548cb8-3262-40a7-cf2c-effb556983f2"
      },
      "execution_count": null,
      "outputs": [
        {
          "output_type": "stream",
          "name": "stdout",
          "text": [
            "Cloning into 'imdb'...\n",
            "remote: Enumerating objects: 63, done.\u001b[K\n",
            "remote: Counting objects: 100% (7/7), done.\u001b[K\n",
            "remote: Compressing objects: 100% (7/7), done.\u001b[K\n",
            "remote: Total 63 (delta 0), reused 0 (delta 0), pack-reused 56\u001b[K\n",
            "Unpacking objects: 100% (63/63), 14.79 KiB | 630.00 KiB/s, done.\n",
            "Filtering content: 100% (3/3), 79.58 MiB | 12.25 MiB/s, done.\n"
          ]
        }
      ]
    },
    {
      "cell_type": "code",
      "source": [
        "!pip install datasets"
      ],
      "metadata": {
        "colab": {
          "base_uri": "https://localhost:8080/"
        },
        "id": "NEZKpkdVqmab",
        "outputId": "52e0f579-5299-4c27-9cb8-6c855cb24419"
      },
      "execution_count": null,
      "outputs": [
        {
          "output_type": "stream",
          "name": "stdout",
          "text": [
            "Collecting datasets\n",
            "  Downloading datasets-2.18.0-py3-none-any.whl (510 kB)\n",
            "\u001b[2K     \u001b[90m━━━━━━━━━━━━━━━━━━━━━━━━━━━━━━━━━━━━━━━━\u001b[0m \u001b[32m510.5/510.5 kB\u001b[0m \u001b[31m14.2 MB/s\u001b[0m eta \u001b[36m0:00:00\u001b[0m\n",
            "\u001b[?25hRequirement already satisfied: filelock in /usr/local/lib/python3.10/dist-packages (from datasets) (3.13.1)\n",
            "Requirement already satisfied: numpy>=1.17 in /usr/local/lib/python3.10/dist-packages (from datasets) (1.25.2)\n",
            "Requirement already satisfied: pyarrow>=12.0.0 in /usr/local/lib/python3.10/dist-packages (from datasets) (14.0.2)\n",
            "Requirement already satisfied: pyarrow-hotfix in /usr/local/lib/python3.10/dist-packages (from datasets) (0.6)\n",
            "Collecting dill<0.3.9,>=0.3.0 (from datasets)\n",
            "  Downloading dill-0.3.8-py3-none-any.whl (116 kB)\n",
            "\u001b[2K     \u001b[90m━━━━━━━━━━━━━━━━━━━━━━━━━━━━━━━━━━━━━━━━\u001b[0m \u001b[32m116.3/116.3 kB\u001b[0m \u001b[31m17.2 MB/s\u001b[0m eta \u001b[36m0:00:00\u001b[0m\n",
            "\u001b[?25hRequirement already satisfied: pandas in /usr/local/lib/python3.10/dist-packages (from datasets) (1.5.3)\n",
            "Requirement already satisfied: requests>=2.19.0 in /usr/local/lib/python3.10/dist-packages (from datasets) (2.31.0)\n",
            "Requirement already satisfied: tqdm>=4.62.1 in /usr/local/lib/python3.10/dist-packages (from datasets) (4.66.2)\n",
            "Collecting xxhash (from datasets)\n",
            "  Downloading xxhash-3.4.1-cp310-cp310-manylinux_2_17_x86_64.manylinux2014_x86_64.whl (194 kB)\n",
            "\u001b[2K     \u001b[90m━━━━━━━━━━━━━━━━━━━━━━━━━━━━━━━━━━━━━━━━\u001b[0m \u001b[32m194.1/194.1 kB\u001b[0m \u001b[31m25.8 MB/s\u001b[0m eta \u001b[36m0:00:00\u001b[0m\n",
            "\u001b[?25hCollecting multiprocess (from datasets)\n",
            "  Downloading multiprocess-0.70.16-py310-none-any.whl (134 kB)\n",
            "\u001b[2K     \u001b[90m━━━━━━━━━━━━━━━━━━━━━━━━━━━━━━━━━━━━━━━━\u001b[0m \u001b[32m134.8/134.8 kB\u001b[0m \u001b[31m17.7 MB/s\u001b[0m eta \u001b[36m0:00:00\u001b[0m\n",
            "\u001b[?25hRequirement already satisfied: fsspec[http]<=2024.2.0,>=2023.1.0 in /usr/local/lib/python3.10/dist-packages (from datasets) (2023.6.0)\n",
            "Requirement already satisfied: aiohttp in /usr/local/lib/python3.10/dist-packages (from datasets) (3.9.3)\n",
            "Requirement already satisfied: huggingface-hub>=0.19.4 in /usr/local/lib/python3.10/dist-packages (from datasets) (0.20.3)\n",
            "Requirement already satisfied: packaging in /usr/local/lib/python3.10/dist-packages (from datasets) (24.0)\n",
            "Requirement already satisfied: pyyaml>=5.1 in /usr/local/lib/python3.10/dist-packages (from datasets) (6.0.1)\n",
            "Requirement already satisfied: aiosignal>=1.1.2 in /usr/local/lib/python3.10/dist-packages (from aiohttp->datasets) (1.3.1)\n",
            "Requirement already satisfied: attrs>=17.3.0 in /usr/local/lib/python3.10/dist-packages (from aiohttp->datasets) (23.2.0)\n",
            "Requirement already satisfied: frozenlist>=1.1.1 in /usr/local/lib/python3.10/dist-packages (from aiohttp->datasets) (1.4.1)\n",
            "Requirement already satisfied: multidict<7.0,>=4.5 in /usr/local/lib/python3.10/dist-packages (from aiohttp->datasets) (6.0.5)\n",
            "Requirement already satisfied: yarl<2.0,>=1.0 in /usr/local/lib/python3.10/dist-packages (from aiohttp->datasets) (1.9.4)\n",
            "Requirement already satisfied: async-timeout<5.0,>=4.0 in /usr/local/lib/python3.10/dist-packages (from aiohttp->datasets) (4.0.3)\n",
            "Requirement already satisfied: typing-extensions>=3.7.4.3 in /usr/local/lib/python3.10/dist-packages (from huggingface-hub>=0.19.4->datasets) (4.10.0)\n",
            "Requirement already satisfied: charset-normalizer<4,>=2 in /usr/local/lib/python3.10/dist-packages (from requests>=2.19.0->datasets) (3.3.2)\n",
            "Requirement already satisfied: idna<4,>=2.5 in /usr/local/lib/python3.10/dist-packages (from requests>=2.19.0->datasets) (3.6)\n",
            "Requirement already satisfied: urllib3<3,>=1.21.1 in /usr/local/lib/python3.10/dist-packages (from requests>=2.19.0->datasets) (2.0.7)\n",
            "Requirement already satisfied: certifi>=2017.4.17 in /usr/local/lib/python3.10/dist-packages (from requests>=2.19.0->datasets) (2024.2.2)\n",
            "Requirement already satisfied: python-dateutil>=2.8.1 in /usr/local/lib/python3.10/dist-packages (from pandas->datasets) (2.8.2)\n",
            "Requirement already satisfied: pytz>=2020.1 in /usr/local/lib/python3.10/dist-packages (from pandas->datasets) (2023.4)\n",
            "Requirement already satisfied: six>=1.5 in /usr/local/lib/python3.10/dist-packages (from python-dateutil>=2.8.1->pandas->datasets) (1.16.0)\n",
            "Installing collected packages: xxhash, dill, multiprocess, datasets\n",
            "Successfully installed datasets-2.18.0 dill-0.3.8 multiprocess-0.70.16 xxhash-3.4.1\n"
          ]
        }
      ]
    },
    {
      "cell_type": "code",
      "source": [
        "from datasets import load_dataset\n",
        "import nltk\n",
        "from nltk.tokenize import word_tokenize\n",
        "import random\n",
        "\n",
        "# Download NLTK resources\n",
        "nltk.download('punkt')\n",
        "\n",
        "# Load the IMDB dataset\n",
        "# Load the IMDb dataset\n",
        "dataset = load_dataset(\"imdb\")\n",
        "\n",
        "\n"
      ],
      "metadata": {
        "colab": {
          "base_uri": "https://localhost:8080/",
          "height": 148,
          "referenced_widgets": [
            "50e8a174780646feba33acfc4efc2873",
            "a0631c0e5b6444239e5c50d46dab1070",
            "445c4f49d35b4992835bd482f5278ca9",
            "bb9c429cf1cf4da794039c452c8e0822",
            "90e1b77c4dd642cf829543674b486d3d",
            "6650d2c7c789477b97fc4c02f5031d6a",
            "fe5a0ca00f574ab6996231b4261ef593",
            "37f0f7940ca64bb98320ef6164e9242c",
            "5e0b4d11d09e40dbbfca627953deb148",
            "996e111be2a24f10957c4e7b05fdcc57",
            "57ee14c354bb4cc19cf7e5f26cba3f72",
            "86498e1a1d1f4b34841268a48023b288",
            "1a9b0baee01241cb886c66a3aef03727",
            "fcecf6736ba3418f817c3c572d1ed4cb",
            "3fda7e41791442b1b280736e13160953",
            "b8b750784a7e44b6a7a960d29fea8334",
            "da6c98a436b142abbc3cec96a0d16564",
            "b7551571c2224c74b1a9f2aa73332fb4",
            "c55cd22c8a154e998777f1d4d9aff67f",
            "a096d13c72564eaaada0f6f9c3893b92",
            "137e2abc0174448cb1105a25b5193d1a",
            "2094bf50344a464baddf56f4a422f213",
            "b5fe4c45079945d3aa70243423b1d1f7",
            "bc1180477c744bdba812d52cc74c2551",
            "f9887ead92fb41ecae0228bf1faf89cc",
            "8792101cec0e4b1490207925f04dc9b2",
            "5914861190bf4b78a7c3a6de7b462965",
            "fc3b397194af4da482cb1b4eeee45e81",
            "4027230bf6cc4440851346c2c6bfb20a",
            "9393ac6ad5fe4dc0b53828b63e53d50b",
            "26a796875f064ab98e3d98495afa4cd1",
            "5f98568a7b4f4dec864e2300c53285a5",
            "efcb4aba1aef432e9d350b56c44b2a45"
          ]
        },
        "id": "qB88ajd7aWbO",
        "outputId": "721b2711-2b4b-4d29-81d8-8d36c8560461"
      },
      "execution_count": null,
      "outputs": [
        {
          "output_type": "stream",
          "name": "stderr",
          "text": [
            "[nltk_data] Downloading package punkt to /root/nltk_data...\n",
            "[nltk_data]   Unzipping tokenizers/punkt.zip.\n"
          ]
        },
        {
          "output_type": "display_data",
          "data": {
            "text/plain": [
              "Generating train split:   0%|          | 0/25000 [00:00<?, ? examples/s]"
            ],
            "application/vnd.jupyter.widget-view+json": {
              "version_major": 2,
              "version_minor": 0,
              "model_id": "50e8a174780646feba33acfc4efc2873"
            }
          },
          "metadata": {}
        },
        {
          "output_type": "display_data",
          "data": {
            "text/plain": [
              "Generating test split:   0%|          | 0/25000 [00:00<?, ? examples/s]"
            ],
            "application/vnd.jupyter.widget-view+json": {
              "version_major": 2,
              "version_minor": 0,
              "model_id": "86498e1a1d1f4b34841268a48023b288"
            }
          },
          "metadata": {}
        },
        {
          "output_type": "display_data",
          "data": {
            "text/plain": [
              "Generating unsupervised split:   0%|          | 0/50000 [00:00<?, ? examples/s]"
            ],
            "application/vnd.jupyter.widget-view+json": {
              "version_major": 2,
              "version_minor": 0,
              "model_id": "b5fe4c45079945d3aa70243423b1d1f7"
            }
          },
          "metadata": {}
        }
      ]
    },
    {
      "cell_type": "code",
      "source": [
        "from datasets import load_dataset\n",
        "\n",
        "def load_imdb_dataset():\n",
        "    # Load the IMDb dataset\n",
        "    imdb_dataset = load_dataset(\"imdb\")\n",
        "\n",
        "    # Extract reviews and labels\n",
        "    reviews = imdb_dataset[\"train\"][\"text\"]\n",
        "    labels = imdb_dataset[\"train\"][\"label\"]\n",
        "\n",
        "    return reviews, labels\n"
      ],
      "metadata": {
        "id": "DdMhCWy7t3Lg"
      },
      "execution_count": null,
      "outputs": []
    },
    {
      "cell_type": "code",
      "source": [
        "!pip install nltk"
      ],
      "metadata": {
        "colab": {
          "base_uri": "https://localhost:8080/"
        },
        "id": "EzwMpTM10NEy",
        "outputId": "753ad2e3-c64a-42ab-d1bc-d87bf4b50510"
      },
      "execution_count": null,
      "outputs": [
        {
          "output_type": "stream",
          "name": "stdout",
          "text": [
            "Requirement already satisfied: nltk in /usr/local/lib/python3.10/dist-packages (3.8.1)\n",
            "Requirement already satisfied: click in /usr/local/lib/python3.10/dist-packages (from nltk) (8.1.7)\n",
            "Requirement already satisfied: joblib in /usr/local/lib/python3.10/dist-packages (from nltk) (1.3.2)\n",
            "Requirement already satisfied: regex>=2021.8.3 in /usr/local/lib/python3.10/dist-packages (from nltk) (2023.12.25)\n",
            "Requirement already satisfied: tqdm in /usr/local/lib/python3.10/dist-packages (from nltk) (4.66.2)\n"
          ]
        }
      ]
    },
    {
      "cell_type": "code",
      "source": [
        "import nltk\n",
        "nltk.download('wordnet')"
      ],
      "metadata": {
        "colab": {
          "base_uri": "https://localhost:8080/"
        },
        "id": "TdoCOdyJ0Txl",
        "outputId": "66b6d339-8d7f-4232-85b0-4469237db187"
      },
      "execution_count": null,
      "outputs": [
        {
          "output_type": "stream",
          "name": "stderr",
          "text": [
            "[nltk_data] Downloading package wordnet to /root/nltk_data...\n"
          ]
        },
        {
          "output_type": "execute_result",
          "data": {
            "text/plain": [
              "True"
            ]
          },
          "metadata": {},
          "execution_count": 7
        }
      ]
    },
    {
      "cell_type": "code",
      "source": [
        "import torch\n",
        "import torch.nn as nn\n",
        "import torch.optim as optim\n",
        "from torch.utils.data import Dataset, DataLoader\n",
        "from datasets import load_dataset\n",
        "from nltk.tokenize import word_tokenize\n",
        "from nltk.stem import PorterStemmer, WordNetLemmatizer\n",
        "import numpy as np\n",
        "from tqdm import tqdm\n",
        "import wandb\n",
        "import matplotlib.pyplot as plt\n",
        "\n",
        "# Step 1: Prepare the Dataset\n",
        "# Step 1: Prepare the Dataset\n",
        "\n",
        "class IMDBDataset(Dataset):\n",
        "    def __init__(self, reviews, labels, word_to_index, max_length):\n",
        "        self.reviews = reviews\n",
        "        self.labels = labels\n",
        "        self.word_to_index = word_to_index\n",
        "        self.max_length = max_length\n",
        "\n",
        "    def __len__(self):\n",
        "        return len(self.reviews)\n",
        "\n",
        "    def __getitem__(self, idx):\n",
        "        review = self.reviews[idx]\n",
        "        label = self.labels[idx]\n",
        "\n",
        "        # Tokenize and convert words to indices\n",
        "        review_indices = [self.word_to_index[word] if word in self.word_to_index else 0 for word in review]\n",
        "        # Pad or truncate the review to the max_length\n",
        "        review_indices = review_indices[:self.max_length] + [0] * (self.max_length - len(review_indices))\n",
        "\n",
        "        return torch.tensor(review_indices), torch.tensor(label)\n",
        "\n",
        "def preprocess_text(reviews, use_stemming=False):\n",
        "    if use_stemming:\n",
        "        stemmer = PorterStemmer()\n",
        "        preprocessed_reviews = [[stemmer.stem(token) for token in word_tokenize(review.lower())] for review in reviews]\n",
        "    else:\n",
        "        lemmatizer = WordNetLemmatizer()\n",
        "        preprocessed_reviews = [[lemmatizer.lemmatize(token) for token in word_tokenize(review.lower())] for review in reviews]\n",
        "    return preprocessed_reviews\n",
        "\n",
        "def create_word_to_index(reviews):\n",
        "    word_to_index = {}\n",
        "    index = 1  # Start index from # Start index from 1, reserve index 0 for padding\n",
        "    for review in reviews:\n",
        "        for word in review:\n",
        "            if word not in word_to_index:\n",
        "                word_to_index[word] = index\n",
        "                index += 1\n",
        "    return word_to_index\n",
        "\n",
        "# Step 2: Create Dataloaders\n",
        "\n",
        "def create_dataloaders(reviews, labels, word_to_index, max_length, batch_size, split_ratio=0.2):\n",
        "    dataset = IMDBDataset(reviews, labels, word_to_index, max_length)\n",
        "    train_size = int((1 - split_ratio) * len(dataset))\n",
        "    test_size = int(split_ratio * len(dataset))\n",
        "    train_dataset, test_dataset = torch.utils.data.random_split(dataset, [train_size, test_size])\n",
        "\n",
        "    train_loader = DataLoader(train_dataset, batch_size=batch_size, shuffle=True)\n",
        "    test_loader = DataLoader(test_dataset, batch_size=batch_size, shuffle=False)\n",
        "\n",
        "    return train_loader, test_loader\n",
        "\n",
        "# Step 3: Define the RNN Model\n",
        "\n",
        "class RNNModel(nn.Module):\n",
        "    def __init__(self, input_size, hidden_size, output_size, rnn_strategy='last_output'):\n",
        "        super(RNNModel, self).__init__()\n",
        "        self.embedding = nn.Embedding(input_size, hidden_size)\n",
        "        self.rnn = nn.RNN(hidden_size, hidden_size, batch_first=True)\n",
        "        self.fc = nn.Linear(hidden_size, output_size)\n",
        "        self.rnn_strategy = rnn_strategy\n",
        "\n",
        "    def forward(self, x):\n",
        "        embedded = self.embedding(x)\n",
        "        output, _ = self.rnn(embedded)\n",
        "\n",
        "        if self.rnn_strategy == 'last_output':\n",
        "            output = output[:, -1, :]  # Use the last output of the RNN layer\n",
        "        elif self.rnn_strategy == 'mean_of_all_outputs':\n",
        "            output = output.mean(dim=1)  # Use the mean of all outputs of the RNN layer\n",
        "\n",
        "        output = self.fc(output)\n",
        "        return output\n",
        "\n",
        "# Step 4: Training and Testing Functions\n",
        "\n",
        "def train_model(model, criterion, optimizer, train_loader, device):\n",
        "    model.train()\n",
        "    running_loss = 0.0\n",
        "    correct = 0\n",
        "    total = 0\n",
        "\n",
        "    for inputs, labels in train_loader:\n",
        "        inputs, labels = inputs.to(device), labels.to(device)\n",
        "\n",
        "        optimizer.zero_grad()\n",
        "        outputs = model(inputs)\n",
        "        loss = criterion(outputs, labels)\n",
        "        loss.backward()\n",
        "        optimizer.step()\n",
        "\n",
        "        running_loss += loss.item() * inputs.size(0)\n",
        "        _, predicted = torch.max(outputs, 1)\n",
        "        total += labels.size(0)\n",
        "        correct += (predicted == labels).sum().item()\n",
        "\n",
        "    return running_loss / total, correct / total\n",
        "\n",
        "def test_model(model, criterion, test_loader, device):\n",
        "    model.eval()\n",
        "    running_loss = 0.0\n",
        "    correct = 0\n",
        "    total = 0\n",
        "\n",
        "    with torch.no_grad():\n",
        "        for inputs, labels in test_loader:\n",
        "            inputs, labels = inputs.to(device), labels.to(device)\n",
        "\n",
        "            outputs = model(inputs)\n",
        "            loss = criterion(outputs, labels)\n",
        "\n",
        "            running_loss += loss.item() * inputs.size(0)\n",
        "            _, predicted = torch.max(outputs, 1)\n",
        "            total += labels.size(0)\n",
        "            correct += (predicted == labels).sum().item()\n",
        "\n",
        "    return running_loss / total, correct / total\n",
        "\n",
        "# Step 5: Hyperparameters and Training Loop\n",
        "\n",
        "def train_loop(train_loader, test_loader, model, criterion, optimizer, device, num_epochs, use_wandb=False):\n",
        "    train_losses = []\n",
        "    train_accuracies = []\n",
        "    test_losses = []\n",
        "    test_accuracies = []\n",
        "\n",
        "    for epoch in range(num_epochs):\n",
        "        train_loss, train_accuracy = train_model(model, criterion, optimizer, train_loader, device)\n",
        "        test_loss, test_accuracy = test_model(model, criterion, test_loader, device)\n",
        "\n",
        "        train_losses.append(train_loss)\n",
        "        train_accuracies.append(train_accuracy)\n",
        "        test_losses.append(test_loss)\n",
        "        test_accuracies.append(test_accuracy)\n",
        "\n",
        "        print(f'Epoch {epoch+1}/{num_epochs}, Train Loss: {train_loss:.4f}, Train Acc: {train_accuracy:.4f}, Test Loss: {test_loss:.4f}, Test Acc: {test_accuracy:.4f}')\n",
        "\n",
        "        if use_wandb:\n",
        "            wandb.log({\n",
        "                'epoch': epoch + 1,\n",
        "                'train_loss': train_loss,\n",
        "                'train_accuracy': train_accuracy,\n",
        "                'test_loss': test_loss,\n",
        "                'test_accuracy': test_accuracy\n",
        "            })\n",
        "\n",
        "    return train_losses, train_accuracies, test_losses, test_accuracies\n",
        "\n",
        "# Step 6: Main Function\n",
        "\n",
        "def load_imdb_dataset():\n",
        "    # Load the IMDb dataset\n",
        "    imdb_dataset = load_dataset(\"imdb\")\n",
        "\n",
        "    # Extract reviews and labels\n",
        "    reviews = imdb_dataset[\"train\"][\"text\"]\n",
        "    labels = imdb_dataset[\"train\"][\"label\"]\n",
        "\n",
        "    return reviews, labels\n",
        "\n",
        "def main():\n",
        "    reviews, labels = load_imdb_dataset()\n",
        "    # Define hyperparameters\n",
        "    max_vocab_size = 10000  # Maximum vocabulary size\n",
        "    hidden_size = 128\n",
        "    output_size = 2  # Binary classification: positive or negative\n",
        "    max_length = 500\n",
        "    batch_size = 64\n",
        "    learning_rate = 0.001\n",
        "    num_epochs = 10\n",
        "\n",
        "    # Preprocess and tokenize reviews\n",
        "    reviews = preprocess_text(reviews)\n",
        "    flat_reviews = [word for review in reviews for word in review]\n",
        "    word_freq = nltk.FreqDist(flat_reviews)\n",
        "    # Select the most common words up to the maximum vocabulary size\n",
        "    vocab = {word for word, _ in word_freq.most_common(max_vocab_size)}\n",
        "    word_to_index = {word: idx + 1 for idx, word in enumerate(vocab)}  # Reserve index 0 for padding\n",
        "\n",
        "    # Create DataLoader\n",
        "    train_loader, test_loader = create_dataloaders(reviews, labels, word_to_index, max_length, batch_size)\n",
        "\n",
        "    # Initialize model, criterion, and optimizer\n",
        "    device = torch.device('cuda' if torch.cuda.is_available() else 'cpu')\n",
        "    model = RNNModel(input_size=len(word_to_index) + 1, hidden_size=hidden_size, output_size=output_size).to(device)  # Add 1 for padding index\n",
        "    criterion = nn.CrossEntropyLoss()\n",
        "    optimizer = optim.Adam(model.parameters(), lr=learning_rate)\n",
        "\n",
        "    # Initialize Weights & Biases if enabled\n",
        "    use_wandb = True  # Set to True to enable logging with wandb\n",
        "    if use_wandb:\n",
        "        wandb.init(project=\"imdb_review_sentiment_classification\", config={\n",
        "            \"max_vocab_size\": max_vocab_size,\n",
        "            \"hidden_size\": hidden_size,\n",
        "            \"output_size\": output_size,\n",
        "            \"max_length\": max_length,\n",
        "            \"batch_size\": batch_size,\n",
        "            \"learning_rate\": learning_rate,\n",
        "            \"num_epochs\": num_epochs,\n",
        "            \"use_stemming\": True,  # Change to False if not using stemming\n",
        "            \"rnn_strategy\": 'last_output'  # Change to 'mean_of_all_outputs' to test different strategy\n",
        "        })\n",
        "        wandb.watch(model)\n",
        "\n",
        "    # Training loop\n",
        "    train_losses, train_accuracies, test_losses, test_accuracies = train_loop(train_loader, test_loader, model, criterion, optimizer, device, num_epochs, use_wandb)\n",
        "\n",
        "    # Plot loss and accuracy graphs\n",
        "    plt.figure(figsize=(10, 5))\n",
        "    plt.plot(range(1, num_epochs + 1), train_losses, label='Train Loss')\n",
        "    plt.plot(range(1, num_epochs + 1), test_losses, label='Test Loss')\n",
        "    plt.xlabel('Epochs')\n",
        "    plt.ylabel('Loss')\n",
        "    plt.title('Training and Test Loss')\n",
        "    plt.legend()\n",
        "    plt.show()\n",
        "\n",
        "    plt.figure(figsize=(10, 5))\n",
        "    plt.plot(range(1, num_epochs + 1), train_accuracies, label='Train Accuracy')\n",
        "    plt.plot(range(1, num_epochs + 1), test_accuracies, label='Test Accuracy')\n",
        "    plt.xlabel('Epochs')\n",
        "    plt.ylabel('Accuracy')\n",
        "    plt.title('Training and Test Accuracy')\n",
        "    plt.legend()\n",
        "    plt.show()\n",
        "\n",
        "if __name__ == \"__main__\":\n",
        "    main()\n"
      ],
      "metadata": {
        "colab": {
          "base_uri": "https://localhost:8080/",
          "height": 1000,
          "referenced_widgets": [
            "4264f06850b5463bb059fcb39a3cf179",
            "fb0394f2994d40b59c29416b731c5497",
            "7949dd67d5c548739adf6b1b3d539645",
            "ab3c9cd01403454d871e0cc8bc9b8007",
            "38d910db765b4cf8b269c3813b640cb2",
            "209249e42276487c9e4f70c11d9ebace",
            "ce392d935ce14fe7baa3c63c17670a1c",
            "32f3e803ec3447cdbc64fe3664e3c4df"
          ]
        },
        "id": "Cj5TqCi5TdU0",
        "outputId": "823c12fc-a9b1-4380-ee19-8d484ee19614"
      },
      "execution_count": null,
      "outputs": [
        {
          "output_type": "display_data",
          "data": {
            "text/plain": [
              "<IPython.core.display.HTML object>"
            ],
            "text/html": [
              "Finishing last run (ID:8akhyeyv) before initializing another..."
            ]
          },
          "metadata": {}
        },
        {
          "output_type": "display_data",
          "data": {
            "text/plain": [
              "VBox(children=(Label(value='0.011 MB of 0.011 MB uploaded\\r'), FloatProgress(value=1.0, max=1.0)))"
            ],
            "application/vnd.jupyter.widget-view+json": {
              "version_major": 2,
              "version_minor": 0,
              "model_id": "4264f06850b5463bb059fcb39a3cf179"
            }
          },
          "metadata": {}
        },
        {
          "output_type": "display_data",
          "data": {
            "text/plain": [
              "<IPython.core.display.HTML object>"
            ],
            "text/html": [
              " View run <strong style=\"color:#cdcd00\">azure-cloud-4</strong> at: <a href='https://wandb.ai/smai2023/imdb_review_sentiment_classification/runs/8akhyeyv' target=\"_blank\">https://wandb.ai/smai2023/imdb_review_sentiment_classification/runs/8akhyeyv</a><br/>Synced 4 W&B file(s), 0 media file(s), 0 artifact file(s) and 0 other file(s)"
            ]
          },
          "metadata": {}
        },
        {
          "output_type": "display_data",
          "data": {
            "text/plain": [
              "<IPython.core.display.HTML object>"
            ],
            "text/html": [
              "Find logs at: <code>./wandb/run-20240321_163527-8akhyeyv/logs</code>"
            ]
          },
          "metadata": {}
        },
        {
          "output_type": "display_data",
          "data": {
            "text/plain": [
              "<IPython.core.display.HTML object>"
            ],
            "text/html": [
              "Successfully finished last run (ID:8akhyeyv). Initializing new run:<br/>"
            ]
          },
          "metadata": {}
        },
        {
          "output_type": "display_data",
          "data": {
            "text/plain": [
              "<IPython.core.display.HTML object>"
            ],
            "text/html": [
              "Tracking run with wandb version 0.16.4"
            ]
          },
          "metadata": {}
        },
        {
          "output_type": "display_data",
          "data": {
            "text/plain": [
              "<IPython.core.display.HTML object>"
            ],
            "text/html": [
              "Run data is saved locally in <code>/content/wandb/run-20240321_163823-3zv7ycqt</code>"
            ]
          },
          "metadata": {}
        },
        {
          "output_type": "display_data",
          "data": {
            "text/plain": [
              "<IPython.core.display.HTML object>"
            ],
            "text/html": [
              "Syncing run <strong><a href='https://wandb.ai/smai2023/imdb_review_sentiment_classification/runs/3zv7ycqt' target=\"_blank\">eager-silence-5</a></strong> to <a href='https://wandb.ai/smai2023/imdb_review_sentiment_classification' target=\"_blank\">Weights & Biases</a> (<a href='https://wandb.me/run' target=\"_blank\">docs</a>)<br/>"
            ]
          },
          "metadata": {}
        },
        {
          "output_type": "display_data",
          "data": {
            "text/plain": [
              "<IPython.core.display.HTML object>"
            ],
            "text/html": [
              " View project at <a href='https://wandb.ai/smai2023/imdb_review_sentiment_classification' target=\"_blank\">https://wandb.ai/smai2023/imdb_review_sentiment_classification</a>"
            ]
          },
          "metadata": {}
        },
        {
          "output_type": "display_data",
          "data": {
            "text/plain": [
              "<IPython.core.display.HTML object>"
            ],
            "text/html": [
              " View run at <a href='https://wandb.ai/smai2023/imdb_review_sentiment_classification/runs/3zv7ycqt' target=\"_blank\">https://wandb.ai/smai2023/imdb_review_sentiment_classification/runs/3zv7ycqt</a>"
            ]
          },
          "metadata": {}
        },
        {
          "output_type": "stream",
          "name": "stdout",
          "text": [
            "Epoch 1/10, Train Loss: 0.6992, Train Acc: 0.5023, Test Loss: 0.6942, Test Acc: 0.4958\n",
            "Epoch 2/10, Train Loss: 0.6915, Train Acc: 0.5130, Test Loss: 0.6954, Test Acc: 0.4952\n",
            "Epoch 3/10, Train Loss: 0.6846, Train Acc: 0.5251, Test Loss: 0.6985, Test Acc: 0.5090\n",
            "Epoch 4/10, Train Loss: 0.6720, Train Acc: 0.5305, Test Loss: 0.7122, Test Acc: 0.4976\n",
            "Epoch 5/10, Train Loss: 0.6634, Train Acc: 0.5393, Test Loss: 0.7116, Test Acc: 0.5088\n",
            "Epoch 6/10, Train Loss: 0.6482, Train Acc: 0.5464, Test Loss: 0.7498, Test Acc: 0.4954\n",
            "Epoch 7/10, Train Loss: 0.6322, Train Acc: 0.5528, Test Loss: 0.7559, Test Acc: 0.4952\n",
            "Epoch 8/10, Train Loss: 0.6239, Train Acc: 0.5569, Test Loss: 0.7864, Test Acc: 0.4950\n",
            "Epoch 9/10, Train Loss: 0.6168, Train Acc: 0.5582, Test Loss: 0.8093, Test Acc: 0.5046\n",
            "Epoch 10/10, Train Loss: 0.6148, Train Acc: 0.5618, Test Loss: 0.8129, Test Acc: 0.5084\n"
          ]
        },
        {
          "output_type": "display_data",
          "data": {
            "text/plain": [
              "<Figure size 1000x500 with 1 Axes>"
            ],
            "image/png": "[encoded data removed]"
          },
          "metadata": {}
        },
        {
          "output_type": "display_data",
          "data": {
            "text/plain": [
              "<Figure size 1000x500 with 1 Axes>"
            ],
            "image/png": "[encoded data removed]"
          },
          "metadata": {}
        }
      ]
    },
    {
      "cell_type": "code",
      "source": [
        "import torch\n",
        "import torch.nn as nn\n",
        "import torch.optim as optim\n",
        "from torch.utils.data import Dataset, DataLoader\n",
        "from datasets import load_dataset\n",
        "from nltk.tokenize import word_tokenize\n",
        "from nltk.stem import PorterStemmer, WordNetLemmatizer\n",
        "import numpy as np\n",
        "from tqdm import tqdm\n",
        "import wandb\n",
        "import matplotlib.pyplot as plt\n",
        "\n",
        "# Step 1: Prepare the Dataset\n",
        "# Step 1: Prepare the Dataset\n",
        "\n",
        "class IMDBDataset(Dataset):\n",
        "    def __init__(self, reviews, labels, word_to_index, max_length):\n",
        "        self.reviews = reviews\n",
        "        self.labels = labels\n",
        "        self.word_to_index = word_to_index\n",
        "        self.max_length = max_length\n",
        "\n",
        "    def __len__(self):\n",
        "        return len(self.reviews)\n",
        "\n",
        "    def __getitem__(self, idx):\n",
        "        review = self.reviews[idx]\n",
        "        label = self.labels[idx]\n",
        "\n",
        "        # Tokenize and convert words to indices\n",
        "        review_indices = [self.word_to_index[word] if word in self.word_to_index else 0 for word in review]\n",
        "        # Pad or truncate the review to the max_length\n",
        "        review_indices = review_indices[:self.max_length] + [0] * (self.max_length - len(review_indices))\n",
        "\n",
        "        return torch.tensor(review_indices), torch.tensor(label)\n",
        "\n",
        "def preprocess_text(reviews, use_stemming=False):\n",
        "    if use_stemming:\n",
        "        stemmer = PorterStemmer()\n",
        "        preprocessed_reviews = [[stemmer.stem(token) for token in word_tokenize(review.lower())] for review in reviews]\n",
        "    else:\n",
        "        lemmatizer = WordNetLemmatizer()\n",
        "        preprocessed_reviews = [[lemmatizer.lemmatize(token) for token in word_tokenize(review.lower())] for review in reviews]\n",
        "    return preprocessed_reviews\n",
        "\n",
        "def create_word_to_index(reviews):\n",
        "    word_to_index = {}\n",
        "    index = 1  # Start index from # Start index from 1, reserve index 0 for padding\n",
        "    for review in reviews:\n",
        "        for word in review:\n",
        "            if word not in word_to_index:\n",
        "                word_to_index[word] = index\n",
        "                index += 1\n",
        "    return word_to_index\n",
        "\n",
        "# Step 2: Create Dataloaders\n",
        "\n",
        "def create_dataloaders(reviews, labels, word_to_index, max_length, batch_size, split_ratio=0.2):\n",
        "    dataset = IMDBDataset(reviews, labels, word_to_index, max_length)\n",
        "    train_size = int((1 - split_ratio) * len(dataset))\n",
        "    test_size = int(split_ratio * len(dataset))\n",
        "    train_dataset, test_dataset = torch.utils.data.random_split(dataset, [train_size, test_size])\n",
        "\n",
        "    train_loader = DataLoader(train_dataset, batch_size=batch_size, shuffle=True)\n",
        "    test_loader = DataLoader(test_dataset, batch_size=batch_size, shuffle=False)\n",
        "\n",
        "    return train_loader, test_loader\n",
        "\n",
        "# Step 3: Define the RNN Model\n",
        "\n",
        "class RNNModel(nn.Module):\n",
        "    def __init__(self, input_size, hidden_size, output_size, rnn_strategy='last_output'):\n",
        "        super(RNNModel, self).__init__()\n",
        "        self.embedding = nn.Embedding(input_size, hidden_size)\n",
        "        self.rnn = nn.RNN(hidden_size, hidden_size, batch_first=True)\n",
        "        self.fc = nn.Linear(hidden_size, output_size)\n",
        "        self.rnn_strategy = rnn_strategy\n",
        "\n",
        "    def forward(self, x):\n",
        "        embedded = self.embedding(x)\n",
        "        output, _ = self.rnn(embedded)\n",
        "\n",
        "        if self.rnn_strategy == 'last_output':\n",
        "            output = output[:, -1, :]  # Use the last output of the RNN layer\n",
        "        elif self.rnn_strategy == 'mean_of_all_outputs':\n",
        "            output = output.mean(dim=1)  # Use the mean of all outputs of the RNN layer\n",
        "\n",
        "        output = self.fc(output)\n",
        "        return output\n",
        "\n",
        "# Step 4: Training and Testing Functions\n",
        "\n",
        "def train_model(model, criterion, optimizer, train_loader, device):\n",
        "    model.train()\n",
        "    running_loss = 0.0\n",
        "    correct = 0\n",
        "    total = 0\n",
        "\n",
        "    for inputs, labels in train_loader:\n",
        "        inputs, labels = inputs.to(device), labels.to(device)\n",
        "\n",
        "        optimizer.zero_grad()\n",
        "        outputs = model(inputs)\n",
        "        loss = criterion(outputs, labels)\n",
        "        loss.backward()\n",
        "        optimizer.step()\n",
        "\n",
        "        running_loss += loss.item() * inputs.size(0)\n",
        "        _, predicted = torch.max(outputs, 1)\n",
        "        total += labels.size(0)\n",
        "        correct += (predicted == labels).sum().item()\n",
        "\n",
        "    return running_loss / total, correct / total\n",
        "\n",
        "def test_model(model, criterion, test_loader, device):\n",
        "    model.eval()\n",
        "    running_loss = 0.0\n",
        "    correct = 0\n",
        "    total = 0\n",
        "\n",
        "    with torch.no_grad():\n",
        "        for inputs, labels in test_loader:\n",
        "            inputs, labels = inputs.to(device), labels.to(device)\n",
        "\n",
        "            outputs = model(inputs)\n",
        "            loss = criterion(outputs, labels)\n",
        "\n",
        "            running_loss += loss.item() * inputs.size(0)\n",
        "            _, predicted = torch.max(outputs, 1)\n",
        "            total += labels.size(0)\n",
        "            correct += (predicted == labels).sum().item()\n",
        "\n",
        "    return running_loss / total, correct / total\n",
        "\n",
        "# Step 5: Hyperparameters and Training Loop\n",
        "\n",
        "def train_loop(train_loader, test_loader, model, criterion, optimizer, device, num_epochs, use_wandb=False):\n",
        "    train_losses = []\n",
        "    train_accuracies = []\n",
        "    test_losses = []\n",
        "    test_accuracies = []\n",
        "\n",
        "    for epoch in range(num_epochs):\n",
        "        train_loss, train_accuracy = train_model(model, criterion, optimizer, train_loader, device)\n",
        "        test_loss, test_accuracy = test_model(model, criterion, test_loader, device)\n",
        "\n",
        "        train_losses.append(train_loss)\n",
        "        train_accuracies.append(train_accuracy)\n",
        "        test_losses.append(test_loss)\n",
        "        test_accuracies.append(test_accuracy)\n",
        "\n",
        "        print(f'Epoch {epoch+1}/{num_epochs}, Train Loss: {train_loss:.4f}, Train Acc: {train_accuracy:.4f}, Test Loss: {test_loss:.4f}, Test Acc: {test_accuracy:.4f}')\n",
        "\n",
        "        if use_wandb:\n",
        "            wandb.log({\n",
        "                'epoch': epoch + 1,\n",
        "                'train_loss': train_loss,\n",
        "                'train_accuracy': train_accuracy,\n",
        "                'test_loss': test_loss,\n",
        "                'test_accuracy': test_accuracy\n",
        "            })\n",
        "\n",
        "    return train_losses, train_accuracies, test_losses, test_accuracies\n",
        "\n",
        "# Step 6: Main Function\n",
        "\n",
        "def load_imdb_dataset():\n",
        "    # Load the IMDb dataset\n",
        "    imdb_dataset = load_dataset(\"imdb\")\n",
        "\n",
        "    # Extract reviews and labels\n",
        "    reviews = imdb_dataset[\"train\"][\"text\"]\n",
        "    labels = imdb_dataset[\"train\"][\"label\"]\n",
        "\n",
        "    return reviews, labels\n",
        "\n",
        "def main():\n",
        "    reviews, labels = load_imdb_dataset()\n",
        "    # Define hyperparameters\n",
        "    max_vocab_size = 10000  # Maximum vocabulary size\n",
        "    hidden_size = 128\n",
        "    output_size = 2  # Binary classification: positive or negative\n",
        "    max_length = 500\n",
        "    batch_size = 64\n",
        "    learning_rate = 0.001\n",
        "    num_epochs = 10\n",
        "    use_stemming = True\n",
        "\n",
        "    # Preprocess and tokenize reviews\n",
        "    reviews = preprocess_text(reviews, use_stemming=use_stemming)\n",
        "    flat_reviews = [word for review in reviews for word in review]\n",
        "    word_freq = nltk.FreqDist(flat_reviews)\n",
        "    # Select the most common words up to the maximum vocabulary size\n",
        "    vocab = {word for word, _ in word_freq.most_common(max_vocab_size)}\n",
        "    word_to_index = {word: idx + 1 for idx, word in enumerate(vocab)}  # Reserve index 0 for padding\n",
        "\n",
        "    # Create DataLoader\n",
        "    train_loader, test_loader = create_dataloaders(reviews, labels, word_to_index, max_length, batch_size)\n",
        "\n",
        "    # Initialize model, criterion, and optimizer\n",
        "    device = torch.device('cuda' if torch.cuda.is_available() else 'cpu')\n",
        "    model = RNNModel(input_size=len(word_to_index) + 1, hidden_size=hidden_size, output_size=output_size).to(device)  # Add 1 for padding index\n",
        "    criterion = nn.CrossEntropyLoss()\n",
        "    optimizer = optim.Adam(model.parameters(), lr=learning_rate)\n",
        "\n",
        "    # Initialize Weights & Biases if enabled\n",
        "    use_wandb = True  # Set to True to enable logging with wandb\n",
        "    if use_wandb:\n",
        "        wandb.init(project=\"imdb_review_sentiment_classification\", config={\n",
        "            \"max_vocab_size\": max_vocab_size,\n",
        "            \"hidden_size\": hidden_size,\n",
        "            \"output_size\": output_size,\n",
        "            \"max_length\": max_length,\n",
        "            \"batch_size\": batch_size,\n",
        "            \"learning_rate\": learning_rate,\n",
        "            \"num_epochs\": num_epochs,\n",
        "            \"use_stemming\": True,  # Change to False if not using stemming\n",
        "            \"rnn_strategy\": 'last_output'  # Change to 'mean_of_all_outputs' to test different strategy\n",
        "        })\n",
        "        wandb.watch(model)\n",
        "\n",
        "    # Training loop\n",
        "    train_losses, train_accuracies, test_losses, test_accuracies = train_loop(train_loader, test_loader, model, criterion, optimizer, device, num_epochs, use_wandb)\n",
        "\n",
        "    # Plot loss and accuracy graphs\n",
        "    plt.figure(figsize=(10, 5))\n",
        "    plt.plot(range(1, num_epochs + 1), train_losses, label='Train Loss')\n",
        "    plt.plot(range(1, num_epochs + 1), test_losses, label='Test Loss')\n",
        "    plt.xlabel('Epochs')\n",
        "    plt.ylabel('Loss')\n",
        "    plt.title('Training and Test Loss')\n",
        "    plt.legend()\n",
        "    plt.show()\n",
        "\n",
        "    plt.figure(figsize=(10, 5))\n",
        "    plt.plot(range(1, num_epochs + 1), train_accuracies, label='Train Accuracy')\n",
        "    plt.plot(range(1, num_epochs + 1), test_accuracies, label='Test Accuracy')\n",
        "    plt.xlabel('Epochs')\n",
        "    plt.ylabel('Accuracy')\n",
        "    plt.title('Training and Test Accuracy')\n",
        "    plt.legend()\n",
        "    plt.show()\n",
        "\n",
        "if __name__ == \"__main__\":\n",
        "    main()\n"
      ],
      "metadata": {
        "colab": {
          "base_uri": "https://localhost:8080/",
          "height": 1000
        },
        "id": "ERAKWnZ7SYnA",
        "outputId": "1db8f775-ecc2-4209-81a9-634609738093"
      },
      "execution_count": null,
      "outputs": [
        {
          "output_type": "display_data",
          "data": {
            "text/plain": [
              "<IPython.core.display.Javascript object>"
            ],
            "application/javascript": [
              "\n",
              "        window._wandbApiKey = new Promise((resolve, reject) => {\n",
              "            function loadScript(url) {\n",
              "            return new Promise(function(resolve, reject) {\n",
              "                let newScript = document.createElement(\"script\");\n",
              "                newScript.onerror = reject;\n",
              "                newScript.onload = resolve;\n",
              "                document.body.appendChild(newScript);\n",
              "                newScript.src = url;\n",
              "            });\n",
              "            }\n",
              "            loadScript(\"https://cdn.jsdelivr.net/npm/postmate/build/postmate.min.js\").then(() => {\n",
              "            const iframe = document.createElement('iframe')\n",
              "            iframe.style.cssText = \"width:0;height:0;border:none\"\n",
              "            document.body.appendChild(iframe)\n",
              "            const handshake = new Postmate({\n",
              "                container: iframe,\n",
              "                url: 'https://wandb.ai/authorize'\n",
              "            });\n",
              "            const timeout = setTimeout(() => reject(\"Couldn't auto authenticate\"), 5000)\n",
              "            handshake.then(function(child) {\n",
              "                child.on('authorize', data => {\n",
              "                    clearTimeout(timeout)\n",
              "                    resolve(data)\n",
              "                });\n",
              "            });\n",
              "            })\n",
              "        });\n",
              "    "
            ]
          },
          "metadata": {}
        },
        {
          "output_type": "stream",
          "name": "stderr",
          "text": [
            "\u001b[34m\u001b[1mwandb\u001b[0m: Appending key for api.wandb.ai to your netrc file: /root/.netrc\n"
          ]
        },
        {
          "output_type": "display_data",
          "data": {
            "text/plain": [
              "<IPython.core.display.HTML object>"
            ],
            "text/html": [
              "Tracking run with wandb version 0.16.4"
            ]
          },
          "metadata": {}
        },
        {
          "output_type": "display_data",
          "data": {
            "text/plain": [
              "<IPython.core.display.HTML object>"
            ],
            "text/html": [
              "Run data is saved locally in <code>/content/wandb/run-20240322_085242-t0jhwqzc</code>"
            ]
          },
          "metadata": {}
        },
        {
          "output_type": "display_data",
          "data": {
            "text/plain": [
              "<IPython.core.display.HTML object>"
            ],
            "text/html": [
              "Syncing run <strong><a href='https://wandb.ai/smai2023/imdb_review_sentiment_classification/runs/t0jhwqzc' target=\"_blank\">twilight-sea-6</a></strong> to <a href='https://wandb.ai/smai2023/imdb_review_sentiment_classification' target=\"_blank\">Weights & Biases</a> (<a href='https://wandb.me/run' target=\"_blank\">docs</a>)<br/>"
            ]
          },
          "metadata": {}
        },
        {
          "output_type": "display_data",
          "data": {
            "text/plain": [
              "<IPython.core.display.HTML object>"
            ],
            "text/html": [
              " View project at <a href='https://wandb.ai/smai2023/imdb_review_sentiment_classification' target=\"_blank\">https://wandb.ai/smai2023/imdb_review_sentiment_classification</a>"
            ]
          },
          "metadata": {}
        },
        {
          "output_type": "display_data",
          "data": {
            "text/plain": [
              "<IPython.core.display.HTML object>"
            ],
            "text/html": [
              " View run at <a href='https://wandb.ai/smai2023/imdb_review_sentiment_classification/runs/t0jhwqzc' target=\"_blank\">https://wandb.ai/smai2023/imdb_review_sentiment_classification/runs/t0jhwqzc</a>"
            ]
          },
          "metadata": {}
        },
        {
          "output_type": "stream",
          "name": "stdout",
          "text": [
            "Epoch 1/10, Train Loss: 0.6994, Train Acc: 0.4991, Test Loss: 0.6949, Test Acc: 0.5012\n",
            "Epoch 2/10, Train Loss: 0.6909, Train Acc: 0.5123, Test Loss: 0.6983, Test Acc: 0.5012\n",
            "Epoch 3/10, Train Loss: 0.6856, Train Acc: 0.5201, Test Loss: 0.7006, Test Acc: 0.5012\n",
            "Epoch 4/10, Train Loss: 0.6760, Train Acc: 0.5276, Test Loss: 0.7159, Test Acc: 0.5052\n",
            "Epoch 5/10, Train Loss: 0.6612, Train Acc: 0.5433, Test Loss: 0.7202, Test Acc: 0.5038\n",
            "Epoch 6/10, Train Loss: 0.6548, Train Acc: 0.5418, Test Loss: 0.7448, Test Acc: 0.5002\n",
            "Epoch 7/10, Train Loss: 0.6348, Train Acc: 0.5555, Test Loss: 0.7620, Test Acc: 0.5050\n",
            "Epoch 8/10, Train Loss: 0.6248, Train Acc: 0.5599, Test Loss: 0.7858, Test Acc: 0.5016\n",
            "Epoch 9/10, Train Loss: 0.6169, Train Acc: 0.5613, Test Loss: 0.8032, Test Acc: 0.5042\n",
            "Epoch 10/10, Train Loss: 0.6155, Train Acc: 0.5595, Test Loss: 0.8212, Test Acc: 0.5076\n"
          ]
        },
        {
          "output_type": "display_data",
          "data": {
            "text/plain": [
              "<Figure size 1000x500 with 1 Axes>"
            ],
            "image/png": "[encoded data removed]"
          },
          "metadata": {}
        },
        {
          "output_type": "display_data",
          "data": {
            "text/plain": [
              "<Figure size 1000x500 with 1 Axes>"
            ],
            "image/png": "[encoded data removed]"
          },
          "metadata": {}
        }
      ]
    },
    {
      "cell_type": "code",
      "source": [
        "import torch\n",
        "import torch.nn as nn\n",
        "import torch.optim as optim\n",
        "from torch.utils.data import Dataset, DataLoader\n",
        "from datasets import load_dataset\n",
        "from nltk.tokenize import word_tokenize\n",
        "from nltk.stem import PorterStemmer, WordNetLemmatizer\n",
        "import numpy as np\n",
        "from tqdm import tqdm\n",
        "import wandb\n",
        "import matplotlib.pyplot as plt\n",
        "\n",
        "# Step 1: Prepare the Dataset\n",
        "# Step 1: Prepare the Dataset\n",
        "\n",
        "class IMDBDataset(Dataset):\n",
        "    def __init__(self, reviews, labels, word_to_index, max_length):\n",
        "        self.reviews = reviews\n",
        "        self.labels = labels\n",
        "        self.word_to_index = word_to_index\n",
        "        self.max_length = max_length\n",
        "\n",
        "    def __len__(self):\n",
        "        return len(self.reviews)\n",
        "\n",
        "    def __getitem__(self, idx):\n",
        "        review = self.reviews[idx]\n",
        "        label = self.labels[idx]\n",
        "\n",
        "        # Tokenize and convert words to indices\n",
        "        review_indices = [self.word_to_index[word] if word in self.word_to_index else 0 for word in review]\n",
        "        # Pad or truncate the review to the max_length\n",
        "        review_indices = review_indices[:self.max_length] + [0] * (self.max_length - len(review_indices))\n",
        "\n",
        "        return torch.tensor(review_indices), torch.tensor(label)\n",
        "\n",
        "def preprocess_text(reviews, use_stemming=False):\n",
        "    if use_stemming:\n",
        "        stemmer = PorterStemmer()\n",
        "        preprocessed_reviews = [[stemmer.stem(token) for token in word_tokenize(review.lower())] for review in reviews]\n",
        "    else:\n",
        "        lemmatizer = WordNetLemmatizer()\n",
        "        preprocessed_reviews = [[lemmatizer.lemmatize(token) for token in word_tokenize(review.lower())] for review in reviews]\n",
        "    return preprocessed_reviews\n",
        "\n",
        "def create_word_to_index(reviews):\n",
        "    word_to_index = {}\n",
        "    index = 1  # Start index from # Start index from 1, reserve index 0 for padding\n",
        "    for review in reviews:\n",
        "        for word in review:\n",
        "            if word not in word_to_index:\n",
        "                word_to_index[word] = index\n",
        "                index += 1\n",
        "    return word_to_index\n",
        "\n",
        "# Step 2: Create Dataloaders\n",
        "\n",
        "def create_dataloaders(reviews, labels, word_to_index, max_length, batch_size, split_ratio=0.2):\n",
        "    dataset = IMDBDataset(reviews, labels, word_to_index, max_length)\n",
        "    train_size = int((1 - split_ratio) * len(dataset))\n",
        "    test_size = int(split_ratio * len(dataset))\n",
        "    train_dataset, test_dataset = torch.utils.data.random_split(dataset, [train_size, test_size])\n",
        "\n",
        "    train_loader = DataLoader(train_dataset, batch_size=batch_size, shuffle=True)\n",
        "    test_loader = DataLoader(test_dataset, batch_size=batch_size, shuffle=False)\n",
        "\n",
        "    return train_loader, test_loader\n",
        "\n",
        "# Step 3: Define the RNN Model\n",
        "\n",
        "class RNNModel(nn.Module):\n",
        "    def __init__(self, input_size, hidden_size, output_size, rnn_strategy='last_output'):\n",
        "        super(RNNModel, self).__init__()\n",
        "        self.embedding = nn.Embedding(input_size, hidden_size)\n",
        "        self.rnn = nn.RNN(hidden_size, hidden_size, batch_first=True)\n",
        "        self.fc = nn.Linear(hidden_size, output_size)\n",
        "        self.rnn_strategy = rnn_strategy\n",
        "\n",
        "    def forward(self, x):\n",
        "        embedded = self.embedding(x)\n",
        "        output, _ = self.rnn(embedded)\n",
        "\n",
        "        if self.rnn_strategy == 'last_output':\n",
        "            output = output[:, -1, :]  # Use the last output of the RNN layer\n",
        "        elif self.rnn_strategy == 'mean_of_all_outputs':\n",
        "            output = output.mean(dim=1)  # Use the mean of all outputs of the RNN layer\n",
        "\n",
        "        output = self.fc(output)\n",
        "        return output\n",
        "\n",
        "# Step 4: Training and Testing Functions\n",
        "\n",
        "def train_model(model, criterion, optimizer, train_loader, device):\n",
        "    model.train()\n",
        "    running_loss = 0.0\n",
        "    correct = 0\n",
        "    total = 0\n",
        "\n",
        "    for inputs, labels in train_loader:\n",
        "        inputs, labels = inputs.to(device), labels.to(device)\n",
        "\n",
        "        optimizer.zero_grad()\n",
        "        outputs = model(inputs)\n",
        "        loss = criterion(outputs, labels)\n",
        "        loss.backward()\n",
        "        optimizer.step()\n",
        "\n",
        "        running_loss += loss.item() * inputs.size(0)\n",
        "        _, predicted = torch.max(outputs, 1)\n",
        "        total += labels.size(0)\n",
        "        correct += (predicted == labels).sum().item()\n",
        "\n",
        "    return running_loss / total, correct / total\n",
        "\n",
        "def test_model(model, criterion, test_loader, device):\n",
        "    model.eval()\n",
        "    running_loss = 0.0\n",
        "    correct = 0\n",
        "    total = 0\n",
        "\n",
        "    with torch.no_grad():\n",
        "        for inputs, labels in test_loader:\n",
        "            inputs, labels = inputs.to(device), labels.to(device)\n",
        "\n",
        "            outputs = model(inputs)\n",
        "            loss = criterion(outputs, labels)\n",
        "\n",
        "            running_loss += loss.item() * inputs.size(0)\n",
        "            _, predicted = torch.max(outputs, 1)\n",
        "            total += labels.size(0)\n",
        "            correct += (predicted == labels).sum().item()\n",
        "\n",
        "    return running_loss / total, correct / total\n",
        "\n",
        "# Step 5: Hyperparameters and Training Loop\n",
        "\n",
        "def train_loop(train_loader, test_loader, model, criterion, optimizer, device, num_epochs, use_wandb=False):\n",
        "    train_losses = []\n",
        "    train_accuracies = []\n",
        "    test_losses = []\n",
        "    test_accuracies = []\n",
        "\n",
        "    for epoch in range(num_epochs):\n",
        "        train_loss, train_accuracy = train_model(model, criterion, optimizer, train_loader, device)\n",
        "        test_loss, test_accuracy = test_model(model, criterion, test_loader, device)\n",
        "\n",
        "        train_losses.append(train_loss)\n",
        "        train_accuracies.append(train_accuracy)\n",
        "        test_losses.append(test_loss)\n",
        "        test_accuracies.append(test_accuracy)\n",
        "\n",
        "        print(f'Epoch {epoch+1}/{num_epochs}, Train Loss: {train_loss:.4f}, Train Acc: {train_accuracy:.4f}, Test Loss: {test_loss:.4f}, Test Acc: {test_accuracy:.4f}')\n",
        "\n",
        "        if use_wandb:\n",
        "            wandb.log({\n",
        "                'epoch': epoch + 1,\n",
        "                'train_loss': train_loss,\n",
        "                'train_accuracy': train_accuracy,\n",
        "                'test_loss': test_loss,\n",
        "                'test_accuracy': test_accuracy\n",
        "            })\n",
        "\n",
        "    return train_losses, train_accuracies, test_losses, test_accuracies\n",
        "\n",
        "# Step 6: Main Function\n",
        "\n",
        "def load_imdb_dataset():\n",
        "    # Load the IMDb dataset\n",
        "    imdb_dataset = load_dataset(\"imdb\")\n",
        "\n",
        "    # Extract reviews and labels\n",
        "    reviews = imdb_dataset[\"train\"][\"text\"]\n",
        "    labels = imdb_dataset[\"train\"][\"label\"]\n",
        "\n",
        "    return reviews, labels\n",
        "\n",
        "def main():\n",
        "    reviews, labels = load_imdb_dataset()\n",
        "    # Define hyperparameters\n",
        "    max_vocab_size = 10000  # Maximum vocabulary size\n",
        "    hidden_size = 128\n",
        "    output_size = 2  # Binary classification: positive or negative\n",
        "    max_length = 500\n",
        "    batch_size = 64\n",
        "    learning_rate = 0.001\n",
        "    num_epochs = 10\n",
        "    use_stemming = True\n",
        "\n",
        "    # Preprocess and tokenize reviews\n",
        "    reviews = preprocess_text(reviews, use_stemming=use_stemming)\n",
        "    flat_reviews = [word for review in reviews for word in review]\n",
        "    word_freq = nltk.FreqDist(flat_reviews)\n",
        "    # Select the most common words up to the maximum vocabulary size\n",
        "    vocab = {word for word, _ in word_freq.most_common(max_vocab_size)}\n",
        "    word_to_index = {word: idx + 1 for idx, word in enumerate(vocab)}  # Reserve index 0 for padding\n",
        "\n",
        "    # Create DataLoader\n",
        "    train_loader, test_loader = create_dataloaders(reviews, labels, word_to_index, max_length, batch_size)\n",
        "\n",
        "    # Initialize model, criterion, and optimizer\n",
        "    device = torch.device('cuda' if torch.cuda.is_available() else 'cpu')\n",
        "    model = RNNModel(input_size=len(word_to_index) + 1, hidden_size=hidden_size, output_size=output_size).to(device)  # Add 1 for padding index\n",
        "    criterion = nn.CrossEntropyLoss()\n",
        "    optimizer = optim.Adam(model.parameters(), lr=learning_rate)\n",
        "\n",
        "    # Initialize Weights & Biases if enabled\n",
        "    use_wandb = True  # Set to True to enable logging with wandb\n",
        "    if use_wandb:\n",
        "        wandb.init(project=\"imdb_review_sentiment_classification\", config={\n",
        "            \"max_vocab_size\": max_vocab_size,\n",
        "            \"hidden_size\": hidden_size,\n",
        "            \"output_size\": output_size,\n",
        "            \"max_length\": max_length,\n",
        "            \"batch_size\": batch_size,\n",
        "            \"learning_rate\": learning_rate,\n",
        "            \"num_epochs\": num_epochs,\n",
        "            \"use_stemming\": True,  # Change to False if not using stemming\n",
        "            \"rnn_strategy\": 'mean_of_all_outputs'  # Change to 'mean_of_all_outputs' to test different strategy\n",
        "        })\n",
        "        wandb.watch(model)\n",
        "\n",
        "    # Training loop\n",
        "    train_losses, train_accuracies, test_losses, test_accuracies = train_loop(train_loader, test_loader, model, criterion, optimizer, device, num_epochs, use_wandb)\n",
        "\n",
        "    # Plot loss and accuracy graphs\n",
        "    plt.figure(figsize=(10, 5))\n",
        "    plt.plot(range(1, num_epochs + 1), train_losses, label='Train Loss')\n",
        "    plt.plot(range(1, num_epochs + 1), test_losses, label='Test Loss')\n",
        "    plt.xlabel('Epochs')\n",
        "    plt.ylabel('Loss')\n",
        "    plt.title('Training and Test Loss')\n",
        "    plt.legend()\n",
        "    plt.show()\n",
        "\n",
        "    plt.figure(figsize=(10, 5))\n",
        "    plt.plot(range(1, num_epochs + 1), train_accuracies, label='Train Accuracy')\n",
        "    plt.plot(range(1, num_epochs + 1), test_accuracies, label='Test Accuracy')\n",
        "    plt.xlabel('Epochs')\n",
        "    plt.ylabel('Accuracy')\n",
        "    plt.title('Training and Test Accuracy')\n",
        "    plt.legend()\n",
        "    plt.show()\n",
        "\n",
        "if __name__ == \"__main__\":\n",
        "    main()\n"
      ],
      "metadata": {
        "colab": {
          "base_uri": "https://localhost:8080/",
          "height": 1000,
          "referenced_widgets": [
            "e3f09c9e14ac495e810c33e1d5b36668",
            "99c89dd0e7b74950ba11454816bc0b4a",
            "7cb2445ff7744fa195501f7b31a3a73e",
            "59babd2a19ed41eebeb426eee8e4d2f8",
            "a64eba9270934e6380e85601ff2513a0",
            "d29f8c81ae764f6a8ef0a6d3d77c9c0c",
            "f1b0846d2cc841cda1885b4b97d1fc86",
            "90b2298ecdd9439a8a9ae1f1eade5333"
          ]
        },
        "id": "DFM0PSpWZEtC",
        "outputId": "fa0448e0-4617-4634-9ca6-2a7acf62264f"
      },
      "execution_count": null,
      "outputs": [
        {
          "output_type": "display_data",
          "data": {
            "text/plain": [
              "<IPython.core.display.HTML object>"
            ],
            "text/html": [
              "Finishing last run (ID:gm1cncdt) before initializing another..."
            ]
          },
          "metadata": {}
        },
        {
          "output_type": "display_data",
          "data": {
            "text/plain": [
              "VBox(children=(Label(value='0.001 MB of 0.001 MB uploaded\\r'), FloatProgress(value=1.0, max=1.0)))"
            ],
            "application/vnd.jupyter.widget-view+json": {
              "version_major": 2,
              "version_minor": 0,
              "model_id": "e3f09c9e14ac495e810c33e1d5b36668"
            }
          },
          "metadata": {}
        },
        {
          "output_type": "display_data",
          "data": {
            "text/plain": [
              "<IPython.core.display.HTML object>"
            ],
            "text/html": [
              "<style>\n",
              "    table.wandb td:nth-child(1) { padding: 0 10px; text-align: left ; width: auto;} td:nth-child(2) {text-align: left ; width: 100%}\n",
              "    .wandb-row { display: flex; flex-direction: row; flex-wrap: wrap; justify-content: flex-start; width: 100% }\n",
              "    .wandb-col { display: flex; flex-direction: column; flex-basis: 100%; flex: 1; padding: 10px; }\n",
              "    </style>\n",
              "<div class=\"wandb-row\"><div class=\"wandb-col\"><h3>Run history:</h3><br/><table class=\"wandb\"><tr><td>epoch</td><td>▁▂▃▃▄▅▆▆▇█</td></tr><tr><td>test_accuracy</td><td>█▃▇▃█▁▂█▇▇</td></tr><tr><td>test_loss</td><td>▁▂▂▁▂▃▄▅▇█</td></tr><tr><td>train_accuracy</td><td>▁▃▅▃▅▆▇▇▇█</td></tr><tr><td>train_loss</td><td>█▇▇▇▆▄▃▂▁▁</td></tr></table><br/></div><div class=\"wandb-col\"><h3>Run summary:</h3><br/><table class=\"wandb\"><tr><td>epoch</td><td>10</td></tr><tr><td>test_accuracy</td><td>0.509</td></tr><tr><td>test_loss</td><td>0.80186</td></tr><tr><td>train_accuracy</td><td>0.55855</td></tr><tr><td>train_loss</td><td>0.61984</td></tr></table><br/></div></div>"
            ]
          },
          "metadata": {}
        },
        {
          "output_type": "display_data",
          "data": {
            "text/plain": [
              "<IPython.core.display.HTML object>"
            ],
            "text/html": [
              " View run <strong style=\"color:#cdcd00\">spring-vortex-7</strong> at: <a href='https://wandb.ai/smai2023/imdb_review_sentiment_classification/runs/gm1cncdt' target=\"_blank\">https://wandb.ai/smai2023/imdb_review_sentiment_classification/runs/gm1cncdt</a><br/>Synced 5 W&B file(s), 0 media file(s), 0 artifact file(s) and 0 other file(s)"
            ]
          },
          "metadata": {}
        },
        {
          "output_type": "display_data",
          "data": {
            "text/plain": [
              "<IPython.core.display.HTML object>"
            ],
            "text/html": [
              "Find logs at: <code>./wandb/run-20240322_085857-gm1cncdt/logs</code>"
            ]
          },
          "metadata": {}
        },
        {
          "output_type": "display_data",
          "data": {
            "text/plain": [
              "<IPython.core.display.HTML object>"
            ],
            "text/html": [
              "Successfully finished last run (ID:gm1cncdt). Initializing new run:<br/>"
            ]
          },
          "metadata": {}
        },
        {
          "output_type": "display_data",
          "data": {
            "text/plain": [
              "<IPython.core.display.HTML object>"
            ],
            "text/html": [
              "Tracking run with wandb version 0.16.4"
            ]
          },
          "metadata": {}
        },
        {
          "output_type": "display_data",
          "data": {
            "text/plain": [
              "<IPython.core.display.HTML object>"
            ],
            "text/html": [
              "Run data is saved locally in <code>/content/wandb/run-20240322_090457-hma4s8pv</code>"
            ]
          },
          "metadata": {}
        },
        {
          "output_type": "display_data",
          "data": {
            "text/plain": [
              "<IPython.core.display.HTML object>"
            ],
            "text/html": [
              "Syncing run <strong><a href='https://wandb.ai/smai2023/imdb_review_sentiment_classification/runs/hma4s8pv' target=\"_blank\">sage-valley-8</a></strong> to <a href='https://wandb.ai/smai2023/imdb_review_sentiment_classification' target=\"_blank\">Weights & Biases</a> (<a href='https://wandb.me/run' target=\"_blank\">docs</a>)<br/>"
            ]
          },
          "metadata": {}
        },
        {
          "output_type": "display_data",
          "data": {
            "text/plain": [
              "<IPython.core.display.HTML object>"
            ],
            "text/html": [
              " View project at <a href='https://wandb.ai/smai2023/imdb_review_sentiment_classification' target=\"_blank\">https://wandb.ai/smai2023/imdb_review_sentiment_classification</a>"
            ]
          },
          "metadata": {}
        },
        {
          "output_type": "display_data",
          "data": {
            "text/plain": [
              "<IPython.core.display.HTML object>"
            ],
            "text/html": [
              " View run at <a href='https://wandb.ai/smai2023/imdb_review_sentiment_classification/runs/hma4s8pv' target=\"_blank\">https://wandb.ai/smai2023/imdb_review_sentiment_classification/runs/hma4s8pv</a>"
            ]
          },
          "metadata": {}
        },
        {
          "output_type": "stream",
          "name": "stdout",
          "text": [
            "Epoch 1/10, Train Loss: 0.6996, Train Acc: 0.5013, Test Loss: 0.7007, Test Acc: 0.5046\n",
            "Epoch 2/10, Train Loss: 0.6906, Train Acc: 0.5143, Test Loss: 0.6987, Test Acc: 0.5062\n",
            "Epoch 3/10, Train Loss: 0.6838, Train Acc: 0.5202, Test Loss: 0.7041, Test Acc: 0.5054\n",
            "Epoch 4/10, Train Loss: 0.6727, Train Acc: 0.5285, Test Loss: 0.7104, Test Acc: 0.5088\n",
            "Epoch 5/10, Train Loss: 0.6582, Train Acc: 0.5400, Test Loss: 0.7273, Test Acc: 0.5048\n",
            "Epoch 6/10, Train Loss: 0.6417, Train Acc: 0.5512, Test Loss: 0.7467, Test Acc: 0.5074\n",
            "Epoch 7/10, Train Loss: 0.6313, Train Acc: 0.5593, Test Loss: 0.7629, Test Acc: 0.5038\n",
            "Epoch 8/10, Train Loss: 0.6236, Train Acc: 0.5567, Test Loss: 0.7873, Test Acc: 0.5098\n",
            "Epoch 9/10, Train Loss: 0.6191, Train Acc: 0.5605, Test Loss: 0.7996, Test Acc: 0.5128\n",
            "Epoch 10/10, Train Loss: 0.6156, Train Acc: 0.5638, Test Loss: 0.8079, Test Acc: 0.5114\n"
          ]
        },
        {
          "output_type": "display_data",
          "data": {
            "text/plain": [
              "<Figure size 1000x500 with 1 Axes>"
            ],
            "image/png": "[encoded data removed]"
          },
          "metadata": {}
        },
        {
          "output_type": "display_data",
          "data": {
            "text/plain": [
              "<Figure size 1000x500 with 1 Axes>"
            ],
            "image/png": "[encoded data removed]"
          },
          "metadata": {}
        }
      ]
    },
    {
      "cell_type": "code",
      "source": [
        "import torch\n",
        "import torch.nn as nn\n",
        "import torch.optim as optim\n",
        "from torch.utils.data import Dataset, DataLoader\n",
        "from datasets import load_dataset\n",
        "from nltk.tokenize import word_tokenize\n",
        "from nltk.stem import PorterStemmer, WordNetLemmatizer\n",
        "import numpy as np\n",
        "from tqdm import tqdm\n",
        "import wandb\n",
        "import matplotlib.pyplot as plt\n",
        "\n",
        "# Step 1: Prepare the Dataset\n",
        "# Step 1: Prepare the Dataset\n",
        "\n",
        "class IMDBDataset(Dataset):\n",
        "    def __init__(self, reviews, labels, word_to_index, max_length):\n",
        "        self.reviews = reviews\n",
        "        self.labels = labels\n",
        "        self.word_to_index = word_to_index\n",
        "        self.max_length = max_length\n",
        "\n",
        "    def __len__(self):\n",
        "        return len(self.reviews)\n",
        "\n",
        "    def __getitem__(self, idx):\n",
        "        review = self.reviews[idx]\n",
        "        label = self.labels[idx]\n",
        "\n",
        "        # Tokenize and convert words to indices\n",
        "        review_indices = [self.word_to_index[word] if word in self.word_to_index else 0 for word in review]\n",
        "        # Pad or truncate the review to the max_length\n",
        "        review_indices = review_indices[:self.max_length] + [0] * (self.max_length - len(review_indices))\n",
        "\n",
        "        return torch.tensor(review_indices), torch.tensor(label)\n",
        "\n",
        "def preprocess_text(reviews, use_stemming=False):\n",
        "    if use_stemming:\n",
        "        stemmer = PorterStemmer()\n",
        "        preprocessed_reviews = [[stemmer.stem(token) for token in word_tokenize(review.lower())] for review in reviews]\n",
        "    else:\n",
        "        lemmatizer = WordNetLemmatizer()\n",
        "        preprocessed_reviews = [[lemmatizer.lemmatize(token) for token in word_tokenize(review.lower())] for review in reviews]\n",
        "    return preprocessed_reviews\n",
        "\n",
        "def create_word_to_index(reviews):\n",
        "    word_to_index = {}\n",
        "    index = 1  # Start index from # Start index from 1, reserve index 0 for padding\n",
        "    for review in reviews:\n",
        "        for word in review:\n",
        "            if word not in word_to_index:\n",
        "                word_to_index[word] = index\n",
        "                index += 1\n",
        "    return word_to_index\n",
        "\n",
        "# Step 2: Create Dataloaders\n",
        "\n",
        "def create_dataloaders(reviews, labels, word_to_index, max_length, batch_size, split_ratio=0.2):\n",
        "    dataset = IMDBDataset(reviews, labels, word_to_index, max_length)\n",
        "    train_size = int((1 - split_ratio) * len(dataset))\n",
        "    test_size = int(split_ratio * len(dataset))\n",
        "    train_dataset, test_dataset = torch.utils.data.random_split(dataset, [train_size, test_size])\n",
        "\n",
        "    train_loader = DataLoader(train_dataset, batch_size=batch_size, shuffle=True)\n",
        "    test_loader = DataLoader(test_dataset, batch_size=batch_size, shuffle=False)\n",
        "\n",
        "    return train_loader, test_loader\n",
        "\n",
        "# Step 3: Define the RNN Model\n",
        "\n",
        "class RNNModel(nn.Module):\n",
        "    def __init__(self, input_size, hidden_size, output_size, rnn_strategy='last_output'):\n",
        "        super(RNNModel, self).__init__()\n",
        "        self.embedding = nn.Embedding(input_size, hidden_size)\n",
        "        self.rnn = nn.RNN(hidden_size, hidden_size, batch_first=True)\n",
        "        self.fc = nn.Linear(hidden_size, output_size)\n",
        "        self.rnn_strategy = rnn_strategy\n",
        "\n",
        "    def forward(self, x):\n",
        "        embedded = self.embedding(x)\n",
        "        output, _ = self.rnn(embedded)\n",
        "\n",
        "        if self.rnn_strategy == 'last_output':\n",
        "            output = output[:, -1, :]  # Use the last output of the RNN layer\n",
        "        elif self.rnn_strategy == 'mean_of_all_outputs':\n",
        "            output = output.mean(dim=1)  # Use the mean of all outputs of the RNN layer\n",
        "\n",
        "        output = self.fc(output)\n",
        "        return output\n",
        "\n",
        "# Step 4: Training and Testing Functions\n",
        "\n",
        "def train_model(model, criterion, optimizer, train_loader, device):\n",
        "    model.train()\n",
        "    running_loss = 0.0\n",
        "    correct = 0\n",
        "    total = 0\n",
        "\n",
        "    for inputs, labels in train_loader:\n",
        "        inputs, labels = inputs.to(device), labels.to(device)\n",
        "\n",
        "        optimizer.zero_grad()\n",
        "        outputs = model(inputs)\n",
        "        loss = criterion(outputs, labels)\n",
        "        loss.backward()\n",
        "        optimizer.step()\n",
        "\n",
        "        running_loss += loss.item() * inputs.size(0)\n",
        "        _, predicted = torch.max(outputs, 1)\n",
        "        total += labels.size(0)\n",
        "        correct += (predicted == labels).sum().item()\n",
        "\n",
        "    return running_loss / total, correct / total\n",
        "\n",
        "def test_model(model, criterion, test_loader, device):\n",
        "    model.eval()\n",
        "    running_loss = 0.0\n",
        "    correct = 0\n",
        "    total = 0\n",
        "\n",
        "    with torch.no_grad():\n",
        "        for inputs, labels in test_loader:\n",
        "            inputs, labels = inputs.to(device), labels.to(device)\n",
        "\n",
        "            outputs = model(inputs)\n",
        "            loss = criterion(outputs, labels)\n",
        "\n",
        "            running_loss += loss.item() * inputs.size(0)\n",
        "            _, predicted = torch.max(outputs, 1)\n",
        "            total += labels.size(0)\n",
        "            correct += (predicted == labels).sum().item()\n",
        "\n",
        "    return running_loss / total, correct / total\n",
        "\n",
        "# Step 5: Hyperparameters and Training Loop\n",
        "\n",
        "def train_loop(train_loader, test_loader, model, criterion, optimizer, device, num_epochs, use_wandb=False):\n",
        "    train_losses = []\n",
        "    train_accuracies = []\n",
        "    test_losses = []\n",
        "    test_accuracies = []\n",
        "\n",
        "    for epoch in range(num_epochs):\n",
        "        train_loss, train_accuracy = train_model(model, criterion, optimizer, train_loader, device)\n",
        "        test_loss, test_accuracy = test_model(model, criterion, test_loader, device)\n",
        "\n",
        "        train_losses.append(train_loss)\n",
        "        train_accuracies.append(train_accuracy)\n",
        "        test_losses.append(test_loss)\n",
        "        test_accuracies.append(test_accuracy)\n",
        "\n",
        "        print(f'Epoch {epoch+1}/{num_epochs}, Train Loss: {train_loss:.4f}, Train Acc: {train_accuracy:.4f}, Test Loss: {test_loss:.4f}, Test Acc: {test_accuracy:.4f}')\n",
        "\n",
        "        if use_wandb:\n",
        "            wandb.log({\n",
        "                'epoch': epoch + 1,\n",
        "                'train_loss': train_loss,\n",
        "                'train_accuracy': train_accuracy,\n",
        "                'test_loss': test_loss,\n",
        "                'test_accuracy': test_accuracy\n",
        "            })\n",
        "\n",
        "    return train_losses, train_accuracies, test_losses, test_accuracies\n",
        "\n",
        "# Step 6: Main Function\n",
        "\n",
        "def load_imdb_dataset():\n",
        "    # Load the IMDb dataset\n",
        "    imdb_dataset = load_dataset(\"imdb\")\n",
        "\n",
        "    # Extract reviews and labels\n",
        "    reviews = imdb_dataset[\"train\"][\"text\"]\n",
        "    labels = imdb_dataset[\"train\"][\"label\"]\n",
        "\n",
        "    return reviews, labels\n",
        "\n",
        "def main():\n",
        "    reviews, labels = load_imdb_dataset()\n",
        "    # Define hyperparameters\n",
        "    max_vocab_size = 10000  # Maximum vocabulary size\n",
        "    hidden_size = 128\n",
        "    output_size = 2  # Binary classification: positive or negative\n",
        "    max_length = 500\n",
        "    batch_size = 64\n",
        "    learning_rate = 0.001\n",
        "    num_epochs = 10\n",
        "\n",
        "    # Preprocess and tokenize reviews\n",
        "    reviews = preprocess_text(reviews)\n",
        "    flat_reviews = [word for review in reviews for word in review]\n",
        "    word_freq = nltk.FreqDist(flat_reviews)\n",
        "    # Select the most common words up to the maximum vocabulary size\n",
        "    vocab = {word for word, _ in word_freq.most_common(max_vocab_size)}\n",
        "    word_to_index = {word: idx + 1 for idx, word in enumerate(vocab)}  # Reserve index 0 for padding\n",
        "\n",
        "    # Create DataLoader\n",
        "    train_loader, test_loader = create_dataloaders(reviews, labels, word_to_index, max_length, batch_size)\n",
        "\n",
        "    # Initialize model, criterion, and optimizer\n",
        "    device = torch.device('cuda' if torch.cuda.is_available() else 'cpu')\n",
        "    model = RNNModel(input_size=len(word_to_index) + 1, hidden_size=hidden_size, output_size=output_size).to(device)  # Add 1 for padding index\n",
        "    criterion = nn.CrossEntropyLoss()\n",
        "    optimizer = optim.Adam(model.parameters(), lr=learning_rate)\n",
        "\n",
        "    # Initialize Weights & Biases if enabled\n",
        "    use_wandb = True  # Set to True to enable logging with wandb\n",
        "    if use_wandb:\n",
        "        wandb.init(project=\"imdb_review_sentiment_classification\", config={\n",
        "            \"max_vocab_size\": max_vocab_size,\n",
        "            \"hidden_size\": hidden_size,\n",
        "            \"output_size\": output_size,\n",
        "            \"max_length\": max_length,\n",
        "            \"batch_size\": batch_size,\n",
        "            \"learning_rate\": learning_rate,\n",
        "            \"num_epochs\": num_epochs,\n",
        "            \"use_stemming\": True,  # Change to False if not using stemming\n",
        "            \"rnn_strategy\": 'mean_of_all_outputs'  # Change to 'mean_of_all_outputs' to test different strategy\n",
        "        })\n",
        "        wandb.watch(model)\n",
        "\n",
        "    # Training loop\n",
        "    train_losses, train_accuracies, test_losses, test_accuracies = train_loop(train_loader, test_loader, model, criterion, optimizer, device, num_epochs, use_wandb)\n",
        "\n",
        "    # Plot loss and accuracy graphs\n",
        "    plt.figure(figsize=(10, 5))\n",
        "    plt.plot(range(1, num_epochs + 1), train_losses, label='Train Loss')\n",
        "    plt.plot(range(1, num_epochs + 1), test_losses, label='Test Loss')\n",
        "    plt.xlabel('Epochs')\n",
        "    plt.ylabel('Loss')\n",
        "    plt.title('Training and Test Loss')\n",
        "    plt.legend()\n",
        "    plt.show()\n",
        "\n",
        "    plt.figure(figsize=(10, 5))\n",
        "    plt.plot(range(1, num_epochs + 1), train_accuracies, label='Train Accuracy')\n",
        "    plt.plot(range(1, num_epochs + 1), test_accuracies, label='Test Accuracy')\n",
        "    plt.xlabel('Epochs')\n",
        "    plt.ylabel('Accuracy')\n",
        "    plt.title('Training and Test Accuracy')\n",
        "    plt.legend()\n",
        "    plt.show()\n",
        "\n",
        "if __name__ == \"__main__\":\n",
        "    main()\n"
      ],
      "metadata": {
        "colab": {
          "base_uri": "https://localhost:8080/",
          "height": 1000,
          "referenced_widgets": [
            "ac526d7fceab433c9292f891a9f80c67",
            "f514828fd7cd4c3f8eb08336526033a1",
            "6a66099ccb074c1ebce91faa2131c47d",
            "a70eeb458bf1466da32f74660961cf17",
            "b9ba635dd0ed46c5a146b66bef31900a",
            "ec82f65684624c108ba58af89db71aaa",
            "d183f0653bde4b4c814abd14d100ef24",
            "e9040f6fdcdd42b0b8bdbc8cc986fbc1"
          ]
        },
        "id": "qcDZoXCqYN2k",
        "outputId": "a30cb0a1-abc3-49a0-ec7e-d65632805c31"
      },
      "execution_count": null,
      "outputs": [
        {
          "output_type": "display_data",
          "data": {
            "text/plain": [
              "<IPython.core.display.HTML object>"
            ],
            "text/html": [
              "Finishing last run (ID:t0jhwqzc) before initializing another..."
            ]
          },
          "metadata": {}
        },
        {
          "output_type": "display_data",
          "data": {
            "text/plain": [
              "VBox(children=(Label(value='0.001 MB of 0.012 MB uploaded\\r'), FloatProgress(value=0.10139049826187717, max=1.…"
            ],
            "application/vnd.jupyter.widget-view+json": {
              "version_major": 2,
              "version_minor": 0,
              "model_id": "ac526d7fceab433c9292f891a9f80c67"
            }
          },
          "metadata": {}
        },
        {
          "output_type": "display_data",
          "data": {
            "text/plain": [
              "<IPython.core.display.HTML object>"
            ],
            "text/html": [
              "<style>\n",
              "    table.wandb td:nth-child(1) { padding: 0 10px; text-align: left ; width: auto;} td:nth-child(2) {text-align: left ; width: 100%}\n",
              "    .wandb-row { display: flex; flex-direction: row; flex-wrap: wrap; justify-content: flex-start; width: 100% }\n",
              "    .wandb-col { display: flex; flex-direction: column; flex-basis: 100%; flex: 1; padding: 10px; }\n",
              "    </style>\n",
              "<div class=\"wandb-row\"><div class=\"wandb-col\"><h3>Run history:</h3><br/><table class=\"wandb\"><tr><td>epoch</td><td>▁▂▃▃▄▅▆▆▇█</td></tr><tr><td>test_accuracy</td><td>▂▂▂▆▄▁▆▂▅█</td></tr><tr><td>test_loss</td><td>▁▁▁▂▂▄▅▆▇█</td></tr><tr><td>train_accuracy</td><td>▁▂▃▄▆▆▇███</td></tr><tr><td>train_loss</td><td>█▇▇▆▅▄▃▂▁▁</td></tr></table><br/></div><div class=\"wandb-col\"><h3>Run summary:</h3><br/><table class=\"wandb\"><tr><td>epoch</td><td>10</td></tr><tr><td>test_accuracy</td><td>0.5076</td></tr><tr><td>test_loss</td><td>0.82116</td></tr><tr><td>train_accuracy</td><td>0.55945</td></tr><tr><td>train_loss</td><td>0.61547</td></tr></table><br/></div></div>"
            ]
          },
          "metadata": {}
        },
        {
          "output_type": "display_data",
          "data": {
            "text/plain": [
              "<IPython.core.display.HTML object>"
            ],
            "text/html": [
              " View run <strong style=\"color:#cdcd00\">twilight-sea-6</strong> at: <a href='https://wandb.ai/smai2023/imdb_review_sentiment_classification/runs/t0jhwqzc' target=\"_blank\">https://wandb.ai/smai2023/imdb_review_sentiment_classification/runs/t0jhwqzc</a><br/>Synced 5 W&B file(s), 0 media file(s), 0 artifact file(s) and 0 other file(s)"
            ]
          },
          "metadata": {}
        },
        {
          "output_type": "display_data",
          "data": {
            "text/plain": [
              "<IPython.core.display.HTML object>"
            ],
            "text/html": [
              "Find logs at: <code>./wandb/run-20240322_085242-t0jhwqzc/logs</code>"
            ]
          },
          "metadata": {}
        },
        {
          "output_type": "display_data",
          "data": {
            "text/plain": [
              "<IPython.core.display.HTML object>"
            ],
            "text/html": [
              "Successfully finished last run (ID:t0jhwqzc). Initializing new run:<br/>"
            ]
          },
          "metadata": {}
        },
        {
          "output_type": "display_data",
          "data": {
            "text/plain": [
              "<IPython.core.display.HTML object>"
            ],
            "text/html": [
              "Tracking run with wandb version 0.16.4"
            ]
          },
          "metadata": {}
        },
        {
          "output_type": "display_data",
          "data": {
            "text/plain": [
              "<IPython.core.display.HTML object>"
            ],
            "text/html": [
              "Run data is saved locally in <code>/content/wandb/run-20240322_085857-gm1cncdt</code>"
            ]
          },
          "metadata": {}
        },
        {
          "output_type": "display_data",
          "data": {
            "text/plain": [
              "<IPython.core.display.HTML object>"
            ],
            "text/html": [
              "Syncing run <strong><a href='https://wandb.ai/smai2023/imdb_review_sentiment_classification/runs/gm1cncdt' target=\"_blank\">spring-vortex-7</a></strong> to <a href='https://wandb.ai/smai2023/imdb_review_sentiment_classification' target=\"_blank\">Weights & Biases</a> (<a href='https://wandb.me/run' target=\"_blank\">docs</a>)<br/>"
            ]
          },
          "metadata": {}
        },
        {
          "output_type": "display_data",
          "data": {
            "text/plain": [
              "<IPython.core.display.HTML object>"
            ],
            "text/html": [
              " View project at <a href='https://wandb.ai/smai2023/imdb_review_sentiment_classification' target=\"_blank\">https://wandb.ai/smai2023/imdb_review_sentiment_classification</a>"
            ]
          },
          "metadata": {}
        },
        {
          "output_type": "display_data",
          "data": {
            "text/plain": [
              "<IPython.core.display.HTML object>"
            ],
            "text/html": [
              " View run at <a href='https://wandb.ai/smai2023/imdb_review_sentiment_classification/runs/gm1cncdt' target=\"_blank\">https://wandb.ai/smai2023/imdb_review_sentiment_classification/runs/gm1cncdt</a>"
            ]
          },
          "metadata": {}
        },
        {
          "output_type": "stream",
          "name": "stdout",
          "text": [
            "Epoch 1/10, Train Loss: 0.6990, Train Acc: 0.4958, Test Loss: 0.6949, Test Acc: 0.5100\n",
            "Epoch 2/10, Train Loss: 0.6913, Train Acc: 0.5141, Test Loss: 0.7039, Test Acc: 0.5008\n",
            "Epoch 3/10, Train Loss: 0.6838, Train Acc: 0.5300, Test Loss: 0.7064, Test Acc: 0.5092\n",
            "Epoch 4/10, Train Loss: 0.6893, Train Acc: 0.5128, Test Loss: 0.7013, Test Acc: 0.4998\n",
            "Epoch 5/10, Train Loss: 0.6738, Train Acc: 0.5338, Test Loss: 0.7105, Test Acc: 0.5110\n",
            "Epoch 6/10, Train Loss: 0.6573, Train Acc: 0.5427, Test Loss: 0.7320, Test Acc: 0.4960\n",
            "Epoch 7/10, Train Loss: 0.6448, Train Acc: 0.5508, Test Loss: 0.7468, Test Acc: 0.4972\n",
            "Epoch 8/10, Train Loss: 0.6322, Train Acc: 0.5534, Test Loss: 0.7624, Test Acc: 0.5104\n",
            "Epoch 9/10, Train Loss: 0.6229, Train Acc: 0.5527, Test Loss: 0.7863, Test Acc: 0.5096\n",
            "Epoch 10/10, Train Loss: 0.6198, Train Acc: 0.5585, Test Loss: 0.8019, Test Acc: 0.5090\n"
          ]
        },
        {
          "output_type": "display_data",
          "data": {
            "text/plain": [
              "<Figure size 1000x500 with 1 Axes>"
            ],
            "image/png": "[encoded data removed]"
          },
          "metadata": {}
        },
        {
          "output_type": "display_data",
          "data": {
            "text/plain": [
              "<Figure size 1000x500 with 1 Axes>"
            ],
            "image/png": "[encoded data removed]"
          },
          "metadata": {}
        }
      ]
    },
    {
      "cell_type": "code",
      "source": [
        "import torch\n",
        "import torch.nn as nn\n",
        "import torch.optim as optim\n",
        "from torch.utils.data import Dataset, DataLoader\n",
        "from datasets import load_dataset\n",
        "from nltk.tokenize import word_tokenize\n",
        "from nltk.stem import PorterStemmer, WordNetLemmatizer\n",
        "import numpy as np\n",
        "from tqdm import tqdm\n",
        "import wandb\n",
        "import matplotlib.pyplot as plt\n",
        "\n",
        "# Step 1: Prepare the Dataset\n",
        "\n",
        "class IMDBDataset(Dataset):\n",
        "    def __init__(self, reviews, labels, word_to_index, max_length):\n",
        "        self.reviews = reviews\n",
        "        self.labels = labels\n",
        "        self.word_to_index = word_to_index\n",
        "        self.max_length = max_length\n",
        "\n",
        "    def __len__(self):\n",
        "        return len(self.reviews)\n",
        "\n",
        "    def __getitem__(self, idx):\n",
        "        review = self.reviews[idx]\n",
        "        label = self.labels[idx]\n",
        "\n",
        "        # Tokenize and convert words to indices\n",
        "        review_indices = [self.word_to_index[word] if word in self.word_to_index else 0 for word in review]\n",
        "        # Pad or truncate the review to the max_length\n",
        "        review_indices = review_indices[:self.max_length] + [0] * (self.max_length - len(review_indices))\n",
        "\n",
        "        return torch.tensor(review_indices), torch.tensor(label)\n",
        "\n",
        "def preprocess_text(reviews, use_stemming=False):\n",
        "    if use_stemming:\n",
        "        stemmer = PorterStemmer()\n",
        "        preprocessed_reviews = [[stemmer.stem(token) for token in word_tokenize(review.lower())] for review in reviews]\n",
        "    else:\n",
        "        lemmatizer = WordNetLemmatizer()\n",
        "        preprocessed_reviews = [[lemmatizer.lemmatize(token) for token in word_tokenize(review.lower())] for review in reviews]\n",
        "    return preprocessed_reviews\n",
        "\n",
        "def create_word_to_index(reviews):\n",
        "    word_to_index = {}\n",
        "    index = 1  # Start index from # Start index from 1, reserve index 0 for padding\n",
        "    for review in reviews:\n",
        "        for word in review:\n",
        "            if word not in word_to_index:\n",
        "                word_to_index[word] = index\n",
        "                index += 1\n",
        "    return word_to_index\n",
        "\n",
        "# Step 2: Create Dataloaders\n",
        "\n",
        "def create_dataloaders(reviews, labels, word_to_index, max_length, batch_size, split_ratio=0.2):\n",
        "    dataset = IMDBDataset(reviews, labels, word_to_index, max_length)\n",
        "    train_size = int((1 - split_ratio) * len(dataset))\n",
        "    test_size = int(split_ratio * len(dataset))\n",
        "    train_dataset, test_dataset = torch.utils.data.random_split(dataset, [train_size, test_size])\n",
        "\n",
        "    train_loader = DataLoader(train_dataset, batch_size=batch_size, shuffle=True)\n",
        "    test_loader = DataLoader(test_dataset, batch_size=batch_size, shuffle=False)\n",
        "\n",
        "    return train_loader, test_loader\n",
        "\n",
        "# Step 3: Define the LSTM Model\n",
        "\n",
        "class LSTMModel(nn.Module):\n",
        "    def __init__(self, input_size, hidden_size, output_size, rnn_strategy='last_output'):\n",
        "        super(LSTMModel, self).__init__()\n",
        "        self.embedding = nn.Embedding(input_size, hidden_size)\n",
        "        self.lstm = nn.LSTM(hidden_size, hidden_size, batch_first=True)\n",
        "        self.fc = nn.Linear(hidden_size, output_size)\n",
        "        self.rnn_strategy = rnn_strategy\n",
        "\n",
        "    def forward(self, x):\n",
        "        embedded = self.embedding(x)\n",
        "        output, _ = self.lstm(embedded)\n",
        "\n",
        "        if self.rnn_strategy == 'last_output':\n",
        "            output = output[:, -1, :]  # Use the last output of the LSTM layer\n",
        "        elif self.rnn_strategy == 'mean_of_all_outputs':\n",
        "            output = output.mean(dim=1)  # Use the mean of all outputs of the LSTM layer\n",
        "\n",
        "        output = self.fc(output)\n",
        "        return output\n",
        "\n",
        "# Step 4: Training and Testing Functions\n",
        "\n",
        "def train_model(model, criterion, optimizer, train_loader, device):\n",
        "    model.train()\n",
        "    running_loss = 0.0\n",
        "    correct = 0\n",
        "    total = 0\n",
        "\n",
        "    for inputs, labels in train_loader:\n",
        "        inputs, labels = inputs.to(device), labels.to(device)\n",
        "\n",
        "        optimizer.zero_grad()\n",
        "        outputs = model(inputs)\n",
        "        loss = criterion(outputs, labels)\n",
        "        loss.backward()\n",
        "        optimizer.step()\n",
        "\n",
        "        running_loss += loss.item() * inputs.size(0)\n",
        "        _, predicted = torch.max(outputs, 1)\n",
        "        total += labels.size(0)\n",
        "        correct += (predicted == labels).sum().item()\n",
        "\n",
        "    return running_loss / total, correct / total\n",
        "\n",
        "def test_model(model, criterion, test_loader, device):\n",
        "    model.eval()\n",
        "    running_loss = 0.0\n",
        "    correct = 0\n",
        "    total = 0\n",
        "\n",
        "    with torch.no_grad():\n",
        "        for inputs, labels in test_loader:\n",
        "            inputs, labels = inputs.to(device), labels.to(device)\n",
        "\n",
        "            outputs = model(inputs)\n",
        "            loss = criterion(outputs, labels)\n",
        "\n",
        "            running_loss += loss.item() * inputs.size(0)\n",
        "            _, predicted = torch.max(outputs, 1)\n",
        "            total += labels.size(0)\n",
        "            correct += (predicted == labels).sum().item()\n",
        "\n",
        "    return running_loss / total, correct / total\n",
        "\n",
        "# Step 5: Hyperparameters and Training Loop\n",
        "\n",
        "def train_loop(train_loader, test_loader, model, criterion, optimizer, device, num_epochs, use_wandb=False):\n",
        "    train_losses = []\n",
        "    train_accuracies = []\n",
        "    test_losses = []\n",
        "    test_accuracies = []\n",
        "\n",
        "    for epoch in range(num_epochs):\n",
        "        train_loss, train_accuracy = train_model(model, criterion, optimizer, train_loader, device)\n",
        "        test_loss, test_accuracy = test_model(model, criterion, test_loader, device)\n",
        "\n",
        "        train_losses.append(train_loss)\n",
        "        train_accuracies.append(train_accuracy)\n",
        "        test_losses.append(test_loss)\n",
        "        test_accuracies.append(test_accuracy)\n",
        "\n",
        "        print(f'Epoch {epoch+1}/{num_epochs}, Train Loss: {train_loss:.4f}, Train Acc: {train_accuracy:.4f}, Test Loss: {test_loss:.4f}, Test Acc: {test_accuracy:.4f}')\n",
        "\n",
        "        if use_wandb:\n",
        "            wandb.log({\n",
        "                'epoch': epoch + 1,\n",
        "                'train_loss': train_loss,\n",
        "                'train_accuracy': train_accuracy,\n",
        "                'test_loss': test_loss,\n",
        "                'test_accuracy': test_accuracy\n",
        "            })\n",
        "\n",
        "    return train_losses, train_accuracies, test_losses, test_accuracies\n",
        "\n",
        "# Step 6: Main Function\n",
        "\n",
        "def load_imdb_dataset():\n",
        "    # Load the IMDb dataset\n",
        "    imdb_dataset = load_dataset(\"imdb\")\n",
        "\n",
        "    # Extract reviews and labels\n",
        "    reviews = imdb_dataset[\"train\"][\"text\"]\n",
        "    labels = imdb_dataset[\"train\"][\"label\"]\n",
        "\n",
        "    return reviews, labels\n",
        "\n",
        "def main():\n",
        "    reviews, labels = load_imdb_dataset()\n",
        "    # Define hyperparameters\n",
        "    max_vocab_size = 10000  # Maximum vocabulary size\n",
        "    hidden_size = 128\n",
        "    output_size = 2  # Binary classification: positive or negative\n",
        "    max_length = 500\n",
        "    batch_size = 64\n",
        "    learning_rate = 0.001\n",
        "    num_epochs = 10\n",
        "\n",
        "    # Preprocess and tokenize reviews\n",
        "    reviews = preprocess_text(reviews)\n",
        "    flat_reviews = [word for review in reviews for word in review]\n",
        "    word_freq = nltk.FreqDist(flat_reviews)\n",
        "    # Select the most common words up to the maximum vocabulary size\n",
        "    vocab = {word for word, _ in word_freq.most_common(max_vocab_size)}\n",
        "    word_to_index = {word: idx + 1 for idx, word in enumerate(vocab)}  # Reserve index 0 for padding\n",
        "\n",
        "    # Create DataLoader\n",
        "    train_loader, test_loader = create_dataloaders(reviews, labels, word_to_index, max_length, batch_size)\n",
        "\n",
        "    # Initialize model, criterion, and optimizer\n",
        "    device = torch.device('cuda' if torch.cuda.is_available() else 'cpu')\n",
        "    model = LSTMModel(input_size=len(word_to_index) + 1, hidden_size=hidden_size, output_size=output_size).to(device)  # Add 1 for padding index\n",
        "    criterion = nn.CrossEntropyLoss()\n",
        "    optimizer = optim.Adam(model.parameters(), lr=learning_rate)\n",
        "\n",
        "    # Initialize Weights & Biases if enabled\n",
        "    use_wandb = True  # Set to True to enable logging with wandb\n",
        "    if use_wandb:\n",
        "        wandb.init(project=\"imdb_review_sentiment_classification\", config={\n",
        "            \"max_vocab_size\": max_vocab_size,\n",
        "            \"hidden_size\": hidden_size,\n",
        "            \"output_size\": output_size,\n",
        "            \"max_length\": max_length,\n",
        "            \"batch_size\": batch_size,\n",
        "            \"learning_rate\": learning_rate,\n",
        "            \"num_epochs\": num_epochs,\n",
        "            \"use_stemming\": True,  # Change to False if not using stemming\n",
        "            \"rnn_strategy\": 'mean_of_all_outputs'  # Change to 'mean_of_all_outputs' to test different strategy\n",
        "        })\n",
        "        wandb.watch(model)\n",
        "\n",
        "    # Training loop\n",
        "    train_losses, train_accuracies, test_losses, test_accuracies = train_loop(train_loader, test_loader, model, criterion, optimizer, device, num_epochs, use_wandb)\n",
        "\n",
        "    # Plot loss and accuracy graphs\n",
        "    plt.figure(figsize=(10, 5))\n",
        "    plt.plot(range(1, num_epochs + 1), train_losses, label='Train Loss')\n",
        "    plt.plot(range(1, num_epochs + 1), test_losses, label='Test Loss')\n",
        "    plt.xlabel('Epochs')\n",
        "    plt.ylabel('Loss')\n",
        "    plt.title('Training and Test Loss')\n",
        "    plt.legend()\n",
        "    plt.show()\n",
        "\n",
        "    plt.figure(figsize=(10, 5))\n",
        "    plt.plot(range(1, num_epochs + 1), train_accuracies, label='Train Accuracy')\n",
        "    plt.plot(range(1, num_epochs + 1), test_accuracies, label='Test Accuracy')\n",
        "    plt.xlabel('Epochs')\n",
        "    plt.ylabel('Accuracy')\n",
        "    plt.title('Training and Test Accuracy')\n",
        "    plt.legend()\n",
        "    plt.show()\n",
        "\n",
        "if __name__ == \"__main__\":\n",
        "    main()"
      ],
      "metadata": {
        "colab": {
          "base_uri": "https://localhost:8080/",
          "height": 1000,
          "referenced_widgets": [
            "e01a692b946f4daf8d5489126c385ef4",
            "4937c2c88e1e48d49c1487c1d6b71bfa",
            "6773d2b3fdcc4b4b8ecd56b4fe6f6d66",
            "56d97eff87a8472d8f04c67566a6cb01",
            "dec2ffebb381465c88ce3bfeb7df9a92",
            "47283d5cd5754e9f8319abcd845a52c1",
            "36e72b727fe94ad1bde3b1f6943ba268",
            "a39a3a0f15f648bb922cbb3c391b0163"
          ]
        },
        "id": "jWNIZNbLcvxx",
        "outputId": "33c46af4-7d8b-409d-892e-361f8cea0177"
      },
      "execution_count": null,
      "outputs": [
        {
          "output_type": "display_data",
          "data": {
            "text/plain": [
              "<IPython.core.display.HTML object>"
            ],
            "text/html": [
              "Finishing last run (ID:hma4s8pv) before initializing another..."
            ]
          },
          "metadata": {}
        },
        {
          "output_type": "display_data",
          "data": {
            "text/plain": [
              "VBox(children=(Label(value='0.001 MB of 0.001 MB uploaded\\r'), FloatProgress(value=1.0, max=1.0)))"
            ],
            "application/vnd.jupyter.widget-view+json": {
              "version_major": 2,
              "version_minor": 0,
              "model_id": "e01a692b946f4daf8d5489126c385ef4"
            }
          },
          "metadata": {}
        },
        {
          "output_type": "display_data",
          "data": {
            "text/plain": [
              "<IPython.core.display.HTML object>"
            ],
            "text/html": [
              "<style>\n",
              "    table.wandb td:nth-child(1) { padding: 0 10px; text-align: left ; width: auto;} td:nth-child(2) {text-align: left ; width: 100%}\n",
              "    .wandb-row { display: flex; flex-direction: row; flex-wrap: wrap; justify-content: flex-start; width: 100% }\n",
              "    .wandb-col { display: flex; flex-direction: column; flex-basis: 100%; flex: 1; padding: 10px; }\n",
              "    </style>\n",
              "<div class=\"wandb-row\"><div class=\"wandb-col\"><h3>Run history:</h3><br/><table class=\"wandb\"><tr><td>epoch</td><td>▁▂▃▃▄▅▆▆▇█</td></tr><tr><td>test_accuracy</td><td>▂▃▂▅▂▄▁▆█▇</td></tr><tr><td>test_loss</td><td>▁▁▁▂▃▄▅▇▇█</td></tr><tr><td>train_accuracy</td><td>▁▂▃▄▅▇▇▇██</td></tr><tr><td>train_loss</td><td>█▇▇▆▅▃▂▂▁▁</td></tr></table><br/></div><div class=\"wandb-col\"><h3>Run summary:</h3><br/><table class=\"wandb\"><tr><td>epoch</td><td>10</td></tr><tr><td>test_accuracy</td><td>0.5114</td></tr><tr><td>test_loss</td><td>0.80785</td></tr><tr><td>train_accuracy</td><td>0.56385</td></tr><tr><td>train_loss</td><td>0.61562</td></tr></table><br/></div></div>"
            ]
          },
          "metadata": {}
        },
        {
          "output_type": "display_data",
          "data": {
            "text/plain": [
              "<IPython.core.display.HTML object>"
            ],
            "text/html": [
              " View run <strong style=\"color:#cdcd00\">sage-valley-8</strong> at: <a href='https://wandb.ai/smai2023/imdb_review_sentiment_classification/runs/hma4s8pv' target=\"_blank\">https://wandb.ai/smai2023/imdb_review_sentiment_classification/runs/hma4s8pv</a><br/>Synced 5 W&B file(s), 0 media file(s), 0 artifact file(s) and 0 other file(s)"
            ]
          },
          "metadata": {}
        },
        {
          "output_type": "display_data",
          "data": {
            "text/plain": [
              "<IPython.core.display.HTML object>"
            ],
            "text/html": [
              "Find logs at: <code>./wandb/run-20240322_090457-hma4s8pv/logs</code>"
            ]
          },
          "metadata": {}
        },
        {
          "output_type": "display_data",
          "data": {
            "text/plain": [
              "<IPython.core.display.HTML object>"
            ],
            "text/html": [
              "Successfully finished last run (ID:hma4s8pv). Initializing new run:<br/>"
            ]
          },
          "metadata": {}
        },
        {
          "output_type": "display_data",
          "data": {
            "text/plain": [
              "<IPython.core.display.HTML object>"
            ],
            "text/html": [
              "Tracking run with wandb version 0.16.4"
            ]
          },
          "metadata": {}
        },
        {
          "output_type": "display_data",
          "data": {
            "text/plain": [
              "<IPython.core.display.HTML object>"
            ],
            "text/html": [
              "Run data is saved locally in <code>/content/wandb/run-20240322_091836-b18boax9</code>"
            ]
          },
          "metadata": {}
        },
        {
          "output_type": "display_data",
          "data": {
            "text/plain": [
              "<IPython.core.display.HTML object>"
            ],
            "text/html": [
              "Syncing run <strong><a href='https://wandb.ai/smai2023/imdb_review_sentiment_classification/runs/b18boax9' target=\"_blank\">royal-moon-9</a></strong> to <a href='https://wandb.ai/smai2023/imdb_review_sentiment_classification' target=\"_blank\">Weights & Biases</a> (<a href='https://wandb.me/run' target=\"_blank\">docs</a>)<br/>"
            ]
          },
          "metadata": {}
        },
        {
          "output_type": "display_data",
          "data": {
            "text/plain": [
              "<IPython.core.display.HTML object>"
            ],
            "text/html": [
              " View project at <a href='https://wandb.ai/smai2023/imdb_review_sentiment_classification' target=\"_blank\">https://wandb.ai/smai2023/imdb_review_sentiment_classification</a>"
            ]
          },
          "metadata": {}
        },
        {
          "output_type": "display_data",
          "data": {
            "text/plain": [
              "<IPython.core.display.HTML object>"
            ],
            "text/html": [
              " View run at <a href='https://wandb.ai/smai2023/imdb_review_sentiment_classification/runs/b18boax9' target=\"_blank\">https://wandb.ai/smai2023/imdb_review_sentiment_classification/runs/b18boax9</a>"
            ]
          },
          "metadata": {}
        },
        {
          "output_type": "stream",
          "name": "stdout",
          "text": [
            "Epoch 1/10, Train Loss: 0.6951, Train Acc: 0.4994, Test Loss: 0.6925, Test Acc: 0.5164\n",
            "Epoch 2/10, Train Loss: 0.6902, Train Acc: 0.5115, Test Loss: 0.6931, Test Acc: 0.5140\n",
            "Epoch 3/10, Train Loss: 0.6797, Train Acc: 0.5255, Test Loss: 0.6989, Test Acc: 0.4950\n",
            "Epoch 4/10, Train Loss: 0.6567, Train Acc: 0.5388, Test Loss: 0.7193, Test Acc: 0.5172\n",
            "Epoch 5/10, Train Loss: 0.6061, Train Acc: 0.6293, Test Loss: 0.6569, Test Acc: 0.6608\n",
            "Epoch 6/10, Train Loss: 0.4703, Train Acc: 0.7870, Test Loss: 0.5696, Test Acc: 0.7452\n",
            "Epoch 7/10, Train Loss: 0.4187, Train Acc: 0.8130, Test Loss: 0.4996, Test Acc: 0.7980\n",
            "Epoch 8/10, Train Loss: 0.2967, Train Acc: 0.8841, Test Loss: 0.5103, Test Acc: 0.7886\n",
            "Epoch 9/10, Train Loss: 0.2377, Train Acc: 0.9116, Test Loss: 0.4830, Test Acc: 0.8134\n",
            "Epoch 10/10, Train Loss: 0.1917, Train Acc: 0.9309, Test Loss: 0.4895, Test Acc: 0.8260\n"
          ]
        },
        {
          "output_type": "display_data",
          "data": {
            "text/plain": [
              "<Figure size 1000x500 with 1 Axes>"
            ],
            "image/png": "[encoded data removed]"
          },
          "metadata": {}
        },
        {
          "output_type": "display_data",
          "data": {
            "text/plain": [
              "<Figure size 1000x500 with 1 Axes>"
            ],
            "image/png": "[encoded data removed]"
          },
          "metadata": {}
        }
      ]
    }
  ]
}